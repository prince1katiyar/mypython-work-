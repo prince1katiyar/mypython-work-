{
 "cells": [
  {
   "cell_type": "code",
   "execution_count": null,
   "id": "5cdca3b2-4cc3-454e-8dca-f106e6002fdd",
   "metadata": {},
   "outputs": [],
   "source": [
    "1. To what does a relative path refer?\n",
    "\n",
    "Relative paths are relative to the current working directory. When using relative path,\n",
    "we need to provide the absolute/complete path of file from the root directory,\n",
    "instead we can give the partial/relative path to indicate the file location."
   ]
  },
  {
   "cell_type": "code",
   "execution_count": null,
   "id": "640365d2-54ba-4d69-9be7-109373294022",
   "metadata": {},
   "outputs": [],
   "source": [
    "2. What does an absolute path start with your operating system?\n",
    "\n",
    "I am using Windows Operating System with Single Hard drive, so my absolute path starts with C:\\"
   ]
  },
  {
   "cell_type": "code",
   "execution_count": null,
   "id": "e24a8886-94a0-4d9f-a3c4-98a55c3dd1ec",
   "metadata": {},
   "outputs": [],
   "source": [
    "3. What do the functions os.getcwd() and os.chdir() do?\n",
    "\n",
    "os.getcwd() returns you the current working directory path\n",
    "os.chdir() is used to change the current working directory while running the program"
   ]
  },
  {
   "cell_type": "code",
   "execution_count": null,
   "id": "cb1cd364-3f6a-49f2-a63e-c071b4078d88",
   "metadata": {},
   "outputs": [],
   "source": [
    "4. What are the . and .. folders?\n",
    "\n",
    ". single dot means the current folder\n",
    " .. double dot means the parent folder"
   ]
  },
  {
   "cell_type": "code",
   "execution_count": null,
   "id": "8d7d0889-51e7-4bc8-ac10-ed8576e0de81",
   "metadata": {},
   "outputs": [],
   "source": [
    "5. In C:\\bacon\\eggs\\spam.txt, which part is the dir name, and which part is the base name?\n",
    "\n",
    "C:\\bacon\\eggs is the dir name\n",
    "spam.txt is the base name"
   ]
  },
  {
   "cell_type": "code",
   "execution_count": null,
   "id": "bce83581-7717-4aa9-86ce-f44bf7331378",
   "metadata": {},
   "outputs": [],
   "source": [
    "6. What are the three “mode” arguments that can be passed to the open() function?\n",
    "\n",
    "The three mode arguments that can be passed to the open() function are:\n",
    "\n",
    "\n",
    "'r' for read mode\n",
    "'w' for write mode\n",
    "'a' for append mode."
   ]
  },
  {
   "cell_type": "code",
   "execution_count": null,
   "id": "469e98c3-6047-4a19-93f0-bb3a1202b145",
   "metadata": {},
   "outputs": [],
   "source": [
    "7. What happens if an existing file is opened in write mode?\n",
    "\n",
    "If an existing file is opened in write mode, then all the existing content from the file is erased and the new content will be added.\n",
    "This might result in loss of data if you wanted to have both existing and new data to existing in the file"
   ]
  },
  {
   "cell_type": "code",
   "execution_count": null,
   "id": "a76791b6-256e-4042-be3e-67bab4d8a54d",
   "metadata": {},
   "outputs": [],
   "source": [
    "8. How do you tell the difference between read() and readlines()?\n",
    "\n",
    "The read() method returns the file’s entire contents as a single string value.\n",
    "The readlines() method returns a list of strings, where each string is a line from the file’s contents."
   ]
  },
  {
   "cell_type": "code",
   "execution_count": null,
   "id": "09475b83-e87f-43d0-ae06-ffade6c5f953",
   "metadata": {},
   "outputs": [],
   "source": []
  },
  {
   "cell_type": "code",
   "execution_count": null,
   "id": "3974b567-c7ba-4193-a128-5a3160a60387",
   "metadata": {},
   "outputs": [],
   "source": []
  },
  {
   "cell_type": "code",
   "execution_count": null,
   "id": "5c207fb2-47ee-4378-b1ae-9be47317b937",
   "metadata": {},
   "outputs": [],
   "source": []
  },
  {
   "cell_type": "code",
   "execution_count": null,
   "id": "65a802b5-06d7-4ea2-91c5-a1ccb8a4271b",
   "metadata": {},
   "outputs": [],
   "source": []
  },
  {
   "cell_type": "code",
   "execution_count": null,
   "id": "1ad80217-11fd-4ace-b7b9-b7e1b703eb83",
   "metadata": {},
   "outputs": [],
   "source": []
  },
  {
   "cell_type": "code",
   "execution_count": null,
   "id": "5ac07024-99f3-4cd5-9505-806b8c996f7a",
   "metadata": {},
   "outputs": [],
   "source": []
  },
  {
   "cell_type": "code",
   "execution_count": null,
   "id": "d9242771-4df2-43b0-b31c-5818ad9bb99b",
   "metadata": {},
   "outputs": [],
   "source": []
  },
  {
   "cell_type": "code",
   "execution_count": null,
   "id": "36231a7b-2607-44d7-b1ad-b4f7a6c467c9",
   "metadata": {},
   "outputs": [],
   "source": []
  },
  {
   "cell_type": "code",
   "execution_count": null,
   "id": "736a7dbc-a020-49e1-84c5-56f5ff4cb2f3",
   "metadata": {},
   "outputs": [],
   "source": []
  },
  {
   "cell_type": "code",
   "execution_count": null,
   "id": "83ac73d2-279a-471b-9c62-d0d65cb0e452",
   "metadata": {},
   "outputs": [],
   "source": []
  }
 ],
 "metadata": {
  "kernelspec": {
   "display_name": "Python 3 (ipykernel)",
   "language": "python",
   "name": "python3"
  },
  "language_info": {
   "codemirror_mode": {
    "name": "ipython",
    "version": 3
   },
   "file_extension": ".py",
   "mimetype": "text/x-python",
   "name": "python",
   "nbconvert_exporter": "python",
   "pygments_lexer": "ipython3",
   "version": "3.10.6"
  }
 },
 "nbformat": 4,
 "nbformat_minor": 5
}
