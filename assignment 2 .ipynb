{
 "cells": [
  {
   "cell_type": "code",
   "execution_count": 1,
   "id": "64db8c51-8717-4483-9eca-76217f56cd2a",
   "metadata": {},
   "outputs": [
    {
     "data": {
      "text/plain": [
       "7"
      ]
     },
     "execution_count": 1,
     "metadata": {},
     "output_type": "execute_result"
    }
   ],
   "source": [
    "1.What are the two values of the Boolean data type? How do you write them?\n",
    " ANSWER-\n",
    "    BOOLEAN HAVE TWO VALUES TRUE AND FALSE , Boolean expressions use relational and logical operators.\n",
    "     1 <= 2   True ,     \n",
    "     0 == 1   False .\n"
   ]
  },
  {
   "cell_type": "code",
   "execution_count": null,
   "id": "7ce2eef9-b891-4077-a26e-b2caf1bf90bd",
   "metadata": {},
   "outputs": [],
   "source": [
    "2. What are the three different types of Boolean operators?\n",
    "\n",
    "three boolean operators are : AND, OR, NOT \n",
    "and\t   True if both are true\t        example = x and y\n",
    "or\t   True if at least one is true\t    example  = x or y\n",
    "not\t   True only if false               example  = \tnot x "
   ]
  },
  {
   "cell_type": "code",
   "execution_count": null,
   "id": "1d44ad14-0373-49f8-ace6-9ed528d9d0cf",
   "metadata": {},
   "outputs": [],
   "source": [
    "3. Make a list of each Boolean operator truth tables (i.e. every possible combination of Boolean\n",
    "values for the operator and what it evaluate ).\n",
    "\n",
    "\n",
    "AND Truth Table\n",
    "x\tand\ty\t\n",
    "True\tand\tTrue\tTrue\n",
    "True\tand\tFalse\tFalse\n",
    "False\tand\tTrue\tFalse\n",
    "False\tand\tFalse\tFalse\n",
    "\n",
    "OR Truth Table\n",
    "x\tor\ty\tReturns\n",
    "True\tor\tTrue\tTrue\n",
    "True\tor\tFalse\tTrue\n",
    "False\tor\tTrue\tTrue\n",
    "False\tor\tFalse\tFalse\n",
    "\n",
    "NOT Truth Table\n",
    "not\tx\tReturns\n",
    "not\tTrue\tFalse\n",
    "not\tFalse\tTrue"
   ]
  },
  {
   "cell_type": "code",
   "execution_count": null,
   "id": "aee20c51-f62f-467a-bbaf-9ccb93a0bbdc",
   "metadata": {},
   "outputs": [],
   "source": [
    "4. What are the values of the following expressions?\n",
    "(5 > 4) and (3 == 5)\n",
    "not (5 > 4)\n",
    "(5 > 4) or (3 == 5)\n",
    "not ((5 > 4) or (3 == 5))\n",
    "(True and True) and (True == False)\n",
    "(not False) or (not True)"
   ]
  },
  {
   "cell_type": "code",
   "execution_count": 8,
   "id": "66768c43-b149-4ea7-a970-10e4b227b00c",
   "metadata": {},
   "outputs": [
    {
     "data": {
      "text/plain": [
       "False"
      ]
     },
     "execution_count": 8,
     "metadata": {},
     "output_type": "execute_result"
    }
   ],
   "source": [
    "(5 > 4) and (3 == 5)"
   ]
  },
  {
   "cell_type": "code",
   "execution_count": 3,
   "id": "003eccfb-93bb-474e-9944-bf3c76941aff",
   "metadata": {},
   "outputs": [
    {
     "data": {
      "text/plain": [
       "False"
      ]
     },
     "execution_count": 3,
     "metadata": {},
     "output_type": "execute_result"
    }
   ],
   "source": [
    "not (5 > 4)"
   ]
  },
  {
   "cell_type": "code",
   "execution_count": 4,
   "id": "76cd9b0b-3ac3-45d5-9866-1a05c26254d3",
   "metadata": {},
   "outputs": [
    {
     "data": {
      "text/plain": [
       "True"
      ]
     },
     "execution_count": 4,
     "metadata": {},
     "output_type": "execute_result"
    }
   ],
   "source": [
    "(5 > 4) or (3 == 5)"
   ]
  },
  {
   "cell_type": "code",
   "execution_count": 5,
   "id": "2c622822-f028-4caf-b993-29a3868fa750",
   "metadata": {},
   "outputs": [
    {
     "data": {
      "text/plain": [
       "False"
      ]
     },
     "execution_count": 5,
     "metadata": {},
     "output_type": "execute_result"
    }
   ],
   "source": [
    "not ((5 > 4) or (3 == 5))"
   ]
  },
  {
   "cell_type": "code",
   "execution_count": 6,
   "id": "4f6c905c-ef5d-4ba8-a8e4-104e9f5407c9",
   "metadata": {},
   "outputs": [
    {
     "data": {
      "text/plain": [
       "False"
      ]
     },
     "execution_count": 6,
     "metadata": {},
     "output_type": "execute_result"
    }
   ],
   "source": [
    "(True and True) and (True == False)"
   ]
  },
  {
   "cell_type": "code",
   "execution_count": 7,
   "id": "dba58c58-c2d5-4e20-856d-553cfef65cf3",
   "metadata": {},
   "outputs": [
    {
     "data": {
      "text/plain": [
       "True"
      ]
     },
     "execution_count": 7,
     "metadata": {},
     "output_type": "execute_result"
    }
   ],
   "source": [
    "(not False) or (not True)"
   ]
  },
  {
   "cell_type": "code",
   "execution_count": null,
   "id": "1f9683d8-352c-4d9e-ac00-8de9a17dd4ea",
   "metadata": {},
   "outputs": [],
   "source": [
    "5. What are the six comparison operators?\n",
    "\n",
    "\n",
    "Operator\tName\t                     Example\t\n",
    "==\t       Equal\t                     x == y\t\n",
    "!=         Not equal\t                 x != y\t\n",
    ">\t       Greater than\t                 x > y\t\n",
    "<\t       Less than\t                 x < y\t\n",
    ">=\t       Greater than or equal to\t     x >= y\t\n",
    "<=\t       Less than or equal to\t     x <= y\t\n"
   ]
  },
  {
   "cell_type": "code",
   "execution_count": 1,
   "id": "8afc64bc-5833-4627-9392-94076cc4e85f",
   "metadata": {},
   "outputs": [
    {
     "data": {
      "text/plain": [
       "10"
      ]
     },
     "execution_count": 1,
     "metadata": {},
     "output_type": "execute_result"
    }
   ],
   "source": [
    "6. How do you tell the difference between the equal to and assignment operators?Describe a\n",
    "condition and when you would use one.\n",
    "\n",
    "The “=” is an assignment operator is used to assign the value on the right to the variable on the left.\n",
    "a = 10;\n",
    "b = 20;\n",
    "\n",
    "The ‘==’ operator checks whether the two given operands are equal or not. If so, it returns true.\n",
    "5==5\n",
    "\n",
    " we use the == operater when we have to campare the tow vlue but whern we have to store a value then we use a = oprater .\n",
    "    \n"
   ]
  },
  {
   "cell_type": "code",
   "execution_count": null,
   "id": "5fc05fe2-4c88-40ca-97d5-c3a834ea2176",
   "metadata": {},
   "outputs": [],
   "source": [
    "7. Identify the three blocks in this code:\n",
    "spam = 0\n",
    "\n",
    "if spam == 10:\n",
    "    print('eggs')     # 1 block \n",
    "\n",
    "if spam  5:\n",
    "    print('bacon')     # 2second block\n",
    "else:\n",
    "\n",
    "    print('ham')     # 3 block\n",
    "    print('spam')\n",
    "    print('spam')"
   ]
  },
  {
   "cell_type": "code",
   "execution_count": null,
   "id": "39c046aa-b3f0-4c8b-9432-08619a5a6b9d",
   "metadata": {},
   "outputs": [],
   "source": [
    "8. Write code that prints Hello if 1 is stored in spam, prints Howdy if 2 is stored in spam, and prints\n",
    "Greetings! if anything else is stored in spam."
   ]
  },
  {
   "cell_type": "code",
   "execution_count": 6,
   "id": "dc7d64e9-35e5-4f45-aec4-bcad8d48c0f0",
   "metadata": {},
   "outputs": [
    {
     "name": "stdout",
     "output_type": "stream",
     "text": [
      "howdy\n"
     ]
    }
   ],
   "source": [
    "spam = (2)\n",
    "if spam == 1:\n",
    "    print (\"hello\")\n",
    "elif spam == 2:\n",
    "    print(\"howdy\")\n",
    "else:\n",
    "    print(\"greetings!\")\n",
    "    "
   ]
  },
  {
   "cell_type": "code",
   "execution_count": null,
   "id": "9d588ce8-f902-4457-a2ca-ada1eef85b97",
   "metadata": {},
   "outputs": [],
   "source": [
    "9.If your programme is stuck in an endless loop, what keys you’ll press?\n",
    " \n",
    "    CTRL+C"
   ]
  },
  {
   "cell_type": "code",
   "execution_count": 8,
   "id": "7a40d39a-c350-43e5-b422-39e6de48fce9",
   "metadata": {},
   "outputs": [
    {
     "name": "stdout",
     "output_type": "stream",
     "text": [
      "Object `continue` not found.\n",
      "s\n",
      "t\n",
      "r\n",
      "The end\n",
      "s\n",
      "t\n",
      "r\n",
      "n\n",
      "g\n",
      "The end\n"
     ]
    }
   ],
   "source": [
    "10. How can you tell the difference between break and continue?\n",
    "for val in \"string\":\n",
    "    if val == \"i\":\n",
    "        break\n",
    "    print(val)\n",
    "\n",
    "print(\"The end\")\n",
    "\n",
    "\n",
    "for val in \"string\":\n",
    "    if val == \"i\":\n",
    "        continue\n",
    "    print(val)\n",
    "\n",
    "print(\"The end\")"
   ]
  },
  {
   "cell_type": "code",
   "execution_count": 19,
   "id": "996ff93c-2fbf-494c-9342-ed7e7c48fd78",
   "metadata": {},
   "outputs": [
    {
     "name": "stdout",
     "output_type": "stream",
     "text": [
      "0, 1, 2, 3, 4, 5, 6, 7, 8, 9, "
     ]
    }
   ],
   "source": [
    "# 11. In a for loop, what is the difference between range(10), range(0, 10), and range(0, 10, 1)?\n",
    "\n",
    "for i in range(10):\n",
    "    print(i, end=\", \")      # HERE WE ARE  NOT GIVING START VLAUE  HERE IT EXECUTE TILL END  FROM O .\n",
    "    "
   ]
  },
  {
   "cell_type": "code",
   "execution_count": 20,
   "id": "dc3e0f58-42b1-48b6-9f49-ab6cd7335307",
   "metadata": {},
   "outputs": [
    {
     "name": "stdout",
     "output_type": "stream",
     "text": [
      "0, 1, 2, 3, 4, 5, 6, 7, 8, 9, "
     ]
    }
   ],
   "source": [
    "for i in range(0,10):\n",
    "    print(i, end=\", \")   # HERE WE ARE GIVING THE STARTING AND THE ENDING VALUE IN RANGE "
   ]
  },
  {
   "cell_type": "code",
   "execution_count": 21,
   "id": "a449ab59-cd54-4e1d-8558-bea6a56c6cf4",
   "metadata": {},
   "outputs": [
    {
     "name": "stdout",
     "output_type": "stream",
     "text": [
      "0, 1, 2, 3, 4, 5, 6, 7, 8, 9, "
     ]
    }
   ],
   "source": [
    "for i in range(0,10,1):    # HERE WE ARE  GIVING ALL (START,END, STEP) VALUE . \n",
    "    print(i, end=\", \")"
   ]
  },
  {
   "cell_type": "code",
   "execution_count": 26,
   "id": "65417bd2-ca0c-43ce-b3f8-a865145d7999",
   "metadata": {},
   "outputs": [
    {
     "ename": "SyntaxError",
     "evalue": "invalid syntax (354072017.py, line 2)",
     "output_type": "error",
     "traceback": [
      "\u001b[0;36m  Cell \u001b[0;32mIn [26], line 2\u001b[0;36m\u001b[0m\n\u001b[0;31m    program that prints the numbers 1 to 10 using a while loop.\u001b[0m\n\u001b[0m            ^\u001b[0m\n\u001b[0;31mSyntaxError\u001b[0m\u001b[0;31m:\u001b[0m invalid syntax\n"
     ]
    }
   ],
   "source": [
    "12. Write a short program that prints the numbers 1 to 10 using a for loop. Then write an equivalent\n",
    "program that prints the numbers 1 to 10 using a while loop.\n"
   ]
  },
  {
   "cell_type": "code",
   "execution_count": 23,
   "id": "c1bdd8be-9b02-41d9-a9de-e4211dcd0bfe",
   "metadata": {},
   "outputs": [
    {
     "name": "stdout",
     "output_type": "stream",
     "text": [
      "0\n",
      "1\n",
      "2\n",
      "3\n",
      "4\n",
      "5\n",
      "6\n",
      "7\n",
      "8\n",
      "9\n",
      "10\n"
     ]
    }
   ],
   "source": [
    "for i in range(0,11):\n",
    "    print(i)"
   ]
  },
  {
   "cell_type": "code",
   "execution_count": 24,
   "id": "88264d2b-180a-4960-9f25-53bbb1fda5de",
   "metadata": {},
   "outputs": [
    {
     "name": "stdout",
     "output_type": "stream",
     "text": [
      "0\n",
      "1\n",
      "2\n",
      "3\n",
      "4\n",
      "5\n",
      "6\n",
      "7\n",
      "8\n",
      "9\n",
      "10\n"
     ]
    }
   ],
   "source": [
    "i=0 \n",
    "while i <11:\n",
    "    print(i)\n",
    "    i=i+1"
   ]
  },
  {
   "cell_type": "code",
   "execution_count": null,
   "id": "92c8589b-4912-4bf5-a556-1fa7c70433db",
   "metadata": {},
   "outputs": [],
   "source": [
    "13. If you had a function named bacon() inside a module named spam, how would you call it after\n",
    "importing spam?\n"
   ]
  },
  {
   "cell_type": "code",
   "execution_count": 27,
   "id": "cb6f8716-8d65-4eb8-add7-6599b12d2d76",
   "metadata": {},
   "outputs": [
    {
     "ename": "ModuleNotFoundError",
     "evalue": "No module named 'spam'",
     "output_type": "error",
     "traceback": [
      "\u001b[0;31m---------------------------------------------------------------------------\u001b[0m",
      "\u001b[0;31mModuleNotFoundError\u001b[0m                       Traceback (most recent call last)",
      "Cell \u001b[0;32mIn [27], line 1\u001b[0m\n\u001b[0;32m----> 1\u001b[0m \u001b[38;5;28;01mimport\u001b[39;00m \u001b[38;5;21;01mspam\u001b[39;00m \u001b[38;5;28;01mas\u001b[39;00m \u001b[38;5;21;01msp\u001b[39;00m \n\u001b[1;32m      3\u001b[0m sp\u001b[38;5;241m.\u001b[39mspam()\n",
      "\u001b[0;31mModuleNotFoundError\u001b[0m: No module named 'spam'"
     ]
    }
   ],
   "source": [
    "import spam as sp \n",
    "\n",
    "print(sp.barcon())"
   ]
  }
 ],
 "metadata": {
  "kernelspec": {
   "display_name": "Python 3 (ipykernel)",
   "language": "python",
   "name": "python3"
  },
  "language_info": {
   "codemirror_mode": {
    "name": "ipython",
    "version": 3
   },
   "file_extension": ".py",
   "mimetype": "text/x-python",
   "name": "python",
   "nbconvert_exporter": "python",
   "pygments_lexer": "ipython3",
   "version": "3.10.6"
  }
 },
 "nbformat": 4,
 "nbformat_minor": 5
}
