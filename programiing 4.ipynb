{
 "cells": [
  {
   "cell_type": "code",
   "execution_count": null,
   "id": "9cf7091c-e33f-4fea-9235-4791193bcbfa",
   "metadata": {},
   "outputs": [],
   "source": [
    "1. Write a Python Program to Find the Factorial of a Number?"
   ]
  },
  {
   "cell_type": "code",
   "execution_count": 1,
   "id": "57c44f5b-1da7-4c9b-aa5f-76bbdf826e3a",
   "metadata": {},
   "outputs": [
    {
     "name": "stdin",
     "output_type": "stream",
     "text": [
      "enter the number  u want to find the factorial : 5\n"
     ]
    },
    {
     "name": "stdout",
     "output_type": "stream",
     "text": [
      "120\n"
     ]
    }
   ],
   "source": [
    "value=int((input(\"enter the number  u want to find the factorial :\")))\n",
    "\n",
    "b=1\n",
    "for i in range(1,value+1):\n",
    "    b=b*i\n",
    "print(b)\n"
   ]
  },
  {
   "cell_type": "code",
   "execution_count": null,
   "id": "e07fbe2e-b420-49e3-997c-5ba273b4663b",
   "metadata": {},
   "outputs": [],
   "source": [
    "2. Write a Python Program to Display the multiplication Table?"
   ]
  },
  {
   "cell_type": "code",
   "execution_count": 2,
   "id": "09a8c509-4a2f-4072-b70e-27700a1c05dc",
   "metadata": {},
   "outputs": [
    {
     "name": "stdin",
     "output_type": "stream",
     "text": [
      "enter the number  u want to find the table : 3\n"
     ]
    },
    {
     "name": "stdout",
     "output_type": "stream",
     "text": [
      "3,  X  1 = 3\n",
      "3,  X  2 = 6\n",
      "3,  X  3 = 9\n",
      "3,  X  4 = 12\n",
      "3,  X  5 = 15\n",
      "3,  X  6 = 18\n",
      "3,  X  7 = 21\n",
      "3,  X  8 = 24\n",
      "3,  X  9 = 27\n",
      "3,  X  10 = 30\n"
     ]
    }
   ],
   "source": [
    "num=int((input(\"enter the number  u want to find the table :\")))\n",
    "l=[1,2,3,4,5,6,7,8,9,10]\n",
    "\n",
    "for i in l:\n",
    "    p=i*num\n",
    "    print(f\"{num}  X  {i} = {p}\")"
   ]
  },
  {
   "cell_type": "code",
   "execution_count": null,
   "id": "8e152362-90a0-475d-b8e7-4d57f78a43e2",
   "metadata": {},
   "outputs": [],
   "source": [
    "3. Write a Python Program to Print the Fibonacci sequence?"
   ]
  },
  {
   "cell_type": "code",
   "execution_count": 4,
   "id": "556a8091-cbac-491e-9a9c-c730d1e95e26",
   "metadata": {},
   "outputs": [
    {
     "name": "stdin",
     "output_type": "stream",
     "text": [
      "enter the number  u want to find the febonacci series: 5\n"
     ]
    },
    {
     "name": "stdout",
     "output_type": "stream",
     "text": [
      "1 2 3 5 8 13 "
     ]
    }
   ],
   "source": [
    "value=int((input(\"enter the number  u want to find the febonacci series:\")))\n",
    "l=[]\n",
    "a=0\n",
    "b=1\n",
    "for i in range(0,value+1):\n",
    "    a,b=b,b+a\n",
    "    l.append(b)\n",
    "    print(b,end=\" \")"
   ]
  },
  {
   "cell_type": "code",
   "execution_count": null,
   "id": "f15db0ac-6d5c-46a9-a01c-a53d090f2683",
   "metadata": {},
   "outputs": [],
   "source": [
    "4. Write a Python Program to Check Armstrong Number?"
   ]
  },
  {
   "cell_type": "code",
   "execution_count": 11,
   "id": "52464de7-75f2-46c9-b67a-c4fb1ba3fe68",
   "metadata": {},
   "outputs": [
    {
     "name": "stdin",
     "output_type": "stream",
     "text": [
      "enter the number  370\n"
     ]
    },
    {
     "name": "stdout",
     "output_type": "stream",
     "text": [
      "armstrong\n"
     ]
    }
   ],
   "source": [
    "\n",
    "n =int(input(\"enter the number \"))  \n",
    "temp = n\n",
    "\n",
    "p = 0\n",
    " \n",
    "while (n >0):\n",
    "  rem = n % 10\n",
    "  p = (p) + (rem * rem * rem);\n",
    "  n = n // 10\n",
    "\n",
    "if temp == p:\n",
    "  print(\"armstrong\")\n",
    "else:\n",
    "  print(\"not a armstrong number\")"
   ]
  },
  {
   "cell_type": "code",
   "execution_count": null,
   "id": "3bce8feb-80bb-463e-ba2a-f3c7024dc6e8",
   "metadata": {},
   "outputs": [],
   "source": [
    "5. Write a Python Program to Find Armstrong Number in an Interval?"
   ]
  },
  {
   "cell_type": "code",
   "execution_count": 12,
   "id": "34dda8bc-b945-4a0c-b23b-78fefc0aa37b",
   "metadata": {},
   "outputs": [
    {
     "name": "stdout",
     "output_type": "stream",
     "text": [
      "153\n",
      "370\n",
      "371\n",
      "407\n",
      "1634\n"
     ]
    }
   ],
   "source": [
    "\n",
    "\n",
    "lower = 100\n",
    "upper = 2000\n",
    "\n",
    "for num in range(lower, upper + 1):\n",
    "\n",
    "   \n",
    "   order = len(str(num))\n",
    "    \n",
    "   # initialize sum\n",
    "   sum = 0\n",
    "\n",
    "   temp = num\n",
    "   while temp > 0:\n",
    "       digit = temp % 10\n",
    "       sum += digit ** order\n",
    "       temp //= 10\n",
    "\n",
    "   if num == sum:\n",
    "       print(num)"
   ]
  },
  {
   "cell_type": "code",
   "execution_count": null,
   "id": "96a9f97b-1ec0-41c7-ad15-0b817282a1bd",
   "metadata": {},
   "outputs": [],
   "source": [
    "6. Write a Python Program to Find the Sum of Natural Numbers?"
   ]
  },
  {
   "cell_type": "code",
   "execution_count": 36,
   "id": "b3fba407-40fd-4d6f-80a0-943ce60ec709",
   "metadata": {},
   "outputs": [
    {
     "name": "stdin",
     "output_type": "stream",
     "text": [
      "enter a number u want to sum 10\n"
     ]
    },
    {
     "name": "stdout",
     "output_type": "stream",
     "text": [
      "sum is : 55\n"
     ]
    }
   ],
   "source": [
    "num = int(input(\"enter a number u want to sum\"))\n",
    "if num < 0:\n",
    "    print(\"enter the positvie number\")\n",
    "else:\n",
    "    sum=0\n",
    "    while (num >= 0):\n",
    "        sum = sum+num\n",
    "        num = num -1\n",
    "    print(\"sum is :\",sum)"
   ]
  },
  {
   "cell_type": "code",
   "execution_count": 19,
   "id": "bb841dc0-f09d-4b28-9ae4-731d40b5fc9d",
   "metadata": {},
   "outputs": [
    {
     "name": "stdout",
     "output_type": "stream",
     "text": [
      "The sum is 55\n"
     ]
    }
   ],
   "source": [
    "# Sum of natural numbers up to num\n",
    "\n",
    "num = 10\n",
    "\n",
    "if num < 0:\n",
    "   print(\"Enter a positive number\")\n",
    "else:\n",
    "   sum = 0\n",
    "   # use while loop to iterate until zero\n",
    "   while(num > 0):\n",
    "       sum += num\n",
    "       num -= 1\n",
    "   print(\"The sum is\", sum)"
   ]
  },
  {
   "cell_type": "code",
   "execution_count": null,
   "id": "8c2423fd-1df9-484b-af72-74d10ec77bba",
   "metadata": {},
   "outputs": [],
   "source": []
  },
  {
   "cell_type": "code",
   "execution_count": null,
   "id": "5bdffb57-90f0-42a4-9998-a64d08ad9f10",
   "metadata": {},
   "outputs": [],
   "source": []
  },
  {
   "cell_type": "code",
   "execution_count": null,
   "id": "b8c84ef9-2d89-4539-bd16-4562f46b558e",
   "metadata": {},
   "outputs": [],
   "source": []
  }
 ],
 "metadata": {
  "kernelspec": {
   "display_name": "Python 3 (ipykernel)",
   "language": "python",
   "name": "python3"
  },
  "language_info": {
   "codemirror_mode": {
    "name": "ipython",
    "version": 3
   },
   "file_extension": ".py",
   "mimetype": "text/x-python",
   "name": "python",
   "nbconvert_exporter": "python",
   "pygments_lexer": "ipython3",
   "version": "3.10.6"
  }
 },
 "nbformat": 4,
 "nbformat_minor": 5
}
