{
 "cells": [
  {
   "cell_type": "code",
   "execution_count": null,
   "id": "c517c5dc-e2af-446b-bccb-6f641d9243ab",
   "metadata": {},
   "outputs": [],
   "source": [
    "Q1. What are the two latest user-defined exception constraints in Python 3.X?\n",
    "\n",
    "The __cause__ attribute: This attribute is used to specify another exception object that caused the current exception to be raised. \n",
    "It is used to provide a chain of exceptions that can be traced back to the original cause of the error.\n",
    "\n",
    "The __context__ attribute: This attribute is used to specify another exception object that provides context for the current exception. \n",
    "It is used to provide additional information about the context in which the error occurred."
   ]
  },
  {
   "cell_type": "code",
   "execution_count": null,
   "id": "6093979c-2020-4f30-9403-d8e5ed663209",
   "metadata": {},
   "outputs": [],
   "source": [
    "Q2. How are class-based exceptions that have been raised matched to handlers?\n",
    "\n",
    "In Python, when a class-based exception is raised using the raise statement, the interpreter first looks for an appropriate exception handler that matches the type of the exception.\n",
    "If a matching exception handler is found, it is executed and the exception is considered to be \"handled\". If no matching exception handler is found,\n",
    "the interpreter continues to propagate the exception up the call stack until it is handled or reaches the top level of the program,\n",
    "where it will cause the program to terminate."
   ]
  },
  {
   "cell_type": "code",
   "execution_count": null,
   "id": "03599cc9-f1f2-4f04-83bc-648461b87af4",
   "metadata": {},
   "outputs": [],
   "source": [
    "Q3. Describe two methods for attaching context information to exception artefacts.\n",
    "\n",
    "Using the raise ... from ... syntax: Starting from Python 3, you can use the raise ... from ... syntax to attach a \"cause\" exception to a raised exception. \n",
    "This can be useful in situations where one exception is caused by another exception.\n",
    "Using the traceback module: The traceback module provides several functions for manipulating and formatting traceback objects.\n",
    "You can use the format_exc function to format a traceback as a string and include it in an exception message"
   ]
  },
  {
   "cell_type": "code",
   "execution_count": null,
   "id": "5543e4a4-9bf1-41ad-b644-fa1cefdedd8f",
   "metadata": {},
   "outputs": [],
   "source": [
    "Q4. Describe two methods for specifying the text of an exception object error message.\n",
    "\n",
    "Using the raise statement with a string argument:\n",
    "    The simplest way to specify the text of an exception object error message is to pass a string argument to the raise statement. \n",
    "Defining a custom exception class with a __str__ method:\n",
    "    Another way to specify the text of an exception object error message is to define a custom exception\n",
    "    class and implement a __str__ method that returns the error message"
   ]
  },
  {
   "cell_type": "code",
   "execution_count": null,
   "id": "bcda1938-d60a-4129-9779-3b40613a71fd",
   "metadata": {},
   "outputs": [],
   "source": [
    "Q5. Why do you no longer use string-based exceptions?\n",
    "\n",
    "Lack of structure: String-based exceptions provide no structure or type information about the exception,\n",
    "making it difficult to handle exceptions in a consistent and reliable way.\n",
    "\n",
    "Lack of localization support: String-based exceptions cannot be easily translated or localized to support different languages or locales. \n",
    "\n",
    "Incompatibility with the exception hierarchy: The exception hierarchy in Python is based on classes,\n",
    "with built-in exception classes like ValueError and TypeError that inherit from the BaseException class."
   ]
  },
  {
   "cell_type": "code",
   "execution_count": null,
   "id": "0cdeb2f4-58a5-4a92-b974-56aba419cd7f",
   "metadata": {},
   "outputs": [],
   "source": []
  },
  {
   "cell_type": "code",
   "execution_count": null,
   "id": "a7aebca1-581d-40dc-834e-7c7811d5f472",
   "metadata": {},
   "outputs": [],
   "source": []
  }
 ],
 "metadata": {
  "kernelspec": {
   "display_name": "Python 3 (ipykernel)",
   "language": "python",
   "name": "python3"
  },
  "language_info": {
   "codemirror_mode": {
    "name": "ipython",
    "version": 3
   },
   "file_extension": ".py",
   "mimetype": "text/x-python",
   "name": "python",
   "nbconvert_exporter": "python",
   "pygments_lexer": "ipython3",
   "version": "3.10.6"
  }
 },
 "nbformat": 4,
 "nbformat_minor": 5
}
