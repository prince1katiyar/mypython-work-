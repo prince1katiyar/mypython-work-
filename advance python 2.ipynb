{
 "cells": [
  {
   "cell_type": "code",
   "execution_count": null,
   "id": "9d84f969-ea3d-4a62-9672-dc2eadfea921",
   "metadata": {},
   "outputs": [],
   "source": [
    "1. What is the concept of an abstract superclass?\n",
    "\n",
    "\n",
    "An abstract superclass is a class that is designed to be inherited by other classes, but is not intended to be instantiated on its own. \n",
    "An abstract superclass defines a set of common behaviors, properties, and methods that can be shared by its subclasses.\n",
    "In object-oriented programming, an abstract superclass is often used as a template or blueprint for creating more specialized classes.\n",
    "By defining common features and behaviors in the abstract superclass, developers can reduce code duplication and improve the maintainability of their code\n"
   ]
  },
  {
   "cell_type": "code",
   "execution_count": null,
   "id": "628fb03f-6eb7-428c-9eb1-910262c67d8d",
   "metadata": {},
   "outputs": [],
   "source": [
    "2. What happens when a class statement top level contains a basic assignment statement?\n",
    "\n",
    "When a class statement's top level contains a basic assignment statement, it creates a class-level variable that is shared by all instances of the class. \n",
    "This means that the variable's value can be accessed and modified by any method of the class or any instance of the class.\n",
    "\n",
    "\n",
    "class MyClass:\n",
    "    class_var = 0\n",
    "    \n",
    "    def __init__(self):\n",
    "        self.instance_var = 0\n",
    "        \n",
    "        \n",
    "print(MyClass.class_var)\n",
    "MyClass.class_var = 1\n",
    "print(MyClass.class_var)\n",
    "\n"
   ]
  },
  {
   "cell_type": "code",
   "execution_count": null,
   "id": "e6f668cd-448b-4e36-b3c5-91ff5533ea43",
   "metadata": {},
   "outputs": [],
   "source": [
    "3. Why does a class need to manually call a superclass  __init__ method?"
   ]
  },
  {
   "cell_type": "code",
   "execution_count": null,
   "id": "a47ed3a2-1127-4ccc-9804-07d7573ed50c",
   "metadata": {},
   "outputs": [
    {
     "name": "stdout",
     "output_type": "stream",
     "text": [
      "Created a new animal with name: Buddy\n",
      "Created a new dog with breed: Labrador Retriever\n"
     ]
    }
   ],
   "source": [
    "class Animal:\n",
    "    def __init__(self, name):\n",
    "        self.name = name\n",
    "        print(\"Created a new animal with name:\", self.name)\n",
    "\n",
    "class Dog(Animal):\n",
    "    def __init__(self, name, breed):\n",
    "        self.breed = breed\n",
    "        Animal.__init__(self, name)\n",
    "        print(\"Created a new dog with breed:\", self.breed)\n",
    "\n",
    "my_dog = Dog(\"Buddy\", \"Labrador Retriever\")\n"
   ]
  },
  {
   "cell_type": "code",
   "execution_count": null,
   "id": "3180a80d-ddb2-4693-8622-975ba264d3fc",
   "metadata": {},
   "outputs": [],
   "source": [
    "4. How can you augment, instead of completely replacing, an inherited method?"
   ]
  },
  {
   "cell_type": "code",
   "execution_count": null,
   "id": "22b3ead9-0433-4999-92c9-0a0ac17b6a67",
   "metadata": {},
   "outputs": [],
   "source": []
  },
  {
   "cell_type": "code",
   "execution_count": null,
   "id": "c4e63fca-5728-4bc1-b289-1cddc66495e7",
   "metadata": {},
   "outputs": [],
   "source": []
  },
  {
   "cell_type": "code",
   "execution_count": null,
   "id": "fc08d8ab-0ee6-4a96-ad52-aeb01d56aa3d",
   "metadata": {},
   "outputs": [],
   "source": []
  }
 ],
 "metadata": {
  "kernelspec": {
   "display_name": "Python 3 (ipykernel)",
   "language": "python",
   "name": "python3"
  },
  "language_info": {
   "codemirror_mode": {
    "name": "ipython",
    "version": 3
   },
   "file_extension": ".py",
   "mimetype": "text/x-python",
   "name": "python",
   "nbconvert_exporter": "python",
   "pygments_lexer": "ipython3",
   "version": "3.10.6"
  }
 },
 "nbformat": 4,
 "nbformat_minor": 5
}
