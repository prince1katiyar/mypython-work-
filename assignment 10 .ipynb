{
 "cells": [
  {
   "cell_type": "code",
   "execution_count": null,
   "id": "df7553ee-929b-4884-b8ab-9b0b5f35168a",
   "metadata": {},
   "outputs": [],
   "source": [
    "1. How do you distinguish between shutil.copy() and shutil.copytree()?\n",
    "\n",
    "The shutil.copy() function will copy a single file, while shutil.copytree() will copy an entire folder,\n",
    "along with all its contents."
   ]
  },
  {
   "cell_type": "code",
   "execution_count": null,
   "id": "6080c648-5daa-40c5-ab5b-dde9a9052763",
   "metadata": {},
   "outputs": [],
   "source": [
    "What function is used to rename files??\n",
    "\n",
    "The shutil.move() function is used for renaming files, as well as moving them.\n",
    "shutil.move('C:\\\\bacon.txt', 'C:\\\\eggs\\\\new_bacon.txt') \n",
    " \n",
    "    here move function only bacon.txt file into eggs folder with new name new_bacon .txt ,\n",
    "    if shutil.move('C:\\\\bacon.txt', 'C:\\\\eggs')\n",
    "    then it will rename it automatically by eggs.txt"
   ]
  },
  {
   "cell_type": "code",
   "execution_count": null,
   "id": "943992da-591b-47d0-913f-df002e4f2119",
   "metadata": {},
   "outputs": [],
   "source": [
    "3. What is the difference between the delete functions in the send2trash and shutil modules?\n",
    "\n",
    "The send2trash functions will move a file or folder to the recycle bin,\n",
    "Using send2trash is much safer than Python’s regular delete functions,\n",
    "because it will send folders and files to your computer’s trash or recycle bin instead of permanently deleting them\n",
    "\n",
    "while shutil functions will permanently delete files and folders.\n",
    "os.unlink(path) will delete the file at path.\n",
    "os.rmdir(path) will delete the folder at path. This folder must be empty of any files or folders.\n",
    "shutil.rmtree(path) will remove the folder at path, and all files and folders it contains will also be deleted.\n"
   ]
  },
  {
   "cell_type": "code",
   "execution_count": null,
   "id": "a3a864aa-005a-4aba-90bb-409fee92143b",
   "metadata": {},
   "outputs": [],
   "source": [
    "4.ZipFile objects have a close() method just like File objects’ close() method. What ZipFile method is\n",
    "equivalent to File objects’ open() method?\n",
    "\n",
    "The zipfile.ZipFile() function is equivalent to the open() function; the first argument is the filename,\n",
    "and the second argument is the mode to open the ZIP file in (read, write, or append)"
   ]
  },
  {
   "cell_type": "code",
   "execution_count": null,
   "id": "763654ee-8281-479b-8c24-c5fccfde8582",
   "metadata": {},
   "outputs": [],
   "source": [
    "5. Create a programme that searches a folder tree for files with a certain file extension (such as .pdf\n",
    "or .jpg). Copy these files from whatever location they are in to a new folder.\n",
    "\n"
   ]
  },
  {
   "cell_type": "code",
   "execution_count": 1,
   "id": "53876385-f9f2-494d-a6c2-291d8011cf2e",
   "metadata": {},
   "outputs": [
    {
     "name": "stdout",
     "output_type": "stream",
     "text": [
      "Looking in /home/jovyan/work/randomFolder for files with extensions of .php, .py\n"
     ]
    }
   ],
   "source": [
    "\n",
    "import os, shutil\n",
    "\n",
    "def selectiveCopy(folder, extensions, destFolder):\n",
    "\tfolder = os.path.abspath(folder)\n",
    "\tdestFolder = os.path.abspath(destFolder)\n",
    "\tprint('Looking in', folder, 'for files with extensions of', ', '.join(extensions))\n",
    "\tfor foldername, subfolders, filenames in os.walk(folder):\n",
    "\t\tfor filename in filenames:\n",
    "\t\t\tname, extension = os.path.splitext(filename)\n",
    "\t\t\tif extension in extensions:\n",
    "\t\t\t\tfileAbsPath = foldername + os.path.sep + filename\n",
    "\t\t\t\tprint('Coping', fileAbsPath, 'to', destFolder)\n",
    "\t\t\t\tshutil.copy(fileAbsPath, destFolder)\n",
    "\n",
    "extensions = ['.php', '.py']\n",
    "folder = 'randomFolder'\n",
    "destFolder = 'selectiveFolder'\n",
    "selectiveCopy(folder, extensions, destFolder)"
   ]
  }
 ],
 "metadata": {
  "kernelspec": {
   "display_name": "Python 3 (ipykernel)",
   "language": "python",
   "name": "python3"
  },
  "language_info": {
   "codemirror_mode": {
    "name": "ipython",
    "version": 3
   },
   "file_extension": ".py",
   "mimetype": "text/x-python",
   "name": "python",
   "nbconvert_exporter": "python",
   "pygments_lexer": "ipython3",
   "version": "3.10.6"
  }
 },
 "nbformat": 4,
 "nbformat_minor": 5
}
