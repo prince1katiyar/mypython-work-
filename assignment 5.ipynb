{
 "cells": [
  {
   "cell_type": "code",
   "execution_count": 2,
   "id": "a7038bed-b85d-4bb1-a4e4-c539d2677b23",
   "metadata": {},
   "outputs": [
    {
     "name": "stdout",
     "output_type": "stream",
     "text": [
      "Object `like` not found.\n"
     ]
    },
    {
     "data": {
      "text/plain": [
       "{}"
      ]
     },
     "execution_count": 2,
     "metadata": {},
     "output_type": "execute_result"
    }
   ],
   "source": [
    "1. What does an empty dictionary code look like?\n",
    "d={\n",
    "  }\n",
    "d"
   ]
  },
  {
   "cell_type": "code",
   "execution_count": null,
   "id": "8da32441-a3b3-4d8c-b0eb-8143fd3cb3ba",
   "metadata": {},
   "outputs": [],
   "source": [
    "2. What is the value of a dictionary value with the key foo  and the value 42?"
   ]
  },
  {
   "cell_type": "code",
   "execution_count": 4,
   "id": "5db1fdaa-2ebe-4e45-8471-4709468cf76d",
   "metadata": {},
   "outputs": [
    {
     "data": {
      "text/plain": [
       "{'foo': '42'}"
      ]
     },
     "execution_count": 4,
     "metadata": {},
     "output_type": "execute_result"
    }
   ],
   "source": [
    "d={\"foo\":\"42\"}\n",
    "d"
   ]
  },
  {
   "cell_type": "code",
   "execution_count": null,
   "id": "137c4549-9996-411a-9fa5-63aa86a57f92",
   "metadata": {},
   "outputs": [],
   "source": [
    "3. What is the most significant distinction between a dictionary and a list?"
   ]
  },
  {
   "cell_type": "code",
   "execution_count": null,
   "id": "3ae636c0-9cce-4f2c-b25b-3b51b70ed2f1",
   "metadata": {},
   "outputs": [],
   "source": [
    "list store value normal and ordered  form while dictionary store value in key value pair and unordered form."
   ]
  },
  {
   "cell_type": "code",
   "execution_count": null,
   "id": "ee5f0a9f-03ad-4292-91db-e529a8503572",
   "metadata": {},
   "outputs": [],
   "source": [
    "4. What happens if you try to access spam[foo] if spam is {'bar': 100}?"
   ]
  },
  {
   "cell_type": "code",
   "execution_count": 6,
   "id": "eb71df8b-2ad6-4d6d-931d-fe51e9e0b805",
   "metadata": {},
   "outputs": [
    {
     "ename": "NameError",
     "evalue": "name 'foo' is not defined",
     "output_type": "error",
     "traceback": [
      "\u001b[0;31m---------------------------------------------------------------------------\u001b[0m",
      "\u001b[0;31mNameError\u001b[0m                                 Traceback (most recent call last)",
      "Cell \u001b[0;32mIn [6], line 2\u001b[0m\n\u001b[1;32m      1\u001b[0m spam\u001b[38;5;241m=\u001b[39m{\u001b[38;5;124m\"\u001b[39m\u001b[38;5;124mbar\u001b[39m\u001b[38;5;124m\"\u001b[39m:\u001b[38;5;241m100\u001b[39m}\n\u001b[0;32m----> 2\u001b[0m spam[\u001b[43mfoo\u001b[49m]\n",
      "\u001b[0;31mNameError\u001b[0m: name 'foo' is not defined"
     ]
    }
   ],
   "source": [
    "spam={\"bar\":100}\n",
    "spam[foo]       ## it will giv ekey error "
   ]
  },
  {
   "cell_type": "code",
   "execution_count": null,
   "id": "0c99f7f0-de11-409c-b01d-8b9e67a8151a",
   "metadata": {},
   "outputs": [],
   "source": [
    "5. If a dictionary is stored in spam, what is the difference between the expressions 'cat' in spam and 'cat' in spam.keys()?\n",
    "\n",
    "there is no difference between them only difference is in  keyword search for the cat in keys."
   ]
  },
  {
   "cell_type": "code",
   "execution_count": null,
   "id": "2f881890-ff69-4462-8db8-6b1320fa32cc",
   "metadata": {},
   "outputs": [],
   "source": [
    "6. If a dictionary is stored in spam, what is the difference between the expressions 'cat' in spam and 'cat' in spam.values()?\n",
    "\n",
    "here cat in spam means that check whether cat is there is keys, \n",
    "while spam.values () means check cat is present in values or not."
   ]
  },
  {
   "cell_type": "markdown",
   "id": "80032c54-1e31-4915-98d3-1706080ebc45",
   "metadata": {},
   "source": []
  },
  {
   "cell_type": "code",
   "execution_count": null,
   "id": "b0a84ac5-ccb5-46f5-96e5-5fd1650afe63",
   "metadata": {},
   "outputs": [],
   "source": [
    "7. What is a shortcut for the following code?\n",
    "if 'color' not in spam:\n",
    "spam['color'] = 'black'\n",
    "\n"
   ]
  },
  {
   "cell_type": "code",
   "execution_count": 22,
   "id": "9e066040-1d1a-459c-adaf-9da11f077a90",
   "metadata": {},
   "outputs": [
    {
     "data": {
      "text/plain": [
       "'black'"
      ]
     },
     "execution_count": 22,
     "metadata": {},
     "output_type": "execute_result"
    }
   ],
   "source": [
    "spam.setdefault('color','black')"
   ]
  },
  {
   "cell_type": "code",
   "execution_count": 19,
   "id": "f985c8bd-abfb-4579-9e7b-c5e547fd6ebd",
   "metadata": {},
   "outputs": [],
   "source": [
    "8. How do you \"pretty print\" dictionary values using which module and function?"
   ]
  },
  {
   "cell_type": "code",
   "execution_count": null,
   "id": "8aef7221-60a7-44cb-a0b3-bee8f66de5dd",
   "metadata": {},
   "outputs": [],
   "source": []
  },
  {
   "cell_type": "code",
   "execution_count": null,
   "id": "cfad7be1-310d-4c74-a858-570d91058557",
   "metadata": {},
   "outputs": [],
   "source": []
  }
 ],
 "metadata": {
  "kernelspec": {
   "display_name": "Python 3 (ipykernel)",
   "language": "python",
   "name": "python3"
  },
  "language_info": {
   "codemirror_mode": {
    "name": "ipython",
    "version": 3
   },
   "file_extension": ".py",
   "mimetype": "text/x-python",
   "name": "python",
   "nbconvert_exporter": "python",
   "pygments_lexer": "ipython3",
   "version": "3.10.6"
  }
 },
 "nbformat": 4,
 "nbformat_minor": 5
}
