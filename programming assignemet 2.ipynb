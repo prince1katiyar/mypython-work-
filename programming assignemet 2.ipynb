{
 "cells": [
  {
   "cell_type": "code",
   "execution_count": 1,
   "id": "63cc57e4-4235-49b6-b232-c413ecfc1dfb",
   "metadata": {},
   "outputs": [
    {
     "data": {
      "text/plain": [
       "5"
      ]
     },
     "execution_count": 1,
     "metadata": {},
     "output_type": "execute_result"
    }
   ],
   "source": [
    "1. Write a Python program to convert kilometers to miles?"
   ]
  },
  {
   "cell_type": "code",
   "execution_count": 3,
   "id": "112f337d-2675-430b-ae5f-8a5a13ad426a",
   "metadata": {},
   "outputs": [
    {
     "name": "stdin",
     "output_type": "stream",
     "text": [
      " enter the number u wnat : 2\n"
     ]
    },
    {
     "name": "stdout",
     "output_type": "stream",
     "text": [
      "2.0 kilometres into miles are :1.24274\n"
     ]
    }
   ],
   "source": [
    "c= float(input(\" enter the number u wnat :\"))\n",
    "\n",
    "a= 0.62137\n",
    "miles=a*c\n",
    "print(f\"{c} kilometres into miles are :{miles}\" )"
   ]
  },
  {
   "cell_type": "code",
   "execution_count": null,
   "id": "2e930b3d-4a78-411d-944c-43bccd26adef",
   "metadata": {},
   "outputs": [],
   "source": [
    "2. Write a Python program to convert Celsius to Fahrenheit?"
   ]
  },
  {
   "cell_type": "code",
   "execution_count": 5,
   "id": "dc943c14-d156-45b2-a20e-e3128f9daa80",
   "metadata": {},
   "outputs": [
    {
     "name": "stdin",
     "output_type": "stream",
     "text": [
      " enter the number u want to: 3\n"
     ]
    },
    {
     "name": "stdout",
     "output_type": "stream",
     "text": [
      "celsius is 3.0 and the value in fahrenheit is 37.4\n"
     ]
    }
   ],
   "source": [
    "c= float(input(\" enter the number u want to:\"))\n",
    "\n",
    "fahrenheit= c*(9/5)+32\n",
    "print(f\"celsius is {c} and the value in fahrenheit is {fahrenheit}\")"
   ]
  },
  {
   "cell_type": "code",
   "execution_count": null,
   "id": "1660c235-8f55-4619-ba3d-2c3cb41a49c7",
   "metadata": {},
   "outputs": [],
   "source": [
    "3. Write a Python program to display calendar?"
   ]
  },
  {
   "cell_type": "code",
   "execution_count": 13,
   "id": "a9f41643-3c99-484e-9aeb-7a1b7f727f70",
   "metadata": {},
   "outputs": [
    {
     "name": "stdin",
     "output_type": "stream",
     "text": [
      "enter the month u want : 2022\n",
      "enter the month u want : 11\n"
     ]
    },
    {
     "name": "stdout",
     "output_type": "stream",
     "text": [
      "   November 2022\n",
      "Mo Tu We Th Fr Sa Su\n",
      "    1  2  3  4  5  6\n",
      " 7  8  9 10 11 12 13\n",
      "14 15 16 17 18 19 20\n",
      "21 22 23 24 25 26 27\n",
      "28 29 30\n",
      "\n"
     ]
    }
   ],
   "source": [
    "import calendar\n",
    "year =int(input(\"enter the month u want :\"))\n",
    "months =int(input(\"enter the month u want :\"))\n",
    "\n",
    "\n",
    "print(calendar.month(year,months))"
   ]
  },
  {
   "cell_type": "code",
   "execution_count": null,
   "id": "dc36415a-5bdf-4553-a38a-3d5ec37df8c3",
   "metadata": {},
   "outputs": [],
   "source": [
    "4. Write a Python program to solve quadratic equation?"
   ]
  },
  {
   "cell_type": "code",
   "execution_count": 14,
   "id": "aed3a2de-3519-4117-86b1-e9776b414374",
   "metadata": {},
   "outputs": [],
   "source": [
    "import cmath\n",
    "a=1\n",
    "b=5\n",
    "c=6\n",
    "\n",
    "d= (b**2)-(4*a*c)\n",
    "root1=(-b-cmath.sqrt(d))/(2*a)\n",
    "root2=(-b+cmath.sqrt(d))/(2*a)\n",
    "\n",
    "print(f\"  roo1 is {root1} and  root2 is :{root2}\")"
   ]
  },
  {
   "cell_type": "code",
   "execution_count": null,
   "id": "f2b8f3b4-9af5-49fd-b4e4-283e697ba9fc",
   "metadata": {},
   "outputs": [],
   "source": []
  },
  {
   "cell_type": "code",
   "execution_count": null,
   "id": "0504c0a5-c414-4d88-98da-0141fd61505c",
   "metadata": {},
   "outputs": [],
   "source": []
  },
  {
   "cell_type": "code",
   "execution_count": null,
   "id": "9cc82982-2333-4a8a-98c4-3a9157a5172d",
   "metadata": {},
   "outputs": [],
   "source": []
  },
  {
   "cell_type": "code",
   "execution_count": null,
   "id": "41da7973-f974-4374-884d-c208f298948b",
   "metadata": {},
   "outputs": [],
   "source": []
  }
 ],
 "metadata": {
  "kernelspec": {
   "display_name": "Python 3 (ipykernel)",
   "language": "python",
   "name": "python3"
  },
  "language_info": {
   "codemirror_mode": {
    "name": "ipython",
    "version": 3
   },
   "file_extension": ".py",
   "mimetype": "text/x-python",
   "name": "python",
   "nbconvert_exporter": "python",
   "pygments_lexer": "ipython3",
   "version": "3.10.6"
  }
 },
 "nbformat": 4,
 "nbformat_minor": 5
}
