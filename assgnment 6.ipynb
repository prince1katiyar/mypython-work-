{
 "cells": [
  {
   "cell_type": "code",
   "execution_count": 3,
   "id": "cd807056-e1db-4f9f-8a9e-19f0501e8603",
   "metadata": {},
   "outputs": [
    {
     "name": "stdout",
     "output_type": "stream",
     "text": [
      "Object `them` not found.\n"
     ]
    }
   ],
   "source": [
    "1. What are escape characters, and how do you use them?\n",
    "\n",
    "To insert characters that are illegal in a string, use an escape character.\n",
    "An escape character is a backslash \\ followed by the character you want to insert.\n",
    "\n",
    "some escape sequence character are - \\n , \\r\\,\\t"
   ]
  },
  {
   "cell_type": "code",
   "execution_count": 8,
   "id": "cd9ebb9d-84fe-42f0-9bdf-a489cc965e28",
   "metadata": {},
   "outputs": [
    {
     "data": {
      "text/plain": [
       "'We are the so-called \"Vikings\" from the north.'"
      ]
     },
     "execution_count": 8,
     "metadata": {},
     "output_type": "execute_result"
    }
   ],
   "source": [
    "txt = \"We are the so-called \\\"Vikings\\\" from the north.\"\n",
    "txt"
   ]
  },
  {
   "cell_type": "code",
   "execution_count": null,
   "id": "d34d4daa-5300-4f08-bdb6-844054f63624",
   "metadata": {},
   "outputs": [],
   "source": [
    "2. What do the escape characters n and t stand for?\n",
    "\n",
    "\\n = for new line \n",
    "\\t = for giving space of tab "
   ]
  },
  {
   "cell_type": "code",
   "execution_count": null,
   "id": "8c8c8501-f6c9-4abe-9d0d-b4f4d135d988",
   "metadata": {},
   "outputs": [],
   "source": [
    "3. What is the way to include backslash characters in a string?\n",
    "\n",
    "we can print backslash in string by using raw string \n"
   ]
  },
  {
   "cell_type": "code",
   "execution_count": 9,
   "id": "5dd47a7b-cc50-4fcf-97f0-1368420242f8",
   "metadata": {},
   "outputs": [
    {
     "name": "stdout",
     "output_type": "stream",
     "text": [
      "That is Carol\\'s cat.\n"
     ]
    }
   ],
   "source": [
    "print(r'That is Carol\\'s cat.')"
   ]
  },
  {
   "cell_type": "code",
   "execution_count": null,
   "id": "1db6fb1d-82c7-4494-9778-67d964adffd2",
   "metadata": {},
   "outputs": [],
   "source": [
    "4. The string value \"Howl's Moving Castle\" is a valid string.\n",
    "Why isn’t it a problem that the single quote character in the word Howl's isn’t escaped?\n",
    "\n",
    "because for making it string we used \" \"  so using ' will not create issue over here."
   ]
  },
  {
   "cell_type": "code",
   "execution_count": null,
   "id": "3b080a87-bb9d-4f8c-86b4-cdbbcb3821fe",
   "metadata": {},
   "outputs": [],
   "source": [
    "5. How do you write a string of newlines if you donot  want to use the n character?\n",
    "\n",
    "by usuing multi line comment \n",
    "\"\"\"fdfd\n",
    "d \"\"\""
   ]
  },
  {
   "cell_type": "code",
   "execution_count": null,
   "id": "d7cdcf53-0182-43a0-ba1f-e6f8ab9a65af",
   "metadata": {},
   "outputs": [],
   "source": [
    "6. What do the following expressions evaluate to?\n",
    "\n",
    "'Hello, world!'[1]\n",
    "'Hello, world!'[0:5]\n",
    "'Hello, world!'[:5]\n",
    "'Hello, world!'[3:]\n",
    "\n"
   ]
  },
  {
   "cell_type": "code",
   "execution_count": 13,
   "id": "70d4862e-d36a-4165-883c-09f39f6cd3f3",
   "metadata": {},
   "outputs": [
    {
     "data": {
      "text/plain": [
       "'Hello'"
      ]
     },
     "execution_count": 13,
     "metadata": {},
     "output_type": "execute_result"
    }
   ],
   "source": [
    "'Hello, world!'[1]\n",
    "'Hello, world!'[0:5]\n",
    "'Hello, world!'[:5]\n",
    "'Hello, world!'[3:]"
   ]
  },
  {
   "cell_type": "code",
   "execution_count": 14,
   "id": "2b2bac64-0a65-45a2-a55a-1f9c27d6e5cc",
   "metadata": {},
   "outputs": [
    {
     "data": {
      "text/plain": [
       "'e'"
      ]
     },
     "execution_count": 14,
     "metadata": {},
     "output_type": "execute_result"
    }
   ],
   "source": [
    "'Hello, world!'[1]"
   ]
  },
  {
   "cell_type": "code",
   "execution_count": 15,
   "id": "ef1e87fc-6280-4d81-a99d-c5c7d29b9ebf",
   "metadata": {},
   "outputs": [
    {
     "data": {
      "text/plain": [
       "'Hello'"
      ]
     },
     "execution_count": 15,
     "metadata": {},
     "output_type": "execute_result"
    }
   ],
   "source": [
    "'Hello, world!'[:5]"
   ]
  },
  {
   "cell_type": "code",
   "execution_count": 16,
   "id": "542a2b67-c12d-4d1d-9794-3d111c3e1f59",
   "metadata": {},
   "outputs": [
    {
     "data": {
      "text/plain": [
       "'lo, world!'"
      ]
     },
     "execution_count": 16,
     "metadata": {},
     "output_type": "execute_result"
    }
   ],
   "source": [
    "'Hello, world!'[3:]"
   ]
  },
  {
   "cell_type": "code",
   "execution_count": null,
   "id": "fc786195-8eee-4cdc-8196-374ae343898e",
   "metadata": {},
   "outputs": [],
   "source": []
  },
  {
   "cell_type": "code",
   "execution_count": null,
   "id": "ef1e610b-5b1d-4583-9c9f-30ac68e23f10",
   "metadata": {},
   "outputs": [],
   "source": [
    "7. What do the following expressions evaluate to?\n",
    "\n",
    "'Hello'.upper()\n",
    "'Hello'.upper().isupper()\n",
    "'Hello'.upper().lower()"
   ]
  },
  {
   "cell_type": "code",
   "execution_count": 17,
   "id": "62be2710-11c5-48f4-be27-00d551d774b3",
   "metadata": {},
   "outputs": [
    {
     "data": {
      "text/plain": [
       "'HELLO'"
      ]
     },
     "execution_count": 17,
     "metadata": {},
     "output_type": "execute_result"
    }
   ],
   "source": [
    "\n",
    "'Hello'.upper()"
   ]
  },
  {
   "cell_type": "code",
   "execution_count": 18,
   "id": "ad921f32-2bb5-41a5-b8ee-c7ce65104ced",
   "metadata": {},
   "outputs": [
    {
     "data": {
      "text/plain": [
       "True"
      ]
     },
     "execution_count": 18,
     "metadata": {},
     "output_type": "execute_result"
    }
   ],
   "source": [
    "'Hello'.upper().isupper()"
   ]
  },
  {
   "cell_type": "code",
   "execution_count": 19,
   "id": "1f11d30a-2abe-4b28-8914-256c778c70ed",
   "metadata": {},
   "outputs": [
    {
     "data": {
      "text/plain": [
       "'hello'"
      ]
     },
     "execution_count": 19,
     "metadata": {},
     "output_type": "execute_result"
    }
   ],
   "source": [
    "'Hello'.upper().lower()"
   ]
  },
  {
   "cell_type": "code",
   "execution_count": 20,
   "id": "87bc80fb-b582-4eb7-be63-66fcbe931105",
   "metadata": {},
   "outputs": [
    {
     "data": {
      "text/plain": [
       "'HELLO'"
      ]
     },
     "execution_count": 20,
     "metadata": {},
     "output_type": "execute_result"
    }
   ],
   "source": [
    "\"hello\".lower().upper()"
   ]
  },
  {
   "cell_type": "code",
   "execution_count": null,
   "id": "18fc111e-2f94-46ab-8d31-dff517df838c",
   "metadata": {},
   "outputs": [],
   "source": [
    "8. What do the following expressions evaluate to?\n",
    "\n",
    "'Remember, remember, the fifth of November.'.split()\n",
    "'-'.join('There can be only one.'.split())"
   ]
  },
  {
   "cell_type": "code",
   "execution_count": 1,
   "id": "f9d03e4b-5990-4838-81f0-bb22f3397e77",
   "metadata": {},
   "outputs": [
    {
     "data": {
      "text/plain": [
       "['Remember,', 'remember,', 'the', 'fifth', 'of', 'November.']"
      ]
     },
     "execution_count": 1,
     "metadata": {},
     "output_type": "execute_result"
    }
   ],
   "source": [
    "'Remember, remember, the fifth of November.'.split()"
   ]
  },
  {
   "cell_type": "code",
   "execution_count": 2,
   "id": "900760de-4c89-4d55-8fca-9f063afea9be",
   "metadata": {},
   "outputs": [
    {
     "data": {
      "text/plain": [
       "'There-can-be-only-one.'"
      ]
     },
     "execution_count": 2,
     "metadata": {},
     "output_type": "execute_result"
    }
   ],
   "source": [
    "'-'.join('There can be only one.'.split())"
   ]
  },
  {
   "cell_type": "code",
   "execution_count": 4,
   "id": "555f4c20-ce2a-4067-9285-baee341ee833",
   "metadata": {},
   "outputs": [
    {
     "name": "stdout",
     "output_type": "stream",
     "text": [
      "Object `string` not found.\n"
     ]
    },
    {
     "data": {
      "text/plain": [
       "'Helloineuro'"
      ]
     },
     "execution_count": 4,
     "metadata": {},
     "output_type": "execute_result"
    }
   ],
   "source": [
    "9. What string methods can you use to right-justify, left-justify, and center a string?\n",
    "\n",
    "\n",
    "'Helloineuron'.rjust(10)\n",
    "'Helloineuron'.ljust(10)\n",
    "'Helloineuro'.center(10)"
   ]
  },
  {
   "cell_type": "code",
   "execution_count": 6,
   "id": "d458265d-13f1-41ed-b44a-17d23b6a5abd",
   "metadata": {},
   "outputs": [
    {
     "name": "stdout",
     "output_type": "stream",
     "text": [
      "Object `string` not found.\n"
     ]
    },
    {
     "ename": "TypeError",
     "evalue": "rstrip arg must be None or str",
     "output_type": "error",
     "traceback": [
      "\u001b[0;31m---------------------------------------------------------------------------\u001b[0m",
      "\u001b[0;31mTypeError\u001b[0m                                 Traceback (most recent call last)",
      "Cell \u001b[0;32mIn [7], line 5\u001b[0m\n\u001b[1;32m      1\u001b[0m get_ipython()\u001b[38;5;241m.\u001b[39mrun_line_magic(\u001b[38;5;124m'\u001b[39m\u001b[38;5;124mpinfo\u001b[39m\u001b[38;5;124m'\u001b[39m, \u001b[38;5;124m'\u001b[39m\u001b[38;5;124mstring\u001b[39m\u001b[38;5;124m'\u001b[39m)\n\u001b[0;32m----> 5\u001b[0m \u001b[38;5;124;43m'\u001b[39;49m\u001b[38;5;124;43mHelloineuron\u001b[39;49m\u001b[38;5;124;43m'\u001b[39;49m\u001b[38;5;241;43m.\u001b[39;49m\u001b[43mrstrip\u001b[49m\u001b[43m(\u001b[49m\u001b[38;5;241;43m10\u001b[39;49m\u001b[43m)\u001b[49m\n\u001b[1;32m      6\u001b[0m \u001b[38;5;124m'\u001b[39m\u001b[38;5;124mHelloineuron\u001b[39m\u001b[38;5;124m'\u001b[39m\u001b[38;5;241m.\u001b[39mlstrip(\u001b[38;5;241m10\u001b[39m)\n\u001b[1;32m      7\u001b[0m \u001b[38;5;124m'\u001b[39m\u001b[38;5;124mHelloineuro\u001b[39m\u001b[38;5;124m'\u001b[39m\u001b[38;5;241m.\u001b[39mstrip(\u001b[38;5;241m10\u001b[39m)\n",
      "\u001b[0;31mTypeError\u001b[0m: rstrip arg must be None or str"
     ]
    }
   ],
   "source": [
    "10. How can you trim whitespace characters from the beginning or end of a string?\n",
    "\n",
    "\n",
    "\n",
    "'Helloineuron'.rstrip(10)\n",
    "'Helloineuron'.lstrip(10)\n",
    "'Helloineuro'.strip(10)\n"
   ]
  },
  {
   "cell_type": "code",
   "execution_count": null,
   "id": "f9138e07-1e20-461d-8b89-6fa94cc3b006",
   "metadata": {},
   "outputs": [],
   "source": [
    "\n",
    "'Helloineuron'.rstrip(10)\n",
    "'Helloineuron'.lstrip(10)\n",
    "'Helloineuro'.strip(10)\n"
   ]
  },
  {
   "cell_type": "code",
   "execution_count": null,
   "id": "712cefe9-ba10-4a4d-904e-e8e883834150",
   "metadata": {},
   "outputs": [],
   "source": []
  },
  {
   "cell_type": "code",
   "execution_count": null,
   "id": "91b4a9ad-23ae-4202-9df5-dbc4185a16f0",
   "metadata": {},
   "outputs": [],
   "source": []
  },
  {
   "cell_type": "code",
   "execution_count": null,
   "id": "eba80f56-a846-4bc6-ab92-1f4d6820e299",
   "metadata": {},
   "outputs": [],
   "source": []
  }
 ],
 "metadata": {
  "kernelspec": {
   "display_name": "Python 3 (ipykernel)",
   "language": "python",
   "name": "python3"
  },
  "language_info": {
   "codemirror_mode": {
    "name": "ipython",
    "version": 3
   },
   "file_extension": ".py",
   "mimetype": "text/x-python",
   "name": "python",
   "nbconvert_exporter": "python",
   "pygments_lexer": "ipython3",
   "version": "3.10.6"
  }
 },
 "nbformat": 4,
 "nbformat_minor": 5
}
