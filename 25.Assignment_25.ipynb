{
 "cells": [
  {
   "cell_type": "markdown",
   "id": "ae0f9c40",
   "metadata": {},
   "source": [
    "# Assignment 25 Solutions"
   ]
  },
  {
   "cell_type": "markdown",
   "id": "bb43a46e",
   "metadata": {},
   "source": [
    "#### Q1. What is the distinction between a numpy array and a pandas data frame? Is there a way to convert between the two if there is ?\n",
    "**Ans:** Numpy Ndarray provides a lot of convenient and optimized methods for performing several mathematical operations on vectors.\n",
    "\n",
    "Pandas Dataframe is an in-memory 2-dimensional tabular representation of data. In simpler words, it can be seen as a spreadsheet having rows and columns.\n",
    "\n",
    "Conversion : `Dataframe=pandas.DataFrame(array)`"
   ]
  },
  {
   "attachments": {},
   "cell_type": "markdown",
   "id": "4d856887",
   "metadata": {},
   "source": [
    "#### Q2. What can go wrong when an user enters in a stock-ticker symbol, and how do you handle it?\n",
    "**Ans:** When a user enters a stock-ticker symbol, several things can go wrong, including:\n",
    "\n",
    "1. Invalid symbol: The user may enter an invalid symbol that does not exist in the stock market. This can result in errors or incorrect data being displayed.\n",
    "\n",
    "2. Incorrect input format: The user may enter the symbol in an incorrect format, such as using lowercase letters instead of uppercase or using incorrect characters. This can also result in errors or incorrect data being displayed.\n",
    "\n",
    "3. Ambiguous symbols: Some symbols may be ambiguous and refer to multiple companies or assets. For example, the symbol \"AAPL\" can refer to Apple Inc. or Atlas Air Worldwide Holdings. This can result in incorrect data being displayed if the wrong company or asset is selected.\n",
    "\n",
    "To handle these issues, you can implement the following solutions:\n",
    "\n",
    "1. Validate the symbol: Before using the user-entered symbol, validate it against a list of valid symbols to ensure that it exists in the stock market.\n",
    "\n",
    "2. Format the input: Format the user-entered symbol to match the expected format. For example, convert all characters to uppercase and remove any invalid characters.\n",
    "\n",
    "3. Provide options: If there are multiple companies or assets associated with a symbol, provide the user with a list of options to choose from, or prompt the user to specify which company or asset they are interested in.\n",
    "\n",
    "4. Error handling: If any errors occur during symbol entry or validation, provide clear and concise error messages to the user, explaining what went wrong and how to fix the issue.\n",
    "\n",
    "By implementing these solutions, you can help ensure that the user enters valid and correctly formatted stock-ticker symbols, which can help avoid errors and provide a better user experience."
   ]
  },
  {
   "attachments": {},
   "cell_type": "markdown",
   "id": "24146fcb",
   "metadata": {},
   "source": [
    "#### Q3. Identify some of the plotting techniques that are used to produce a stock-market chart ?\n",
    "**Ans:** Bar chart, Line Chart are used for plotting. "
   ]
  },
  {
   "attachments": {},
   "cell_type": "markdown",
   "id": "f0fdf95b",
   "metadata": {},
   "source": [
    "#### Q4. Why is it essential to print a legend on a stock market chart ?\n",
    "**Ans:** Legend will help comparison between different stocks, so will be essential on a stock market chart"
   ]
  },
  {
   "attachments": {},
   "cell_type": "markdown",
   "id": "186d0d51",
   "metadata": {},
   "source": [
    "#### Q5. What is the best way to limit the length of a pandas data frame to less than a year ?\n",
    "**Ans:** : We can use start and end parameters for that. In start we write the date from where we are starting and at the end we write the end date. SO within this span we can restric the duration.Also we can use the parameters like periods for how much times we need the duration and we can also use the frequency parameter."
   ]
  },
  {
   "attachments": {},
   "cell_type": "markdown",
   "id": "5805fa40",
   "metadata": {},
   "source": [
    "#### Q6. What is the definition of a 180-day moving average ?\n",
    "**Ans:** : The 180-day moving average is represented as a line on charts and represents the average price over the past 180 days. The moving average can give traders a sense regarding whether the trend is up or down, while also identifying potential support or resistance areas."
   ]
  },
  {
   "attachments": {},
   "cell_type": "markdown",
   "id": "fde8d603",
   "metadata": {},
   "source": [
    "#### Q7. Did the chapter's final example use \"indirect\"  importing? If so, how exactly do you do it?\n",
    "**Ans:** : Without the context of the chapter and the final example being referred to, it cannot determine whether the chapter's final example used \"indirect\" importing or not.\n",
    "\n",
    "However, it can explain what \"indirect\" importing means and how to do it in Python.\n",
    "\n",
    "In Python, modules can be imported using the `import` statement. There are two types of importing: direct and indirect.\n",
    "\n",
    "Direct importing is when you import a module directly by specifying its name, like so:\n",
    "\n",
    "```python\n",
    "import math\n",
    "```\n",
    "\n",
    "Indirect importing is when you import a module indirectly by importing it through another module. This is achieved using the `from` keyword, followed by the name of the module and the `import` keyword, like so:\n",
    "\n",
    "```python\n",
    "from module_name import object_name\n",
    "```\n",
    "\n",
    "Here, `module_name` is the name of the module you want to import, and `object_name` is the name of the object (function, class, or variable) you want to import from that module. By importing objects from a module indirectly, you can avoid importing the entire module and only import the objects you need, which can help reduce memory usage and improve performance.\n",
    "\n",
    "For example, consider a module called `utils` that contains several utility functions, including a function called `format_number`. If you want to use the `format_number` function in your code, you can import it indirectly like so:\n",
    "\n",
    "```python\n",
    "from utils import format_number\n",
    "```\n",
    "\n",
    "This will import only the `format_number` function from the `utils` module, rather than importing the entire `utils` module.\n",
    "\n",
    "Overall, indirect importing can be useful for reducing memory usage, improving performance, and avoiding namespace conflicts in your code."
   ]
  }
 ],
 "metadata": {
  "kernelspec": {
   "display_name": "Python 3",
   "language": "python",
   "name": "python3"
  },
  "language_info": {
   "codemirror_mode": {
    "name": "ipython",
    "version": 3
   },
   "file_extension": ".py",
   "mimetype": "text/x-python",
   "name": "python",
   "nbconvert_exporter": "python",
   "pygments_lexer": "ipython3",
   "version": "3.8.8"
  }
 },
 "nbformat": 4,
 "nbformat_minor": 5
}
