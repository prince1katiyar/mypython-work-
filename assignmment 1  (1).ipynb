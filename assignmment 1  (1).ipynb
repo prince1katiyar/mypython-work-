{
 "cells": [
  {
   "cell_type": "code",
   "execution_count": null,
   "id": "a6e19b30-6f8d-4745-94ed-e14a38003c87",
   "metadata": {},
   "outputs": [],
   "source": [
    "Q1--1. In the below elements which of them are values or an expression? eg:- values can be\n",
    "integer or string and expressions will be mathematical operators.\n",
    "*\n",
    "&\n",
    "-87.8\n",
    "-\n",
    "/\n",
    "+\n",
    "6"
   ]
  },
  {
   "cell_type": "code",
   "execution_count": null,
   "id": "2341126f-c3ba-45a1-a99c-0d3fb8f191f5",
   "metadata": {},
   "outputs": [],
   "source": [
    "# expressions are - *,&,-,/,+   and values are =  -87.8,6"
   ]
  },
  {
   "cell_type": "code",
   "execution_count": null,
   "id": "3aaf7faa-993e-4e04-922a-e74cf81e6a57",
   "metadata": {},
   "outputs": [],
   "source": [
    "2. What is the difference between string and variable?\n",
    "  \n",
    "     Variables are symbols that you can use to store data in a program  example  a=3 \n",
    "     String  are data that are  use to fill up a variable. example - 'RAM'"
   ]
  },
  {
   "cell_type": "code",
   "execution_count": null,
   "id": "ed386a80-282a-4b21-b61c-de1ab7724e21",
   "metadata": {},
   "outputs": [],
   "source": [
    "3. Describe three different data types.\n",
    "\n",
    "1 NUMERIC DATA TYPES = THESE CAN ALSO FUTHER DIVIVDE INTO THREE PART ARE\n",
    "A- INTERGER  = 3,5 = THESE ARE POSTIIVE AND NEGATIVE WHOLE NUMBERS . REPRESENT BY (INT) \n",
    "B FLOAT =   3.4, 54.3 =THESE ARE THE REAL NUMBER CONTAINING DECIMAL  POINTS . REPRESENT BY (FLOAT)\n",
    "C-COMPLEX = (2+ 3J)  THESE ARE THE NUMBER HAVING REAL AND IMAGINARY VALUE  = REPRESENT BY (COMPLEX)\n",
    "\n",
    "\n",
    "2 BOOLEAN DATA TYPES =Data type with one of the two built-in values, True or False. \n",
    "\n",
    "\n",
    "3 DICTIONARY DATA TYPES= IT is  USED TO STORE A VALUE IN KEY VALUE FORM WHICH  IS SEPERATED BY COLON, EXAMPLE -Dict = {1: 'GOOD', 3: 'G'}"
   ]
  },
  {
   "cell_type": "code",
   "execution_count": null,
   "id": "3a9ac63a-624d-402a-b0fc-7619909a59dc",
   "metadata": {},
   "outputs": [],
   "source": [
    "4. What is an expression made up of? What do all expressions do?\n",
    "\n",
    "An expression is a combination of operators and operands that is interpreted to produce some other value.\n",
    "example - x = 15 + 1.3"
   ]
  },
  {
   "cell_type": "code",
   "execution_count": null,
   "id": "cc9e1917-a301-46b2-90fd-fcf27f07f9bb",
   "metadata": {},
   "outputs": [],
   "source": [
    "5. This assignment statements, like spam = 10. What is the difference between an\n",
    "expression and a statement?\n",
    "\n",
    "statement -Statements represent an action or command e.g print statements, assignment statements. example  - print hello ,spam 10\n",
    " example  - print hello \n",
    "expresiion- Expression is a combination of variables, operations and values that yields a result value. example - 5*5 \n"
   ]
  },
  {
   "cell_type": "code",
   "execution_count": null,
   "id": "2d432a1e-66c0-4673-928b-7b97ffae9074",
   "metadata": {},
   "outputs": [],
   "source": [
    "6. After running the following code, what does the variable bacon contain?\n",
    "bacon = 22\n",
    "bacon + 1\n",
    "\n",
    "bacon = 23\n"
   ]
  },
  {
   "cell_type": "code",
   "execution_count": null,
   "id": "f5a56ffd-5990-417c-92ef-983d21983153",
   "metadata": {},
   "outputs": [],
   "source": [
    "7. What should the values of the following two terms be?\n",
    "\n",
    " spamspamspam \n",
    " spam spam spam "
   ]
  },
  {
   "cell_type": "code",
   "execution_count": null,
   "id": "6bc12a22-7460-4275-b513-43dada2fb1a5",
   "metadata": {},
   "outputs": [],
   "source": [
    "8. Why is eggs a valid variable name while 100 is invalid?\n",
    "\n",
    " becasue varible canot start with the numeric value hence 100 cannot be a varible \n",
    "     while eggs is varible because it fallow are  rule to define a varible .\n",
    "        like  A variable name must start with a letter or the underscore character.\n",
    "              A variable name cannot start with a number.\n",
    "              A variable name can only contain alpha-numeric characters and underscores (A-z, 0-9, and _ )\n",
    "              Variable names are case-sensitive (age, Age and AGE are three different variables)"
   ]
  },
  {
   "cell_type": "code",
   "execution_count": null,
   "id": "985526dc-7618-4536-8930-85e8902a3751",
   "metadata": {},
   "outputs": [],
   "source": [
    "9. What three functions can be used to get the integer, floating-point number, or string\n",
    "version of a value?\n",
    "\n",
    "int()\n",
    "float()\n",
    "str()"
   ]
  },
  {
   "cell_type": "code",
   "execution_count": null,
   "id": "e5fdad92-1180-442f-8e19-e8f5bf2b1bb1",
   "metadata": {},
   "outputs": [],
   "source": [
    "10. Why does this expression cause an error? How can you fix it?\n",
    "'I have eaten ' + 99 + ' burritos'.\n",
    "\n",
    "\n",
    "because integer can not concatenate ,here 99 is interger for if we convert 99 into string \"99\" then error can be reseloved."
   ]
  },
  {
   "cell_type": "code",
   "execution_count": null,
   "id": "f68dc122-2c38-4c3a-8f13-f7ffafdcb1c7",
   "metadata": {},
   "outputs": [],
   "source": []
  }
 ],
 "metadata": {
  "kernelspec": {
   "display_name": "Python 3 (ipykernel)",
   "language": "python",
   "name": "python3"
  },
  "language_info": {
   "codemirror_mode": {
    "name": "ipython",
    "version": 3
   },
   "file_extension": ".py",
   "mimetype": "text/x-python",
   "name": "python",
   "nbconvert_exporter": "python",
   "pygments_lexer": "ipython3",
   "version": "3.10.6"
  }
 },
 "nbformat": 4,
 "nbformat_minor": 5
}
