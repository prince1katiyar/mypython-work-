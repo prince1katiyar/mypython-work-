{
 "cells": [
  {
   "cell_type": "code",
   "execution_count": null,
   "id": "7e916c44-66af-49b2-818d-5c5c4768688d",
   "metadata": {},
   "outputs": [],
   "source": [
    "Q1. Describe three applications for exception processing.\n",
    "\n",
    "\n",
    "Error handling: One of the most common applications of exception processing is to handle errors that can occur during program execution.\n",
    "Input validation: Exception processing can also be used to validate input data and catch any errors or inconsistencies. \n",
    "Resource management: Exception processing can be used to manage resources such as file handles, database connections, or memory allocation."
   ]
  },
  {
   "cell_type": "code",
   "execution_count": null,
   "id": "731b50d6-9a30-4669-91ab-0ac50a939dbb",
   "metadata": {},
   "outputs": [],
   "source": [
    "Q2. What happens if you dont do something extra to treat an exception?\n",
    "\n",
    "If you don't handle or treat an exception, the program will terminate abruptly when the exception occurs.\n",
    "This is because when an exception is thrown, the program's normal flow of execution is interrupted,\n",
    "and the exception is propagated up the call stack until it is either handled by an appropriate exception handler or causes the program to terminate.\n"
   ]
  },
  {
   "cell_type": "code",
   "execution_count": null,
   "id": "3f99e851-95ce-464c-8fad-f7fb0dea5eb8",
   "metadata": {},
   "outputs": [],
   "source": [
    "Q3. What are your options for recovering from an exception in your script?\n",
    "\n",
    "Log the error:   Even if you cannot recover from an exception, it is important to log the error so that it can be analyzed and\n",
    "fixed in future versions of the program.\n",
    "Handle the exception:   One option is to handle the exception by catching it in a try-except block and taking appropriate action to recover \n",
    "from the error"
   ]
  },
  {
   "cell_type": "code",
   "execution_count": null,
   "id": "11a11ecf-d9b2-4e8a-8177-a0de87fdf6d0",
   "metadata": {},
   "outputs": [],
   "source": [
    "Q4. Describe two methods for triggering exceptions in your script.\n",
    "\n",
    "Raise an exception explicitly: You can raise an exception explicitly in your code by using the raise statement followed \n",
    "by an instance of an exception class\n",
    "Let Python trigger an exception implicitly: Python can also trigger exceptions implicitly in response to errors that occur during program execution"
   ]
  },
  {
   "cell_type": "code",
   "execution_count": null,
   "id": "0a73a9bc-d6ca-4ecd-8cf8-5f77a3d6011d",
   "metadata": {},
   "outputs": [],
   "source": [
    "Q5. Identify two methods for specifying actions to be executed at termination time, regardless of\n",
    "whether or not an exception exists.\n",
    "\n",
    "finally block:   The finally block is a way to specify code that will always be executed at the end of a try-except block, \n",
    "regardless of whether an exception was raised or not\n",
    "atexit module:  The atexit module provides a way to register functions that will be executed when the program terminates normally. "
   ]
  },
  {
   "cell_type": "code",
   "execution_count": null,
   "id": "ac2e0140-7668-4d18-8e3d-35486205bdeb",
   "metadata": {},
   "outputs": [],
   "source": []
  },
  {
   "cell_type": "code",
   "execution_count": null,
   "id": "fc1e5c50-58fd-43ed-afd6-bd21ed039af5",
   "metadata": {},
   "outputs": [],
   "source": []
  }
 ],
 "metadata": {
  "kernelspec": {
   "display_name": "Python 3 (ipykernel)",
   "language": "python",
   "name": "python3"
  },
  "language_info": {
   "codemirror_mode": {
    "name": "ipython",
    "version": 3
   },
   "file_extension": ".py",
   "mimetype": "text/x-python",
   "name": "python",
   "nbconvert_exporter": "python",
   "pygments_lexer": "ipython3",
   "version": "3.10.6"
  }
 },
 "nbformat": 4,
 "nbformat_minor": 5
}
