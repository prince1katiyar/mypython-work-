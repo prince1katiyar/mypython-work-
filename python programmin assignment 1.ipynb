{
 "cells": [
  {
   "cell_type": "code",
   "execution_count": null,
   "id": "b9769d92-496f-472c-8f10-ae46b9b1b200",
   "metadata": {},
   "outputs": [],
   "source": []
  },
  {
   "cell_type": "code",
   "execution_count": null,
   "id": "3df170d7-5438-4a84-92bb-4ce9fde8d678",
   "metadata": {},
   "outputs": [],
   "source": [
    "1. Write a Python program to print 'Hello Python'?"
   ]
  },
  {
   "cell_type": "code",
   "execution_count": 1,
   "id": "a0fbe272-dd60-44ab-b6b4-4cb6b00c9561",
   "metadata": {},
   "outputs": [
    {
     "name": "stdout",
     "output_type": "stream",
     "text": [
      "hello python\n"
     ]
    }
   ],
   "source": [
    "a= \"heloo python\"\n",
    "print(\"hello python\")"
   ]
  },
  {
   "cell_type": "code",
   "execution_count": null,
   "id": "60b4ad35-2436-4841-9249-8e99a6e4855d",
   "metadata": {},
   "outputs": [],
   "source": [
    "2. Write a Python program to do arithmetical operations addition and division.?"
   ]
  },
  {
   "cell_type": "code",
   "execution_count": 4,
   "id": "df8ba282-3f49-4c06-9578-5422c79d7a66",
   "metadata": {},
   "outputs": [
    {
     "name": "stdout",
     "output_type": "stream",
     "text": [
      "8\n",
      "3.0\n"
     ]
    }
   ],
   "source": [
    "a=6\n",
    "b=2\n",
    "c=(a+b)\n",
    "d=(a/b)\n",
    "print(c)\n",
    "print(d)"
   ]
  },
  {
   "cell_type": "code",
   "execution_count": null,
   "id": "f8824bc2-a5a9-4215-a6f2-fe093f860f56",
   "metadata": {},
   "outputs": [],
   "source": [
    "3. Write a Python program to find the area of a triangle?"
   ]
  },
  {
   "cell_type": "code",
   "execution_count": 5,
   "id": "13a00afe-8d08-4076-a60f-f2b69fc5a300",
   "metadata": {},
   "outputs": [
    {
     "name": "stdout",
     "output_type": "stream",
     "text": [
      "6.0\n"
     ]
    }
   ],
   "source": [
    "base=4\n",
    "height=3\n",
    "area= 1/2*base*height\n",
    "print(area)"
   ]
  },
  {
   "cell_type": "code",
   "execution_count": null,
   "id": "25bf34da-b9f4-4085-8422-77d4a490fe80",
   "metadata": {},
   "outputs": [],
   "source": [
    "4. Write a Python program to swap two variables?"
   ]
  },
  {
   "cell_type": "code",
   "execution_count": 7,
   "id": "ea3bc5cb-67a4-41d0-aa5f-06fa8522e082",
   "metadata": {},
   "outputs": [
    {
     "name": "stdout",
     "output_type": "stream",
     "text": [
      "3\n",
      "4\n"
     ]
    }
   ],
   "source": [
    "a=4\n",
    "b=3\n",
    "a,b =b,a\n",
    "print(a)\n",
    "print(b)"
   ]
  },
  {
   "cell_type": "code",
   "execution_count": null,
   "id": "5b17e16f-5b76-4dee-b48d-666ecda4bdc3",
   "metadata": {},
   "outputs": [],
   "source": [
    "5. Write a Python program to generate a random number?"
   ]
  },
  {
   "cell_type": "code",
   "execution_count": 9,
   "id": "fdf0c9ee-4fb1-4cce-bbf6-83170ef92907",
   "metadata": {},
   "outputs": [
    {
     "data": {
      "text/plain": [
       "0.35622964540770885"
      ]
     },
     "execution_count": 9,
     "metadata": {},
     "output_type": "execute_result"
    }
   ],
   "source": [
    "import random\n",
    "random.random()"
   ]
  },
  {
   "cell_type": "code",
   "execution_count": null,
   "id": "b6d97639-aceb-446a-bd93-3abef04816f5",
   "metadata": {},
   "outputs": [],
   "source": []
  }
 ],
 "metadata": {
  "kernelspec": {
   "display_name": "Python 3 (ipykernel)",
   "language": "python",
   "name": "python3"
  },
  "language_info": {
   "codemirror_mode": {
    "name": "ipython",
    "version": 3
   },
   "file_extension": ".py",
   "mimetype": "text/x-python",
   "name": "python",
   "nbconvert_exporter": "python",
   "pygments_lexer": "ipython3",
   "version": "3.10.6"
  }
 },
 "nbformat": 4,
 "nbformat_minor": 5
}
