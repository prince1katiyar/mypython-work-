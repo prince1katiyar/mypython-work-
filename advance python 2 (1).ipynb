{
 "cells": [
  {
   "cell_type": "code",
   "execution_count": null,
   "id": "9d84f969-ea3d-4a62-9672-dc2eadfea921",
   "metadata": {},
   "outputs": [],
   "source": [
    "1. What is the concept of an abstract superclass?\n",
    "\n",
    "\n",
    "An abstract superclass is a class that is designed to be inherited by other classes, but is not intended to be instantiated on its own. \n",
    "An abstract superclass defines a set of common behaviors, properties, and methods that can be shared by its subclasses.\n",
    "In object-oriented programming, an abstract superclass is often used as a template or blueprint for creating more specialized classes.\n",
    "By defining common features and behaviors in the abstract superclass, developers can reduce code duplication and improve the maintainability of their code\n"
   ]
  },
  {
   "cell_type": "code",
   "execution_count": null,
   "id": "628fb03f-6eb7-428c-9eb1-910262c67d8d",
   "metadata": {},
   "outputs": [],
   "source": [
    "2. What happens when a class statement top level contains a basic assignment statement?\n",
    "\n",
    "When a class statement's top level contains a basic assignment statement, it creates a class-level variable that is shared by all instances of the class. \n",
    "This means that the variable's value can be accessed and modified by any method of the class or any instance of the class.\n",
    "\n",
    "\n",
    "class MyClass:\n",
    "    class_var = 0\n",
    "    \n",
    "    def __init__(self):\n",
    "        self.instance_var = 0\n",
    "        \n",
    "        \n",
    "print(MyClass.class_var)\n",
    "MyClass.class_var = 1\n",
    "print(MyClass.class_var)\n",
    "\n"
   ]
  },
  {
   "cell_type": "code",
   "execution_count": null,
   "id": "e6f668cd-448b-4e36-b3c5-91ff5533ea43",
   "metadata": {},
   "outputs": [],
   "source": [
    "3. Why does a class need to manually call a superclass  __init__ method?"
   ]
  },
  {
   "cell_type": "code",
   "execution_count": null,
   "id": "a47ed3a2-1127-4ccc-9804-07d7573ed50c",
   "metadata": {},
   "outputs": [
    {
     "name": "stdout",
     "output_type": "stream",
     "text": [
      "Created a new animal with name: Buddy\n",
      "Created a new dog with breed: Labrador Retriever\n"
     ]
    }
   ],
   "source": [
    "class Animal:\n",
    "    def __init__(self, name):\n",
    "        self.name = name\n",
    "        print(\"Created a new animal with name:\", self.name)\n",
    "\n",
    "class Dog(Animal):\n",
    "    def __init__(self, name, breed):\n",
    "        self.breed = breed\n",
    "        Animal.__init__(self, name)\n",
    "        print(\"Created a new dog with breed:\", self.breed)\n",
    "\n",
    "my_dog = Dog(\"Buddy\", \"Labrador Retriever\")\n"
   ]
  },
  {
   "cell_type": "code",
   "execution_count": null,
   "id": "3180a80d-ddb2-4693-8622-975ba264d3fc",
   "metadata": {},
   "outputs": [],
   "source": [
    "4. How can you augment, instead of completely replacing, an inherited method?\n",
    "\n",
    "In object-oriented programming, it is possible to augment an inherited method without completely replacing it.\n",
    "This is known as method overriding or method extension.\n",
    "\n",
    "To do this, you can create a new method in the subclass with the same name as the inherited method in the superclass. \n",
    "This new method can then call the inherited method using the super keyword, and then add additional functionality before or after the inherited method is called."
   ]
  },
  {
   "cell_type": "code",
   "execution_count": null,
   "id": "22b3ead9-0433-4999-92c9-0a0ac17b6a67",
   "metadata": {},
   "outputs": [],
   "source": [
    "class Animal:\n",
    "    def speak(self):\n",
    "        print(\"Animal speaks\")\n",
    "\n",
    "class Dog(Animal):\n",
    "    def speak(self):\n",
    "        print(\"Dog barks\")\n",
    "        super().speak()"
   ]
  },
  {
   "cell_type": "code",
   "execution_count": null,
   "id": "c4e63fca-5728-4bc1-b289-1cddc66495e7",
   "metadata": {},
   "outputs": [],
   "source": [
    "5. How is the local scope of a class different from that of a function?\n",
    "\n",
    "\n",
    "The local scope of a class and a function are different in a few key ways:\n",
    "\n",
    "Class scope: In Python, the class scope refers to the namespace within a class definition.\n",
    "Class attributes and methods are defined within the class scope and are accessible using the self parameter inside class methods.\n",
    "Function scope: The function scope refers to the namespace within a function definition. \n",
    "Variables defined within the function are accessible only within the function unless they are explicitly returned or assigned to a global variable.\n",
    "\n",
    "Access: In a class, the local scope is accessible from all the methods within the class.\n",
    "This means that a variable or method defined in one method can be accessed by another method within the same class.\n",
    "In a function, the local scope is accessible only within that function.\n",
    "Variables defined in one function cannot be accessed by another function unless they are passed as arguments or assigned to a global variable.\n",
    "\n",
    "Lifetime: The local variables in a class persist as long as the object instance exists.\n",
    "In contrast, the local variables in a function are destroyed when the function returns."
   ]
  },
  {
   "cell_type": "code",
   "execution_count": null,
   "id": "fc08d8ab-0ee6-4a96-ad52-aeb01d56aa3d",
   "metadata": {},
   "outputs": [],
   "source": []
  }
 ],
 "metadata": {
  "kernelspec": {
   "display_name": "Python 3 (ipykernel)",
   "language": "python",
   "name": "python3"
  },
  "language_info": {
   "codemirror_mode": {
    "name": "ipython",
    "version": 3
   },
   "file_extension": ".py",
   "mimetype": "text/x-python",
   "name": "python",
   "nbconvert_exporter": "python",
   "pygments_lexer": "ipython3",
   "version": "3.10.6"
  }
 },
 "nbformat": 4,
 "nbformat_minor": 5
}
