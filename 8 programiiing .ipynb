{
 "cells": [
  {
   "cell_type": "code",
   "execution_count": null,
   "id": "bbfbc1ce-4a4c-4b56-ae94-d381e47a647d",
   "metadata": {},
   "outputs": [],
   "source": [
    "1. Write a Python Program to Add Two Matrices?\n"
   ]
  },
  {
   "cell_type": "code",
   "execution_count": 13,
   "id": "86f655b5-4a50-4543-8547-0eb603527647",
   "metadata": {},
   "outputs": [
    {
     "name": "stdout",
     "output_type": "stream",
     "text": [
      "[17, 15, 4]\n",
      "[10, 12, 9]\n",
      "[11, 13, 14]\n"
     ]
    }
   ],
   "source": [
    "a = [[1,2,3],\n",
    "     [3,4,5],\n",
    "     [3,4,5]]\n",
    "\n",
    "b = [[6,6,4],[4,3,2],[1,5,3]]\n",
    "\n",
    "r= [[0,0,0],[0,0,0],[0,0,0]]\n",
    "\n",
    "for i in  range(len(X)):\n",
    "    for j in range(len(X[0])):\n",
    "                \n",
    "        result[i][j]= X[i][j] + Y[i][j]\n",
    "        \n",
    "for r in result:\n",
    "    print(r)\n",
    "    \n"
   ]
  },
  {
   "cell_type": "code",
   "execution_count": null,
   "id": "13d5806f-69de-4dfe-95a9-699e727ecec0",
   "metadata": {},
   "outputs": [],
   "source": [
    "2. Write a Python Program to Multiply Two Matrices?"
   ]
  },
  {
   "cell_type": "code",
   "execution_count": 14,
   "id": "1cc072a0-915d-4934-bbc1-240f60cc5686",
   "metadata": {},
   "outputs": [
    {
     "name": "stdout",
     "output_type": "stream",
     "text": [
      "[60, 56, 3]\n",
      "[24, 35, 18]\n",
      "[28, 40, 45]\n"
     ]
    }
   ],
   "source": [
    "a = [[1,2,3],\n",
    "     [3,4,5],\n",
    "     [3,4,5]]\n",
    "b = [[6,6,4],[4,3,2],[1,5,3]]\n",
    "r= [[0,0,0],[0,0,0],[0,0,0]]\n",
    "\n",
    "for i in  range(len(X)):\n",
    "    for j in range(len(X[0])):\n",
    "                \n",
    "        result[i][j]= X[i][j] * Y[i][j]\n",
    "        \n",
    "for r in result:\n",
    "    print(r)\n",
    "    "
   ]
  },
  {
   "cell_type": "code",
   "execution_count": null,
   "id": "d1cd9eec-5cea-4703-9f63-f7ae63bd196e",
   "metadata": {},
   "outputs": [],
   "source": [
    "3. Write a Python Program to Transpose a Matrix?"
   ]
  },
  {
   "cell_type": "code",
   "execution_count": 15,
   "id": "b0355dda-d1ec-4f04-a251-6df2ca2002f9",
   "metadata": {},
   "outputs": [
    {
     "name": "stdout",
     "output_type": "stream",
     "text": [
      "[28, 40, 45]\n",
      "[28, 40, 45]\n"
     ]
    }
   ],
   "source": [
    "X = [[12,7],\n",
    "    [4 ,5],\n",
    "    [3 ,8]]\n",
    "\n",
    "result = [[0,0,0],\n",
    "         [0,0,0]]\n",
    "\n",
    "for i in range(len(X)):\n",
    "    for j in range(len(X[0])):\n",
    "        result[j][i] = X[i][j]\n",
    "        \n",
    "        \n",
    "for i in result:\n",
    "    print(r)"
   ]
  },
  {
   "cell_type": "code",
   "execution_count": null,
   "id": "354d69c7-c1af-4b65-b4ab-384cdf8f7f51",
   "metadata": {},
   "outputs": [],
   "source": [
    "4. Write a Python Program to Sort Words in Alphabetic Order?"
   ]
  },
  {
   "cell_type": "code",
   "execution_count": 37,
   "id": "18774cc9-6bca-4c52-881c-3389e7e798a6",
   "metadata": {},
   "outputs": [
    {
     "name": "stdout",
     "output_type": "stream",
     "text": [
      "an\n",
      "cased\n",
      "example\n",
      "hello\n",
      "is\n",
      "letters\n",
      "this\n",
      "with\n"
     ]
    }
   ],
   "source": [
    "my_str = \"Hello this Is an Example With cased letters\"\n",
    "\n",
    "words = [word.lower() for word in my_str.split()]\n",
    "words.sort()\n",
    "for word in words:\n",
    "    print(word)"
   ]
  },
  {
   "cell_type": "code",
   "execution_count": null,
   "id": "c54648fc-8220-40f9-b733-ab5a2debd058",
   "metadata": {},
   "outputs": [],
   "source": [
    "5. Write a Python Program to Remove Punctuation From a String?\n"
   ]
  },
  {
   "cell_type": "code",
   "execution_count": null,
   "id": "faae5f2a-3189-42a6-a5b8-db5709d219c1",
   "metadata": {},
   "outputs": [],
   "source": []
  },
  {
   "cell_type": "code",
   "execution_count": null,
   "id": "695e17ca-c151-4a97-9c61-a6845ed782ef",
   "metadata": {},
   "outputs": [],
   "source": []
  }
 ],
 "metadata": {
  "kernelspec": {
   "display_name": "Python 3 (ipykernel)",
   "language": "python",
   "name": "python3"
  },
  "language_info": {
   "codemirror_mode": {
    "name": "ipython",
    "version": 3
   },
   "file_extension": ".py",
   "mimetype": "text/x-python",
   "name": "python",
   "nbconvert_exporter": "python",
   "pygments_lexer": "ipython3",
   "version": "3.10.6"
  }
 },
 "nbformat": 4,
 "nbformat_minor": 5
}
