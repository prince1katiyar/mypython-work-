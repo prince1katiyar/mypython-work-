{
 "cells": [
  {
   "cell_type": "code",
   "execution_count": null,
   "id": "193e04f0-b6d1-4287-8745-6023c59fd216",
   "metadata": {},
   "outputs": [],
   "source": [
    "1. Write a Python program to find sum of elements in list?\n"
   ]
  },
  {
   "cell_type": "code",
   "execution_count": 1,
   "id": "19dc9757-d66b-4b02-b4c6-bab7fe01386c",
   "metadata": {},
   "outputs": [
    {
     "name": "stdout",
     "output_type": "stream",
     "text": [
      "Sum of all elements in given list:  74\n"
     ]
    }
   ],
   "source": [
    "\n",
    "list1 = [11, 5, 17, 18, 23]\n",
    "\n",
    "\n",
    "total = sum(list1)\n",
    "\n",
    "\n",
    "print(\"Sum of all elements in given list: \", total)\n"
   ]
  },
  {
   "cell_type": "code",
   "execution_count": null,
   "id": "12247406-fbb4-4ba9-9181-fa4ffe999e93",
   "metadata": {},
   "outputs": [],
   "source": [
    "2. Write a Python program to Multiply all numbers in the list?\n"
   ]
  },
  {
   "cell_type": "code",
   "execution_count": 3,
   "id": "a75ce024-3398-4f96-a9dc-3316a0a7ade5",
   "metadata": {},
   "outputs": [
    {
     "name": "stdout",
     "output_type": "stream",
     "text": [
      "Sum of all elements in given list:  387090\n"
     ]
    }
   ],
   "source": [
    "\n",
    "total = 1\n",
    " \n",
    "\n",
    "list1 = [11, 5, 17, 18, 23]\n",
    " \n",
    "for ele in range(0, len(list1)):\n",
    "    total = total *list1[ele]\n",
    " \n",
    "print(\"Sum of all elements in given list: \", total)"
   ]
  },
  {
   "cell_type": "code",
   "execution_count": null,
   "id": "8f44f17c-e0fe-4826-9e8c-016d73585196",
   "metadata": {},
   "outputs": [],
   "source": [
    "3. Write a Python program to find smallest number in a list?\n"
   ]
  },
  {
   "cell_type": "code",
   "execution_count": null,
   "id": "99f501e2-f59e-4ef0-8e75-e988b5ae8050",
   "metadata": {},
   "outputs": [],
   "source": [
    "\n",
    "list1 = [10, 20, 1, 45, 99]\n",
    "\n",
    "print(\"Smallest element is:\", min(list1))"
   ]
  },
  {
   "cell_type": "code",
   "execution_count": null,
   "id": "c5d7a6e2-337b-4880-b87f-7039b78291f4",
   "metadata": {},
   "outputs": [],
   "source": [
    "4. Write a Python program to find largest number in a list?\n"
   ]
  },
  {
   "cell_type": "code",
   "execution_count": 4,
   "id": "d81caa83-cb63-445b-80a5-474b51fda2da",
   "metadata": {},
   "outputs": [
    {
     "name": "stdout",
     "output_type": "stream",
     "text": [
      "Smallest element is: 99\n"
     ]
    }
   ],
   "source": [
    "list1 = [10, 20, 1, 45, 99]\n",
    "\n",
    "print(\"Smallest element is:\", max(list1))"
   ]
  },
  {
   "cell_type": "code",
   "execution_count": null,
   "id": "d33f1c8c-ddac-4d0c-8aa9-8d681e0473b5",
   "metadata": {},
   "outputs": [],
   "source": [
    "5. Write a Python program to find second largest number in a list?"
   ]
  },
  {
   "cell_type": "code",
   "execution_count": 3,
   "id": "a1ef3af7-9a0f-47fb-be90-149816f05902",
   "metadata": {},
   "outputs": [
    {
     "data": {
      "text/plain": [
       "45"
      ]
     },
     "execution_count": 3,
     "metadata": {},
     "output_type": "execute_result"
    }
   ],
   "source": [
    "list1 = [10, 20, 1, 45, 99]\n",
    "list1.sort(reverse =True)\n",
    "list1[1]"
   ]
  },
  {
   "cell_type": "code",
   "execution_count": null,
   "id": "0cfd94f9-20b6-4442-865f-57c020e9518f",
   "metadata": {},
   "outputs": [],
   "source": [
    "6. Write a Python program to find N largest elements from a list?\n"
   ]
  },
  {
   "cell_type": "code",
   "execution_count": 7,
   "id": "ce4aa1a8-1f67-4ee4-8fbb-4af730110702",
   "metadata": {},
   "outputs": [
    {
     "name": "stdout",
     "output_type": "stream",
     "text": [
      "[3579, 1000, 900, 298]\n"
     ]
    }
   ],
   "source": [
    "l = [1000,298,3579,100,200,-45,900]\n",
    "n = 4\n",
    "\n",
    "l.sort(reverse =True)\n",
    "print(l[0:4])\n"
   ]
  },
  {
   "cell_type": "code",
   "execution_count": null,
   "id": "ed6f59ca-75b7-48e6-9aba-ce62207bfa12",
   "metadata": {},
   "outputs": [],
   "source": [
    "7. Write a Python program to print even numbers in a list?\n"
   ]
  },
  {
   "cell_type": "code",
   "execution_count": 8,
   "id": "abb701b9-f3c9-43fb-9a53-70c345fa953b",
   "metadata": {},
   "outputs": [
    {
     "name": "stdout",
     "output_type": "stream",
     "text": [
      "10 4 66 "
     ]
    }
   ],
   "source": [
    "\n",
    "list1 = [10, 21, 4, 45, 66, 93]\n",
    " \n",
    "\n",
    "for num in list1:\n",
    " \n",
    "\n",
    "    if num % 2 == 0:\n",
    "        print(num, end=\" \")"
   ]
  },
  {
   "cell_type": "code",
   "execution_count": null,
   "id": "76233b52-6cfc-4bc2-8815-e64e9975f938",
   "metadata": {},
   "outputs": [],
   "source": [
    "8. Write a Python program to print odd numbers in a List?\n"
   ]
  },
  {
   "cell_type": "code",
   "execution_count": 10,
   "id": "414f855f-0b35-45f3-bfe7-68ebb59ef936",
   "metadata": {},
   "outputs": [
    {
     "name": "stdout",
     "output_type": "stream",
     "text": [
      "21 45 93 "
     ]
    }
   ],
   "source": [
    "\n",
    "list1 = [10, 21, 4, 45, 66, 93]\n",
    " \n",
    "\n",
    "for num in list1:\n",
    " \n",
    "\n",
    "    if num % 2 != 0:\n",
    "        print(num, end=\" \")"
   ]
  },
  {
   "cell_type": "code",
   "execution_count": null,
   "id": "8e1c8488-5588-4476-a0f4-da9bafd025b5",
   "metadata": {},
   "outputs": [],
   "source": [
    "9. Write a Python program to Remove empty List from List?\n"
   ]
  },
  {
   "cell_type": "code",
   "execution_count": 11,
   "id": "fb798521-3862-4955-8fc7-b21f26dee617",
   "metadata": {},
   "outputs": [
    {
     "name": "stdout",
     "output_type": "stream",
     "text": [
      "The original list is : [5, 6, [], 3, [], [], 9]\n",
      "List after empty list removal : [5, 6, 3, 9]\n"
     ]
    }
   ],
   "source": [
    "\n",
    "test_list = [5, 6, [], 3, [], [], 9]\n",
    " \n",
    "print(\"The original list is : \" + str(test_list))\n",
    " \n",
    "\n",
    "while [] in test_list :\n",
    "    test_list.remove([])\n",
    " \n",
    "print(\"List after empty list removal : \" + str(test_list))"
   ]
  },
  {
   "cell_type": "code",
   "execution_count": null,
   "id": "23d379d1-0b5a-4d65-97f7-3c2762b62506",
   "metadata": {},
   "outputs": [],
   "source": [
    "10. Write a Python program to Cloning or Copying a list?\n",
    "\n"
   ]
  },
  {
   "cell_type": "code",
   "execution_count": 46,
   "id": "e2862965-d4cd-403f-aa76-4399856fa9d7",
   "metadata": {},
   "outputs": [
    {
     "name": "stdout",
     "output_type": "stream",
     "text": [
      "[1, 2, [3, 5], 4]\n",
      "[1, 2, [3, 5], 4]\n"
     ]
    }
   ],
   "source": [
    "\n",
    "import copy\n",
    "   \n",
    "li1 = [1, 2, [3,5], 4]\n",
    "   \n",
    "\n",
    "li2 = copy.copy(li1)\n",
    "print(li1) \n",
    "print(li2)\n"
   ]
  },
  {
   "cell_type": "code",
   "execution_count": null,
   "id": "3264c588-75d6-472d-9da8-9d8fe62d2219",
   "metadata": {},
   "outputs": [],
   "source": [
    "11. Write a Python program to Count occurrences of an element in a list?"
   ]
  },
  {
   "cell_type": "code",
   "execution_count": 49,
   "id": "75ea1e87-4d83-4559-a054-1469577e9432",
   "metadata": {},
   "outputs": [
    {
     "data": {
      "text/plain": [
       "3"
      ]
     },
     "execution_count": 49,
     "metadata": {},
     "output_type": "execute_result"
    }
   ],
   "source": [
    "li1 = [1, 2, 5, 4,5,5]\n",
    "li1.count(5)\n",
    "\n",
    "\n"
   ]
  },
  {
   "cell_type": "code",
   "execution_count": null,
   "id": "f0cab2bd-d545-4bf5-9924-907ece65db65",
   "metadata": {},
   "outputs": [],
   "source": []
  }
 ],
 "metadata": {
  "kernelspec": {
   "display_name": "Python 3 (ipykernel)",
   "language": "python",
   "name": "python3"
  },
  "language_info": {
   "codemirror_mode": {
    "name": "ipython",
    "version": 3
   },
   "file_extension": ".py",
   "mimetype": "text/x-python",
   "name": "python",
   "nbconvert_exporter": "python",
   "pygments_lexer": "ipython3",
   "version": "3.10.6"
  }
 },
 "nbformat": 4,
 "nbformat_minor": 5
}
