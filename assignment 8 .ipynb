{
 "cells": [
  {
   "cell_type": "code",
   "execution_count": null,
   "id": "7cc3a27b-d01e-46e3-8ec7-cc911b90d0c0",
   "metadata": {},
   "outputs": [],
   "source": [
    "1. Is the Python Standard Library included with PyInputPlus?\n",
    "\n",
    "PyInputPlus is not a part of the Python Standard Library, we must install it separately using Pip."
   ]
  },
  {
   "cell_type": "code",
   "execution_count": null,
   "id": "e2ba3ae0-8c5a-4576-8d22-b79749fb3d40",
   "metadata": {},
   "outputs": [],
   "source": [
    "2. Why is PyInputPlus commonly imported with import pyinputplus as pypi?\n",
    "\n",
    "\n",
    "we can import the module with import pyinputplus as pyip so that you can enter a shorter name when calling the module’s functions"
   ]
  },
  {
   "cell_type": "code",
   "execution_count": null,
   "id": "8c326eb2-a5d7-478b-9a62-e1b3fa2d6708",
   "metadata": {},
   "outputs": [],
   "source": [
    "3. How do you distinguish between inputInt() and inputFloat()?\n",
    "\n",
    "The difference is in the data-type when you use the first one the program expects an integer value as input,\n",
    "but in the latter it expects a float value i.e number containing a decimal"
   ]
  },
  {
   "cell_type": "code",
   "execution_count": null,
   "id": "75cc04d7-c405-42fb-b1cf-d21453232996",
   "metadata": {},
   "outputs": [],
   "source": [
    "4. Using PyInputPlus, how do you ensure that the user enters a whole number between 0 and 99?\n",
    "\n",
    "pyip.inputint(min=0, max=99)\n",
    "In the inputint function we can set the min = 0 and max =99 to ensure user enters number between 0 and 99"
   ]
  },
  {
   "cell_type": "code",
   "execution_count": null,
   "id": "ce29fada-96b7-4ce4-ab35-d254377746b4",
   "metadata": {},
   "outputs": [],
   "source": [
    "5. What is transferred to the keyword arguments allowRegexes and blockRegexes?\n",
    "\n",
    "The allowRegexes and blockRegexes keyword arguments take a list of regular expression strings to determine what the PyInputPlus function will accept or reject as valid input.\n",
    "\n",
    "Example:\n",
    "- pyip.inputNum(allowRegexes=[r'(I|V|X|L|C|D|M)+', r'zero'])   # it allowes roman letters as numbers too\n",
    "- pyip.inputNum(blockRegexes=[r\"[02468]$\"])                   # blocks the even numbers"
   ]
  },
  {
   "cell_type": "code",
   "execution_count": null,
   "id": "f5b0fb67-3679-432d-9f81-c401e0c1fc8a",
   "metadata": {},
   "outputs": [],
   "source": [
    "6. If a blank input is entered three times, what does inputStr(limit=3) do?\n",
    "\n",
    "inputStr(limit=3) will throw RetryLimitException exception\n"
   ]
  },
  {
   "cell_type": "code",
   "execution_count": null,
   "id": "a024df83-88e4-4f78-938b-e4d4af86f868",
   "metadata": {},
   "outputs": [],
   "source": [
    "7. If blank input is entered three times, what does inputStr(limit=3, default=&#39;hello&#39;) do?"
   ]
  },
  {
   "cell_type": "code",
   "execution_count": null,
   "id": "29972c9b-2285-4324-93ed-a8f74e01e0cb",
   "metadata": {},
   "outputs": [],
   "source": []
  },
  {
   "cell_type": "code",
   "execution_count": null,
   "id": "0d866a83-ba05-492d-bdcb-761f4eb02d72",
   "metadata": {},
   "outputs": [],
   "source": []
  }
 ],
 "metadata": {
  "kernelspec": {
   "display_name": "Python 3 (ipykernel)",
   "language": "python",
   "name": "python3"
  },
  "language_info": {
   "codemirror_mode": {
    "name": "ipython",
    "version": 3
   },
   "file_extension": ".py",
   "mimetype": "text/x-python",
   "name": "python",
   "nbconvert_exporter": "python",
   "pygments_lexer": "ipython3",
   "version": "3.10.6"
  }
 },
 "nbformat": 4,
 "nbformat_minor": 5
}
