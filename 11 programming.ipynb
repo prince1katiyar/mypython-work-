{
 "cells": [
  {
   "cell_type": "code",
   "execution_count": null,
   "id": "87903794-ce3f-4d28-870a-5728630e0512",
   "metadata": {},
   "outputs": [],
   "source": [
    "1. Write a Python program to find words which are greater than given length k?"
   ]
  },
  {
   "cell_type": "code",
   "execution_count": 3,
   "id": "e916b40e-f4b8-43f6-8f8d-2b3de58f54b8",
   "metadata": {},
   "outputs": [
    {
     "name": "stdout",
     "output_type": "stream",
     "text": [
      "['practic', 'makes', 'perfect']\n"
     ]
    }
   ],
   "source": [
    "\n",
    "def string_k(k, str):\n",
    "\t\n",
    "\t\n",
    "\tstring = []\n",
    "\ttext = str.split(\" \")\n",
    "\t\n",
    "\tfor x in text:\n",
    "\t\t\n",
    "\t\tif len(x) > k:\n",
    "\t\t\n",
    "\t\t\tstring.append(x)\n",
    "\t\t\t\n",
    "\n",
    "\treturn string\t\n",
    "k = 3\n",
    "str =\"practic  makes a man perfect\"\n",
    "print(string_k(k, str))\n"
   ]
  },
  {
   "cell_type": "code",
   "execution_count": null,
   "id": "061255db-9966-4ddd-8bed-db3954241bee",
   "metadata": {},
   "outputs": [],
   "source": [
    "2. Write a Python program for removing i-th character from a string?\n"
   ]
  },
  {
   "cell_type": "code",
   "execution_count": 28,
   "id": "b2e4511d-3150-4ffd-afc7-9271164090b9",
   "metadata": {},
   "outputs": [
    {
     "data": {
      "text/plain": [
       "'helloython'"
      ]
     },
     "execution_count": 28,
     "metadata": {},
     "output_type": "execute_result"
    }
   ],
   "source": [
    "def remove(str,i):\n",
    "    \n",
    "    a=str[:i]\n",
    "    b=str[i+1:]\n",
    "    \n",
    "    return  a+b\n",
    "\n",
    "str = \"hellopython\"\n",
    "i = 5\n",
    "remove(str,i)"
   ]
  },
  {
   "cell_type": "code",
   "execution_count": null,
   "id": "7c3f8cfc-59f2-4328-a56e-9e18b60ef076",
   "metadata": {},
   "outputs": [],
   "source": [
    "3. Write a Python program to split and join a string?\n"
   ]
  },
  {
   "cell_type": "code",
   "execution_count": 17,
   "id": "7722872e-0340-4250-8877-fcb8acb74f0c",
   "metadata": {},
   "outputs": [
    {
     "data": {
      "text/plain": [
       "(['hello', 'python', 'learner'], ['hellopythonlearner'])"
      ]
     },
     "execution_count": 17,
     "metadata": {},
     "output_type": "execute_result"
    }
   ],
   "source": [
    "def remove (str,i):\n",
    "\n",
    "    \n",
    "    a=str.split()\n",
    "    b=\"\".join(a)\n",
    "    return  a,    [b]\n",
    "     \n",
    "\n",
    "str = \"hello python learner\"\n",
    "i = 5\n",
    "remove(str,i)"
   ]
  },
  {
   "cell_type": "code",
   "execution_count": null,
   "id": "9d6d39ae-be3e-4ab0-8906-e04ada343494",
   "metadata": {},
   "outputs": [],
   "source": [
    "4. Write a Python to check if a given string is binary string or not?"
   ]
  },
  {
   "cell_type": "code",
   "execution_count": 2,
   "id": "e3b66488-0bd3-4c9b-805c-d2c3a97364da",
   "metadata": {},
   "outputs": [
    {
     "name": "stdout",
     "output_type": "stream",
     "text": [
      "yes\n"
     ]
    }
   ],
   "source": [
    "def check(string):\n",
    "    p =set(string)\n",
    "    s = {\"0\",\"1\"}\n",
    "    \n",
    "    if s ==p or p ==\"0\" or  p ==\"1\":\n",
    "        print(\"yes\")\n",
    "    else:\n",
    "        print(\"no\")\n",
    "        \n",
    "check(\"10000\")"
   ]
  },
  {
   "cell_type": "code",
   "execution_count": null,
   "id": "f0205059-7952-4ea4-b610-5087421cdf78",
   "metadata": {},
   "outputs": [],
   "source": [
    "5. Write a Python program to find uncommon words from two Strings?\n"
   ]
  },
  {
   "cell_type": "code",
   "execution_count": 32,
   "id": "917769b3-e21f-481d-8004-45c79111f787",
   "metadata": {},
   "outputs": [
    {
     "name": "stdout",
     "output_type": "stream",
     "text": [
      "['Learning', 'from', 'for']\n"
     ]
    }
   ],
   "source": [
    "\n",
    "def UncommonWords( B):\n",
    "\n",
    "\tcount = {}\n",
    "\tfor i in B.split():\n",
    "\t\tcount[i] = count.get(i,0) +1\n",
    "\n",
    "\treturn [word for word in count if count[word] == 1]\n",
    "\n",
    "B = \"Learning from Geeks for Geeks\"\n",
    "print(UncommonWords(B))\n"
   ]
  },
  {
   "cell_type": "code",
   "execution_count": null,
   "id": "fcaafd3b-3cbb-42a4-9b2a-05a58da2847a",
   "metadata": {},
   "outputs": [],
   "source": [
    "6. Write a Python to find all duplicate characters in string?\n"
   ]
  },
  {
   "cell_type": "code",
   "execution_count": 53,
   "id": "8290c250-7b49-4e83-b48a-ef0d405e87e1",
   "metadata": {},
   "outputs": [
    {
     "name": "stdout",
     "output_type": "stream",
     "text": [
      "['e', 's', 'g']\n"
     ]
    }
   ],
   "source": [
    "def duplicate(str):\n",
    "    x=[]\n",
    "    for i in str:\n",
    "        if i not in x and input.count(i)>1:\n",
    "            x.append(i)\n",
    "            \n",
    "    print(x)\n",
    "    \n",
    "str = \"yes this is good way to learn python \" \n",
    "duplicate(str)\n",
    "            "
   ]
  },
  {
   "cell_type": "code",
   "execution_count": null,
   "id": "c2c0139e-5530-42cf-8271-392e71d06eae",
   "metadata": {},
   "outputs": [],
   "source": [
    "7. Write a Python Program to check if a string contains any special character?\n",
    "\n"
   ]
  },
  {
   "cell_type": "code",
   "execution_count": 54,
   "id": "32c19009-6ca0-49e3-a8e7-8ae1c8733e27",
   "metadata": {},
   "outputs": [],
   "source": [
    "import re\n",
    "\n",
    "def run(string):\n",
    "\n",
    "\t\n",
    "\tregex = re.compile('[@_!#$%^&*()<>?/\\|}{~:]')\n",
    "\t\n",
    "\n",
    "\tif(regex.search(string) == None):\n",
    "\t\tprint(\"String is accepted\")\n",
    "\t\t\n",
    "\telse:\n",
    "\t\tprint(\"String is not accepted.\")\n",
    "\t\n",
    "\n",
    "\n",
    "\n",
    "\t\n",
    "\tstring = \"Geeks$For$Geeks\"\n",
    "\t\n",
    "\n",
    "\trun(string)\n"
   ]
  },
  {
   "cell_type": "code",
   "execution_count": null,
   "id": "2c52d4da-4290-49f1-983c-fa5266543e05",
   "metadata": {},
   "outputs": [],
   "source": []
  },
  {
   "cell_type": "code",
   "execution_count": null,
   "id": "77eb6082-4f32-487d-a849-efc312e03dc9",
   "metadata": {},
   "outputs": [],
   "source": []
  },
  {
   "cell_type": "code",
   "execution_count": null,
   "id": "653c93c6-c1cf-4b54-817a-042c48d75bb6",
   "metadata": {},
   "outputs": [],
   "source": []
  },
  {
   "cell_type": "code",
   "execution_count": null,
   "id": "d195baa2-cba8-436f-b952-31559dfda714",
   "metadata": {},
   "outputs": [],
   "source": []
  },
  {
   "cell_type": "code",
   "execution_count": null,
   "id": "c20ad8be-da09-4977-b014-96662ec493eb",
   "metadata": {},
   "outputs": [],
   "source": []
  },
  {
   "cell_type": "code",
   "execution_count": null,
   "id": "08486817-3fa5-4c99-88fe-916657345945",
   "metadata": {},
   "outputs": [],
   "source": []
  },
  {
   "cell_type": "code",
   "execution_count": null,
   "id": "a9e1c8aa-792c-4679-974f-2d2c101c70b1",
   "metadata": {},
   "outputs": [],
   "source": []
  },
  {
   "cell_type": "code",
   "execution_count": null,
   "id": "e48b9f5a-c2fe-40f2-a0c7-d9769f14d137",
   "metadata": {},
   "outputs": [],
   "source": []
  },
  {
   "cell_type": "code",
   "execution_count": null,
   "id": "8f8d7439-34ae-4580-95a5-2d39b49bab6f",
   "metadata": {},
   "outputs": [],
   "source": []
  },
  {
   "cell_type": "code",
   "execution_count": null,
   "id": "57f7d9af-7b6e-4411-bf46-b54a45b83c7c",
   "metadata": {},
   "outputs": [],
   "source": []
  },
  {
   "cell_type": "code",
   "execution_count": null,
   "id": "08bbb823-4492-44e4-b5a5-40ba02febce3",
   "metadata": {},
   "outputs": [],
   "source": []
  },
  {
   "cell_type": "code",
   "execution_count": null,
   "id": "c024e9f5-b4b8-4089-9111-5f902ba341b7",
   "metadata": {},
   "outputs": [],
   "source": []
  },
  {
   "cell_type": "code",
   "execution_count": null,
   "id": "f33ea26c-edee-49af-bc9f-f2dd1fcdec1a",
   "metadata": {},
   "outputs": [],
   "source": []
  },
  {
   "cell_type": "code",
   "execution_count": null,
   "id": "2b344787-9ba7-4626-a61b-950cd0fb293c",
   "metadata": {},
   "outputs": [],
   "source": []
  },
  {
   "cell_type": "code",
   "execution_count": null,
   "id": "44165a21-ba88-4076-a3eb-a29b944a445a",
   "metadata": {},
   "outputs": [],
   "source": []
  },
  {
   "cell_type": "code",
   "execution_count": null,
   "id": "1685e566-825f-48c0-a692-b0fe694dbf91",
   "metadata": {},
   "outputs": [],
   "source": []
  },
  {
   "cell_type": "code",
   "execution_count": null,
   "id": "4332f689-9324-486e-b5a6-96163c1392d9",
   "metadata": {},
   "outputs": [],
   "source": []
  },
  {
   "cell_type": "code",
   "execution_count": null,
   "id": "ca1f2c27-0ca7-47b3-8476-9e0c50740d77",
   "metadata": {},
   "outputs": [],
   "source": []
  },
  {
   "cell_type": "code",
   "execution_count": null,
   "id": "b76d103a-df16-45f4-8f90-3bb5a4d6584b",
   "metadata": {},
   "outputs": [],
   "source": []
  },
  {
   "cell_type": "code",
   "execution_count": null,
   "id": "08d76446-bac0-4e8f-adc4-1134c9ebf421",
   "metadata": {},
   "outputs": [],
   "source": []
  },
  {
   "cell_type": "code",
   "execution_count": null,
   "id": "c6e56b6d-19c3-42bf-a7b1-b20a46140e33",
   "metadata": {},
   "outputs": [],
   "source": []
  },
  {
   "cell_type": "code",
   "execution_count": null,
   "id": "3d8d779e-7dcc-4ecb-80c7-81a020ec0b07",
   "metadata": {},
   "outputs": [],
   "source": []
  },
  {
   "cell_type": "code",
   "execution_count": null,
   "id": "cc371d1a-3934-4d13-9e6d-37251f72a67b",
   "metadata": {},
   "outputs": [],
   "source": []
  },
  {
   "cell_type": "code",
   "execution_count": null,
   "id": "df62cd31-b491-4875-94f4-01d9058cdc2a",
   "metadata": {},
   "outputs": [],
   "source": []
  },
  {
   "cell_type": "code",
   "execution_count": null,
   "id": "99174949-e0d0-4348-9c51-90026dcb16df",
   "metadata": {},
   "outputs": [],
   "source": []
  },
  {
   "cell_type": "code",
   "execution_count": null,
   "id": "565d8fe4-43e1-425b-8208-891053c3a58a",
   "metadata": {},
   "outputs": [],
   "source": []
  },
  {
   "cell_type": "code",
   "execution_count": null,
   "id": "8cd22fa1-2d48-4b44-994c-47fe254c01d5",
   "metadata": {},
   "outputs": [],
   "source": []
  },
  {
   "cell_type": "code",
   "execution_count": null,
   "id": "561e3612-bb56-42e2-badf-100924a25fff",
   "metadata": {},
   "outputs": [],
   "source": []
  },
  {
   "cell_type": "code",
   "execution_count": null,
   "id": "69992aeb-b908-4485-9087-a5a39c4ba004",
   "metadata": {},
   "outputs": [],
   "source": []
  }
 ],
 "metadata": {
  "kernelspec": {
   "display_name": "Python 3 (ipykernel)",
   "language": "python",
   "name": "python3"
  },
  "language_info": {
   "codemirror_mode": {
    "name": "ipython",
    "version": 3
   },
   "file_extension": ".py",
   "mimetype": "text/x-python",
   "name": "python",
   "nbconvert_exporter": "python",
   "pygments_lexer": "ipython3",
   "version": "3.10.6"
  }
 },
 "nbformat": 4,
 "nbformat_minor": 5
}
