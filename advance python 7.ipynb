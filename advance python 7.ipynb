{
 "cells": [
  {
   "cell_type": "code",
   "execution_count": null,
   "id": "c07fcea9-20ed-4e5a-bfe5-f4ebe5488b81",
   "metadata": {},
   "outputs": [],
   "source": [
    "Q1. What is the purpose of the try statement?\n",
    "\n",
    "\n",
    "The try statement is used in Python to define a block of code in which an exception may occur.\n",
    "The purpose of the try statement is to allow you to handle errors and unexpected conditions in a controlled and graceful manner"
   ]
  },
  {
   "cell_type": "code",
   "execution_count": null,
   "id": "80d2d594-003e-48f9-a94e-242edf007a1d",
   "metadata": {},
   "outputs": [],
   "source": [
    "Q2. What are the two most popular try statement variations?\n",
    "\n",
    "try-except statement: This variation of the try statement is used to catch and handle exceptions that may be raised by the code in the try block.\n",
    "try-finally statement: This variation of the try statement is used to ensure that certain code is executed, regardless of whether an exception is raised or not. "
   ]
  },
  {
   "cell_type": "code",
   "execution_count": null,
   "id": "8e1c5c40-e79b-40de-8a7f-f8c6f39dd7fc",
   "metadata": {},
   "outputs": [],
   "source": [
    "Q3. What is the purpose of the raise statement?\n",
    "\n",
    "The raise statement in Python is used to explicitly raise an exception in a program. \n",
    "The purpose of the raise statement is to signal that an error or exceptional condition has occurred,\n",
    "and to transfer control to an appropriate exception handler that can handle the error."
   ]
  },
  {
   "cell_type": "code",
   "execution_count": null,
   "id": "2dc2089d-79a6-4ed5-9dad-14d66d9ccbd1",
   "metadata": {},
   "outputs": [],
   "source": [
    "Q4. What does the assert statement do, and what other statement is it like?\n",
    "\n",
    "\n",
    "The assert statement in Python is used to check whether a given condition is true or not, and raise an AssertionError exception if the condition is false. \n",
    "The purpose of the assert statement is to provide a way to write self-checking code, and to catch logical errors and bugs early in the development process"
   ]
  },
  {
   "cell_type": "code",
   "execution_count": null,
   "id": "da327ebe-7fd0-4802-81cf-5326899f9a34",
   "metadata": {},
   "outputs": [],
   "source": [
    "Q5. What is the purpose of the with/as argument, and what other statement is it like?\n",
    "\n",
    "\n",
    "The with statement in Python is used to manage resources, such as files or network connections, that need to be explicitly opened and closed in a program. The purpose of the with statement is to ensure that the resources are properly closed and cleaned up, even if an error occurs during the execution of the program."
   ]
  },
  {
   "cell_type": "code",
   "execution_count": null,
   "id": "b00668d9-b322-4e6f-9cf2-cd9f7b84129b",
   "metadata": {},
   "outputs": [],
   "source": []
  },
  {
   "cell_type": "code",
   "execution_count": null,
   "id": "b9397641-1269-44e3-ac25-bc28b0ac6853",
   "metadata": {},
   "outputs": [],
   "source": []
  }
 ],
 "metadata": {
  "kernelspec": {
   "display_name": "Python 3 (ipykernel)",
   "language": "python",
   "name": "python3"
  },
  "language_info": {
   "codemirror_mode": {
    "name": "ipython",
    "version": 3
   },
   "file_extension": ".py",
   "mimetype": "text/x-python",
   "name": "python",
   "nbconvert_exporter": "python",
   "pygments_lexer": "ipython3",
   "version": "3.10.6"
  }
 },
 "nbformat": 4,
 "nbformat_minor": 5
}
