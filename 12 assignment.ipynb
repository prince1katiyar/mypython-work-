{
 "cells": [
  {
   "cell_type": "code",
   "execution_count": null,
   "id": "e4e6bf13-2615-4898-923b-e03ddfde505a",
   "metadata": {},
   "outputs": [],
   "source": [
    "1. In what modes should the PdfFileReader() and PdfFileWriter() File objects will be opened?\n",
    "\n",
    "Read-binary ('rb') for PdfFileReader() and write-binary ('wb') for PdfFileWriter()"
   ]
  },
  {
   "cell_type": "code",
   "execution_count": null,
   "id": "f13863b3-a207-4f3a-884f-5bd265b16214",
   "metadata": {},
   "outputs": [],
   "source": [
    "2. From a PdfFileReader object, how do you get a Page object for page 5?\n",
    "\n",
    "getPage(4)"
   ]
  },
  {
   "cell_type": "code",
   "execution_count": null,
   "id": "11784269-d144-409b-ac36-8753979b3d18",
   "metadata": {},
   "outputs": [],
   "source": [
    "3. What PdfFileReader variable stores the number of pages in the PDF document?\n",
    "\n",
    "numpages()\n"
   ]
  },
  {
   "cell_type": "code",
   "execution_count": null,
   "id": "b458d0c9-93ba-4645-a984-26da42096c01",
   "metadata": {},
   "outputs": [],
   "source": [
    "4. If a PdfFileReader object’s PDF is encrypted with the password swordfish, what must you do\n",
    "before you can obtain Page objects from it?\n",
    "\n",
    "decrypt('rosebud')"
   ]
  },
  {
   "cell_type": "code",
   "execution_count": null,
   "id": "599b233e-0e6c-4590-b6f4-7f014f6d3a18",
   "metadata": {},
   "outputs": [],
   "source": [
    "5. What methods do you use to rotate a page?\n",
    "\n",
    "rotateClockwise(), rotateCounterClockwise()"
   ]
  },
  {
   "cell_type": "code",
   "execution_count": null,
   "id": "c607feb4-93c4-4620-8d36-9ab33e6e4147",
   "metadata": {},
   "outputs": [],
   "source": [
    "6. What is the difference between a Run object and a Paragraph object?\n",
    "\n",
    "Paragraph Object : A document contains multiple paragraphs. A paragraph begins on a new line and contains multiple\n",
    "runs. paragraphObj.style = 'Quote'\n",
    "\n",
    "Run Objects : Runs are contiguous groups of characters within a paragraph with the same style  ,runObj.style = 'Quote Char'"
   ]
  },
  {
   "cell_type": "code",
   "execution_count": null,
   "id": "29ffca79-993a-4ebe-8e7f-c228f209c85d",
   "metadata": {},
   "outputs": [],
   "source": [
    "7. How do you obtain a list of Paragraph objects for a Document object that’s stored in a variable\n",
    "named doc?\n",
    "\n"
   ]
  },
  {
   "cell_type": "code",
   "execution_count": null,
   "id": "e89cf5c1-ef70-4815-a391-ba4a51babc66",
   "metadata": {},
   "outputs": [],
   "source": [
    "!pip install python-docx\n",
    "import docx\n",
    "doc = docx.Document('abc.docx')\n",
    "doc.paragraphs"
   ]
  },
  {
   "cell_type": "code",
   "execution_count": null,
   "id": "d1a13049-3ca4-4f03-a10c-ade4a6e3d919",
   "metadata": {},
   "outputs": [],
   "source": [
    "8. What type of object has bold, underline, italic, strike, and outline variables?\n",
    "\n",
    "A Run object has bold, underline,italic,strike and outline variables"
   ]
  },
  {
   "cell_type": "code",
   "execution_count": null,
   "id": "f169edd9-74be-4353-a580-da189a0841b4",
   "metadata": {},
   "outputs": [],
   "source": [
    "9. What is the difference between False, True, and None for the bold variable?\n",
    "\n",
    "True always makes the Run object bolded and ,\n",
    "False makes it always not bolded, no matter what the style’s bold setting is.\n",
    "None will make the Run object just use the style’s bold setting.\n"
   ]
  },
  {
   "cell_type": "code",
   "execution_count": null,
   "id": "e7545b82-708f-414a-be39-1e7eb35298a5",
   "metadata": {},
   "outputs": [],
   "source": [
    "10. How do you create a Document object for a new Word document?\n",
    "\n",
    "By Calling the docx.Document() function."
   ]
  },
  {
   "cell_type": "code",
   "execution_count": 1,
   "id": "66eb7b5b-7f35-4821-bc48-9ae98e8327a5",
   "metadata": {},
   "outputs": [],
   "source": [
    "11. How do you add a paragraph with the text &#39;Hello, there!&#39; to a Document object stored in a\n",
    "variable named doc?\n",
    "\n"
   ]
  },
  {
   "cell_type": "code",
   "execution_count": null,
   "id": "3b964f13-dc5c-4c82-9e64-35aaca377880",
   "metadata": {},
   "outputs": [],
   "source": []
  },
  {
   "cell_type": "code",
   "execution_count": null,
   "id": "b933b203-9377-452a-ac66-6f398b39cd15",
   "metadata": {},
   "outputs": [],
   "source": []
  },
  {
   "cell_type": "code",
   "execution_count": null,
   "id": "0da70328-7ade-43b1-92c6-c075cc92c55f",
   "metadata": {},
   "outputs": [],
   "source": []
  },
  {
   "cell_type": "code",
   "execution_count": null,
   "id": "db901b1a-d9c3-4004-9fcd-030ce49ee27c",
   "metadata": {},
   "outputs": [],
   "source": []
  },
  {
   "cell_type": "code",
   "execution_count": null,
   "id": "2cdd616d-3885-4600-801e-960880e8003b",
   "metadata": {},
   "outputs": [],
   "source": []
  },
  {
   "cell_type": "code",
   "execution_count": null,
   "id": "d8de5f2b-1b9f-4bb9-9fbd-03ea74bcd66a",
   "metadata": {},
   "outputs": [],
   "source": []
  },
  {
   "cell_type": "code",
   "execution_count": null,
   "id": "48c806a4-88e4-459a-b034-c453be185fe1",
   "metadata": {},
   "outputs": [],
   "source": []
  },
  {
   "cell_type": "code",
   "execution_count": null,
   "id": "f31b18e9-15da-42fa-973e-f435dd3e82df",
   "metadata": {},
   "outputs": [],
   "source": []
  },
  {
   "cell_type": "code",
   "execution_count": null,
   "id": "cbc7e7f8-8c73-4ba4-a695-c75048d64850",
   "metadata": {},
   "outputs": [],
   "source": []
  },
  {
   "cell_type": "code",
   "execution_count": null,
   "id": "70399f3b-448e-49ff-a012-cb28f76be29a",
   "metadata": {},
   "outputs": [],
   "source": []
  },
  {
   "cell_type": "code",
   "execution_count": null,
   "id": "086ab901-7d2b-4511-ae44-0951a35a6147",
   "metadata": {},
   "outputs": [],
   "source": []
  },
  {
   "cell_type": "code",
   "execution_count": null,
   "id": "ca66a64a-55d6-4bfb-ae59-3e3f364da698",
   "metadata": {},
   "outputs": [],
   "source": []
  },
  {
   "cell_type": "code",
   "execution_count": null,
   "id": "567c439e-8ce4-4cfb-8e36-27dcc0598c48",
   "metadata": {},
   "outputs": [],
   "source": []
  },
  {
   "cell_type": "code",
   "execution_count": null,
   "id": "955c8d27-af9d-4409-a80e-1d1b7c84f578",
   "metadata": {},
   "outputs": [],
   "source": []
  },
  {
   "cell_type": "code",
   "execution_count": null,
   "id": "3d0ccc46-5c24-4a0e-956f-0fae08eb32ee",
   "metadata": {},
   "outputs": [],
   "source": []
  },
  {
   "cell_type": "code",
   "execution_count": null,
   "id": "d9701b6a-34dd-453e-942f-2cd05e842562",
   "metadata": {},
   "outputs": [],
   "source": []
  },
  {
   "cell_type": "code",
   "execution_count": null,
   "id": "451cc1af-981e-4fcb-8d69-fc8d007dc77d",
   "metadata": {},
   "outputs": [],
   "source": []
  },
  {
   "cell_type": "code",
   "execution_count": null,
   "id": "316c5837-7ab9-4a4a-9cb5-7cf5b47ac818",
   "metadata": {},
   "outputs": [],
   "source": []
  },
  {
   "cell_type": "code",
   "execution_count": null,
   "id": "39057901-1cba-414d-aba3-e743cd9a65a0",
   "metadata": {},
   "outputs": [],
   "source": []
  },
  {
   "cell_type": "code",
   "execution_count": null,
   "id": "24b2e89f-1d55-4aa4-8f73-b2d8318d7674",
   "metadata": {},
   "outputs": [],
   "source": []
  },
  {
   "cell_type": "code",
   "execution_count": null,
   "id": "2cc2856f-3d60-44c6-9082-22326f09083b",
   "metadata": {},
   "outputs": [],
   "source": []
  }
 ],
 "metadata": {
  "kernelspec": {
   "display_name": "Python 3 (ipykernel)",
   "language": "python",
   "name": "python3"
  },
  "language_info": {
   "codemirror_mode": {
    "name": "ipython",
    "version": 3
   },
   "file_extension": ".py",
   "mimetype": "text/x-python",
   "name": "python",
   "nbconvert_exporter": "python",
   "pygments_lexer": "ipython3",
   "version": "3.10.6"
  }
 },
 "nbformat": 4,
 "nbformat_minor": 5
}
