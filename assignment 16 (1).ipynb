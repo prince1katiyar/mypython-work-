{
 "cells": [
  {
   "cell_type": "code",
   "execution_count": null,
   "id": "7e500f11-b048-4f88-9d04-6bbfa0de1c69",
   "metadata": {},
   "outputs": [],
   "source": [
    "Create a list called years_list, starting with the year of your birth, and each year thereafter until\n",
    "the year of your fifth birthday. For example, if you were born in 1980. the list would be years_list =\n",
    "[1980, 1981, 1982, 1983, 1984, 1985]."
   ]
  },
  {
   "cell_type": "code",
   "execution_count": null,
   "id": "56e2e974-dc2d-41a7-82e2-fb598d1bfb8d",
   "metadata": {},
   "outputs": [],
   "source": [
    "years_list = [1995, 1996, 1997, 1998, 1999, 2000]   # assuming my birthday year is 1995"
   ]
  },
  {
   "cell_type": "code",
   "execution_count": null,
   "id": "1474386a-0524-40f3-8db5-fed064b421c1",
   "metadata": {},
   "outputs": [],
   "source": [
    "2. In which year in years_list was your third birthday? Remember, you were 0 years of age for your\n",
    "first year."
   ]
  },
  {
   "cell_type": "code",
   "execution_count": null,
   "id": "7c91c728-8a38-4cd1-ae32-220af759cfc0",
   "metadata": {},
   "outputs": [],
   "source": [
    "If the first year in years_list represents the year of birth and we assume that the person's birth year is 1995, then:\n",
    "\n",
    "The person's first year was 1995 (0 years old).\n",
    "The person's second year was 1996 (1 year old).\n",
    "The person's third year was 1997 (2 years old).\n",
    "Therefore, the person's third birthday would have been in the year 1998.\n",
    "\n",
    "\n",
    "\n"
   ]
  },
  {
   "cell_type": "code",
   "execution_count": null,
   "id": "1f2168b2-de6f-49cd-9eb3-e171540a6ef9",
   "metadata": {},
   "outputs": [],
   "source": [
    "3.In the years list, which year were you the oldest?"
   ]
  },
  {
   "cell_type": "code",
   "execution_count": null,
   "id": "d5667503-f2ad-4bf9-a75a-6272a0035039",
   "metadata": {},
   "outputs": [],
   "source": []
  },
  {
   "cell_type": "code",
   "execution_count": null,
   "id": "4e527b15-5ce4-4e6d-ba84-23bb30a25ad2",
   "metadata": {},
   "outputs": [],
   "source": [
    "4. Make a list called things with these three strings as elements:  mozzarella,cinderella,salmonella."
   ]
  },
  {
   "cell_type": "code",
   "execution_count": null,
   "id": "979996e7-e850-4bbe-bd61-a68c4a6b5f84",
   "metadata": {},
   "outputs": [],
   "source": [
    "things = ['mozzarella', 'cinderella', 'salmonella']"
   ]
  },
  {
   "cell_type": "code",
   "execution_count": null,
   "id": "d2cd9609-02f9-4895-97cf-e870734a7dcb",
   "metadata": {},
   "outputs": [],
   "source": [
    "5. Capitalize the element in things that refers to a person and then print the list. Did it change the\n",
    "element in the list?\n",
    "\n",
    "\n",
    "yes the element will change because python is case sensitive language .\n"
   ]
  },
  {
   "cell_type": "code",
   "execution_count": 2,
   "id": "fe07efe1-5aab-4e53-888a-4e6c38d21c57",
   "metadata": {},
   "outputs": [
    {
     "name": "stdout",
     "output_type": "stream",
     "text": [
      "['mozzarella', 'Cinderella', 'salmonella']\n"
     ]
    }
   ],
   "source": [
    "things = ['mozzarella', 'cinderella', 'salmonella']\n",
    "things[1] = things[1].capitalize()\n",
    "print(things)"
   ]
  },
  {
   "cell_type": "code",
   "execution_count": null,
   "id": "87d40823-2f9d-4f24-a387-d41affb27f4f",
   "metadata": {},
   "outputs": [],
   "source": [
    "6. Make a surprise list with the elements   :Groucho,Chico, and Harpo.\n",
    "\n",
    "surprise = ['Groucho', 'Chico', 'Harpo']"
   ]
  },
  {
   "cell_type": "code",
   "execution_count": null,
   "id": "db3d2c9b-1ca1-4d77-a560-77d96acae3e7",
   "metadata": {},
   "outputs": [],
   "source": [
    "7. Lowercase the last element of the surprise list, reverse it, and then capitalize it."
   ]
  },
  {
   "cell_type": "code",
   "execution_count": 3,
   "id": "cd67b272-d829-4c4d-a01c-5fade92cfb45",
   "metadata": {},
   "outputs": [
    {
     "name": "stdout",
     "output_type": "stream",
     "text": [
      "Oprah\n"
     ]
    }
   ],
   "source": [
    "surprise_list = [\"Groucho\", \"Chico\", \"Harpo\"]\n",
    "\n",
    "# Lowercase the last element\n",
    "last_element = surprise_list[-1].lower()\n",
    "\n",
    "# Reverse the last element\n",
    "reversed_element = last_element[::-1]\n",
    "\n",
    "# Capitalize the reversed element\n",
    "capitalized_element = reversed_element.capitalize()\n",
    "\n",
    "print(capitalized_element)"
   ]
  },
  {
   "cell_type": "code",
   "execution_count": null,
   "id": "f5e1dd9c-4b57-4d05-a854-3b4635e208d7",
   "metadata": {},
   "outputs": [],
   "source": [
    "8. Make an English-to-French dictionary called e2f and print it. Here are your starter words: dog is\n",
    "chien, cat is chat, and walrus is morse."
   ]
  },
  {
   "cell_type": "code",
   "execution_count": 4,
   "id": "69e9d23e-38e6-43b4-b411-b125b95fd50e",
   "metadata": {},
   "outputs": [
    {
     "name": "stdout",
     "output_type": "stream",
     "text": [
      "{'dog': 'chien', 'cat': 'chat', 'walrus': 'morse'}\n"
     ]
    }
   ],
   "source": [
    "e2f = {'dog': 'chien', 'cat': 'chat', 'walrus': 'morse'}\n",
    "print(e2f)"
   ]
  },
  {
   "cell_type": "code",
   "execution_count": null,
   "id": "0dcc38d6-1e5b-45ca-90a3-921d7e1dbe71",
   "metadata": {},
   "outputs": [],
   "source": [
    "9. Write the French word for walrus in your three-word dictionary e2f."
   ]
  },
  {
   "cell_type": "code",
   "execution_count": 5,
   "id": "d72d5fce-6584-43c4-a6c2-ddb90fcbc116",
   "metadata": {},
   "outputs": [
    {
     "name": "stdout",
     "output_type": "stream",
     "text": [
      "morse\n"
     ]
    }
   ],
   "source": [
    "e2f = {'dog': 'chien', 'cat': 'chat', 'walrus': 'morse'}\n",
    "french_word = e2f['walrus']\n",
    "print(french_word)"
   ]
  },
  {
   "cell_type": "code",
   "execution_count": null,
   "id": "35748964-0e5d-41ab-b02a-d72364654ca0",
   "metadata": {},
   "outputs": [],
   "source": [
    "10. Make a French-to-English dictionary called f2e from e2f. Use the items method."
   ]
  },
  {
   "cell_type": "code",
   "execution_count": 6,
   "id": "7a2138e2-7e57-4f96-a9b3-c1fb7f963a73",
   "metadata": {},
   "outputs": [
    {
     "name": "stdout",
     "output_type": "stream",
     "text": [
      "{'chien': 'dog', 'chat': 'cat', 'morse': 'walrus'}\n"
     ]
    }
   ],
   "source": [
    "e2f = {'dog': 'chien', 'cat': 'chat', 'walrus': 'morse'}\n",
    "f2e = {value: key for key, value in e2f.items()}\n",
    "print(f2e)"
   ]
  },
  {
   "cell_type": "code",
   "execution_count": null,
   "id": "f8777be3-2f31-4319-9ad3-3c0dbd815c8b",
   "metadata": {},
   "outputs": [],
   "source": [
    "11. Print the English version of the French word chien using f2e."
   ]
  },
  {
   "cell_type": "code",
   "execution_count": 7,
   "id": "694dfc89-29b6-4a95-b554-34415fc8624e",
   "metadata": {},
   "outputs": [
    {
     "name": "stdout",
     "output_type": "stream",
     "text": [
      "dog\n"
     ]
    }
   ],
   "source": [
    "e2f = {'dog': 'chien', 'cat': 'chat', 'walrus': 'morse'}\n",
    "f2e = {value: key for key, value in e2f.items()}\n",
    "english_word = f2e['chien']\n",
    "print(english_word)\n"
   ]
  },
  {
   "cell_type": "code",
   "execution_count": null,
   "id": "ea783111-4218-4d58-b246-f81bf0c65e80",
   "metadata": {},
   "outputs": [],
   "source": [
    "12. Make and print a set of English words from the keys in e2f."
   ]
  },
  {
   "cell_type": "code",
   "execution_count": 8,
   "id": "e37e7040-d01c-417b-8cfb-a88b8ae26b9d",
   "metadata": {},
   "outputs": [
    {
     "name": "stdout",
     "output_type": "stream",
     "text": [
      "{'cat', 'dog', 'walrus'}\n"
     ]
    }
   ],
   "source": [
    "e2f = {'dog': 'chien', 'cat': 'chat', 'walrus': 'morse'}\n",
    "english_words = set(e2f.keys())\n",
    "print(english_words)"
   ]
  },
  {
   "cell_type": "code",
   "execution_count": null,
   "id": "cb21aadb-7dd4-4bc3-9c47-e0b7f6ad11b2",
   "metadata": {},
   "outputs": [],
   "source": [
    "13. Make a multilevel dictionary called life. Use these strings for the topmost keys: animals,plants,\n",
    "and other. Make the animals key refer to another dictionary with the keys cats,octopi, and ,emus. Make the cats key refer to a list of strings with the values Henri,Grumpy, and Lucy.\n",
    "Make all the other keys refer to empty dictionaries."
   ]
  },
  {
   "cell_type": "code",
   "execution_count": 10,
   "id": "db175a83-5dc3-42db-968c-e001831ebdc2",
   "metadata": {},
   "outputs": [],
   "source": [
    "life = {'animals': {'cats': ['Henri', 'Grumpy', 'Lucy'], 'octopi': {}, 'emus': {}},\n",
    "        'plants': {},\n",
    "        'other': {}\n",
    "       }"
   ]
  },
  {
   "cell_type": "code",
   "execution_count": null,
   "id": "b65ba13f-d5bb-42ab-a23b-f761e0aaea96",
   "metadata": {},
   "outputs": [],
   "source": [
    "14. Print the top-level keys of life."
   ]
  },
  {
   "cell_type": "code",
   "execution_count": 12,
   "id": "ae0e73c8-af9c-40c7-aad1-01517500214d",
   "metadata": {},
   "outputs": [
    {
     "name": "stdout",
     "output_type": "stream",
     "text": [
      "dict_keys(['animals', 'plants', 'other'])\n"
     ]
    }
   ],
   "source": [
    "print(life.keys())"
   ]
  },
  {
   "cell_type": "code",
   "execution_count": null,
   "id": "fa8cacbf-f5ad-4af7-8118-26f5f8502f82",
   "metadata": {},
   "outputs": [],
   "source": [
    "15. princt the keys for life['animals']"
   ]
  },
  {
   "cell_type": "code",
   "execution_count": 13,
   "id": "f67a130d-7135-47d9-9c7b-6693ae04bde6",
   "metadata": {},
   "outputs": [
    {
     "name": "stdout",
     "output_type": "stream",
     "text": [
      "dict_keys(['cats', 'octopi', 'emus'])\n"
     ]
    }
   ],
   "source": [
    "print(life['animals'].keys())"
   ]
  },
  {
   "cell_type": "code",
   "execution_count": null,
   "id": "427e2a92-0a34-428b-a1f3-1ca556ed1535",
   "metadata": {},
   "outputs": [],
   "source": [
    "16. Print the values for life [animals][cats]"
   ]
  },
  {
   "cell_type": "code",
   "execution_count": 14,
   "id": "f54f38eb-336a-40d6-99a0-02e0a9b5a8c6",
   "metadata": {},
   "outputs": [
    {
     "name": "stdout",
     "output_type": "stream",
     "text": [
      "['Henri', 'Grumpy', 'Lucy']\n"
     ]
    }
   ],
   "source": [
    "print(life['animals']['cats'])"
   ]
  },
  {
   "cell_type": "code",
   "execution_count": null,
   "id": "eb27764e-93ff-4c2f-bf5d-531a626b904f",
   "metadata": {},
   "outputs": [],
   "source": []
  },
  {
   "cell_type": "code",
   "execution_count": null,
   "id": "af6c0540-fe2c-4124-8b08-aa116114c41d",
   "metadata": {},
   "outputs": [],
   "source": []
  },
  {
   "cell_type": "code",
   "execution_count": null,
   "id": "32843e48-dcfd-4fe4-be2f-8f7901d3ac17",
   "metadata": {},
   "outputs": [],
   "source": []
  }
 ],
 "metadata": {
  "kernelspec": {
   "display_name": "Python 3 (ipykernel)",
   "language": "python",
   "name": "python3"
  },
  "language_info": {
   "codemirror_mode": {
    "name": "ipython",
    "version": 3
   },
   "file_extension": ".py",
   "mimetype": "text/x-python",
   "name": "python",
   "nbconvert_exporter": "python",
   "pygments_lexer": "ipython3",
   "version": "3.10.6"
  }
 },
 "nbformat": 4,
 "nbformat_minor": 5
}
