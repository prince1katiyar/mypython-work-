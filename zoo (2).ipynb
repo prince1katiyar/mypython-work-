{
 "cells": [
  {
   "cell_type": "code",
   "execution_count": 4,
   "id": "96f9df4d-0de7-4570-bc1b-c6bcc90eb407",
   "metadata": {},
   "outputs": [],
   "source": [
    "Q1. What is the relationship between classes and modules?"
   ]
  },
  {
   "cell_type": "code",
   "execution_count": null,
   "id": "7953e508-4861-4a78-85f3-27299ac6da13",
   "metadata": {},
   "outputs": [],
   "source": [
    "A module is a file that contains Python code, which can define variables, functions, classes, and other objects.\n",
    "Modules provide a way to organize code into logical units and facilitate reuse of code across different programs. \n",
    "Modules are imported into other Python code using the import statement.\n",
    "\n",
    "\n",
    "A class is a blueprint for creating objects. It defines a set of attributes and methods that characterize objects of the class.\n",
    "Classes provide a way to encapsulate data and behavior into a single unit, making it easier to manage and reuse code.\n",
    "\n",
    "\n"
   ]
  },
  {
   "cell_type": "code",
   "execution_count": null,
   "id": "604ea0be-655b-4dbc-95e1-af6d0dfa470f",
   "metadata": {},
   "outputs": [],
   "source": [
    "Q2. How do you make instances and classes?\n",
    "\n",
    "An instance is a specific object created from a class.\n",
    "To create an instance of a class, you call the class like a function and assign the result to a variable\n",
    "\n",
    "To create a class, you use the class keyword followed by the name of the class.\n",
    "\n"
   ]
  },
  {
   "cell_type": "code",
   "execution_count": 8,
   "id": "88e97028-55a2-4640-9dd0-3b520fd0bfad",
   "metadata": {},
   "outputs": [],
   "source": [
    "class person:\n",
    "    \n",
    "    def __init__(self,name ,adress):\n",
    "        self.name =name\n",
    "        self.adress= adress\n",
    "        "
   ]
  },
  {
   "cell_type": "code",
   "execution_count": 12,
   "id": "bc62cd6f-fe4b-4605-b41a-f434c65e33b7",
   "metadata": {},
   "outputs": [],
   "source": [
    "person1=person(\"prince\",\"katiyar\")\n",
    "person2=person(\"sagar\",\"rabha\")       #  person1 , person 2 are the instance "
   ]
  },
  {
   "cell_type": "code",
   "execution_count": null,
   "id": "640ed960-1e09-4cca-b695-cb8fa8106c1a",
   "metadata": {},
   "outputs": [],
   "source": [
    "Q3. Where and how should be class attributes created?\n",
    "\n",
    "\n",
    "Class attributes are attributes that are shared by all instances of a class.\n",
    "They are defined within the class, but outside of any method, using the class keyword followed by the attribute name and its value. "
   ]
  },
  {
   "cell_type": "code",
   "execution_count": 18,
   "id": "0d333707-bfb2-4ac4-aeb4-519072d2f1ef",
   "metadata": {},
   "outputs": [],
   "source": [
    "class person :\n",
    "    \n",
    "    species= \"human\"\n",
    "    \n",
    "    def __init__(self,name,age):\n",
    "        self.name=name\n",
    "        self.age=age"
   ]
  },
  {
   "cell_type": "code",
   "execution_count": 20,
   "id": "6a4a5165-01a9-4f70-9d4d-392121a53ae0",
   "metadata": {},
   "outputs": [],
   "source": [
    "class Person:\n",
    "    species = \"human\"  # class attribute\n",
    "    \n",
    "    def __init__(self, name, age):\n",
    "        self.name = name\n",
    "        self.age = age\n"
   ]
  },
  {
   "cell_type": "code",
   "execution_count": 24,
   "id": "91f44f79-4506-42bc-872e-744e88d3fe0c",
   "metadata": {},
   "outputs": [
    {
     "name": "stdout",
     "output_type": "stream",
     "text": [
      "human\n",
      "human\n"
     ]
    }
   ],
   "source": [
    "print(Person.species)\n",
    "person1=person(\"prince\",\"age\")\n",
    "print(person1.species)"
   ]
  },
  {
   "cell_type": "code",
   "execution_count": null,
   "id": "0cfc0b16-d885-41fc-9c19-fa1b9c5e80a5",
   "metadata": {},
   "outputs": [],
   "source": [
    "Q5. What does the term self in a Python class mean?\n",
    "\n",
    "In Python, self is a convention used to refer to the instance of a class.\n",
    "When you define a method within a class, the first parameter of the method is conventionally named self.\n",
    "self refers to the instance of the class that the method is being called on\n"
   ]
  },
  {
   "cell_type": "code",
   "execution_count": null,
   "id": "a76086bf-9280-46d2-b856-de683cde359a",
   "metadata": {},
   "outputs": [],
   "source": [
    "Q6. How does a Python class handle operator overloading?\n",
    "\n",
    "Python classes support operator overloading, which allows you to define how operators like +, -, *, /, and others should behave when applied to instances of your class.\n",
    "This allows you to create custom classes that can be used with built-in Python operators in a natural way.\n",
    "To overload an operator in a Python class, you need to define a special method that corresponds to the operator.\n",
    "For example, to overload the + operator, you need to define the __add__ method in your class"
   ]
  },
  {
   "cell_type": "code",
   "execution_count": null,
   "id": "67711f23-f003-4783-9760-4b68d21f5730",
   "metadata": {},
   "outputs": [],
   "source": [
    "Q7. When do you consider allowing operator overloading of your classes?\n",
    "\n",
    "When your class represents a mathematical or scientific concept, such as a vector, matrix, or complex number. Overloading mathematical operators like +, -, *, and / can make it easier to work with instances of your class in a natural way.\n",
    "\n",
    "When your class represents a collection of items, such as a list, set, or dictionary. Overloading operators like [] (for indexing), in (for membership testing), and + (for concatenation) can make your class more convenient to use and integrate with existing Python code.\n",
    "\n",
    "When your class represents a custom data type, such as a date or time interval. Overloading comparison operators like <, <=, >, and >= can make it easier to compare instances of your class and sort them in a meaningful way.\n",
    "\n",
    "When overloading an operator would make your code more readable and intuitive. For example, you might overload the << operator to implement logging in a more natural way.\n"
   ]
  },
  {
   "cell_type": "code",
   "execution_count": null,
   "id": "1b230755-4678-442c-9ac3-535832dd23ba",
   "metadata": {},
   "outputs": [],
   "source": [
    "Q8. What is the most popular form of operator overloading?\n",
    "\n",
    "In Python, the most popular form of operator overloading is probably the implementation of the __add__ and __mul__ methods for numeric classes. \n",
    "These methods allow instances of custom classes to be added and multiplied in the same way as built-in numeric types like integers and floats.\n"
   ]
  },
  {
   "cell_type": "code",
   "execution_count": 3,
   "id": "5ea6dcca-38f5-4bab-82a6-81d99d7465db",
   "metadata": {},
   "outputs": [],
   "source": [
    "class ComplexNumber:\n",
    "    def __init__(self, real, imag):\n",
    "        self.real = real\n",
    "        self.imag = imag\n",
    "\n",
    "    def __add__(self, other):\n",
    "        return ComplexNumber(self.real + other.real, self.imag + other.imag)\n",
    "\n",
    "    def __mul__(self, other):\n",
    "        real = self.real * other.real - self.imag * other.imag\n",
    "        imag = self.real * other.imag + self.imag * other.real\n",
    "        return ComplexNumber(real, imag)"
   ]
  },
  {
   "cell_type": "code",
   "execution_count": 7,
   "id": "61d6e940-bcff-431d-88cf-235031e857ed",
   "metadata": {},
   "outputs": [
    {
     "name": "stdout",
     "output_type": "stream",
     "text": [
      "<__main__.ComplexNumber object at 0x7fdc907a8fd0>\n",
      "<__main__.ComplexNumber object at 0x7fdc90639210>\n",
      "<__main__.ComplexNumber object at 0x7fdc907bda50>\n",
      "<__main__.ComplexNumber object at 0x7fdc906209a0>\n"
     ]
    }
   ],
   "source": [
    "a = ComplexNumber(1, 2)\n",
    "print(a)\n",
    "b = ComplexNumber(3, 4)\n",
    "print(b)\n",
    "c = a + b  \n",
    "print(c)\n",
    "d = a * b\n",
    "print(d)"
   ]
  },
  {
   "cell_type": "code",
   "execution_count": null,
   "id": "784756a2-0944-41e0-9fdc-bd1b92a69531",
   "metadata": {},
   "outputs": [],
   "source": [
    "Q9. What are the two most important concepts to grasp in order to comprehend Python OOP code?"
   ]
  },
  {
   "cell_type": "code",
   "execution_count": null,
   "id": "4c45f74a-5798-4fa5-b0ea-07c373ec891c",
   "metadata": {},
   "outputs": [],
   "source": [
    "The two most important concepts to grasp in order to comprehend Python OOP code are classes and objects.\n",
    "\n",
    "Classes: A class is a blueprint or template for creating objects. It defines a set of attributes (data) and methods (functions) that the objects created from the class will have.\n",
    "Classes are used to represent real-world objects or concepts, and they allow us to encapsulate data and behavior into a single unit.\n",
    "\n",
    "Objects: An object is an instance of a class. It is created from the blueprint defined by the class and has its own set of attributes and methods. \n",
    "Objects allow us to work with individual instances of a class and manipulate their data and behavior.\n",
    "\n"
   ]
  }
 ],
 "metadata": {
  "kernelspec": {
   "display_name": "Python 3 (ipykernel)",
   "language": "python",
   "name": "python3"
  },
  "language_info": {
   "codemirror_mode": {
    "name": "ipython",
    "version": 3
   },
   "file_extension": ".py",
   "mimetype": "text/x-python",
   "name": "python",
   "nbconvert_exporter": "python",
   "pygments_lexer": "ipython3",
   "version": "3.10.6"
  }
 },
 "nbformat": 4,
 "nbformat_minor": 5
}
