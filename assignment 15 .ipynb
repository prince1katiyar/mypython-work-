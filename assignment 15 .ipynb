{
 "cells": [
  {
   "cell_type": "code",
   "execution_count": null,
   "id": "3f0d340e-5f3e-456a-b8d6-d5c1748195e6",
   "metadata": {},
   "outputs": [],
   "source": [
    "1.How many seconds are in an hour? Use the interactive interpreter as a calculator and multiply the\n",
    "number of seconds in a minute (60) by the number of minutes in an hour (also 60)."
   ]
  },
  {
   "cell_type": "code",
   "execution_count": null,
   "id": "6c2f2152-29fe-469b-8b67-7925dd5ba0c4",
   "metadata": {},
   "outputs": [],
   "source": [
    "To calculate the number of seconds in an hour, we need to multiply the number of seconds in a minute by the number of minutes in an hour\n",
    "60 * 60\n",
    "3600"
   ]
  },
  {
   "cell_type": "code",
   "execution_count": null,
   "id": "e3855991-b53f-491c-a94e-26b256672b06",
   "metadata": {},
   "outputs": [],
   "source": [
    "2. Assign the result from the previous task (seconds in an hour) to a variable called\n",
    "seconds_per_hour."
   ]
  },
  {
   "cell_type": "code",
   "execution_count": null,
   "id": "c8db524a-9b9e-40ab-8268-b90135935986",
   "metadata": {},
   "outputs": [],
   "source": [
    "seconds_per_hour = 60 * 60\n",
    "seconds_per_hour\n",
    "3600"
   ]
  },
  {
   "cell_type": "code",
   "execution_count": null,
   "id": "18699cfe-c347-4b45-a51e-9b80e3d403f4",
   "metadata": {},
   "outputs": [],
   "source": [
    "3. How many seconds do you think there are in a day? Make use of the variables seconds per hour\n",
    "and minutes per hour."
   ]
  },
  {
   "cell_type": "code",
   "execution_count": null,
   "id": "6f236ae8-9c26-4b3d-907a-21ccfa4c8925",
   "metadata": {},
   "outputs": [],
   "source": [
    "seconds_per_hour= 24*60*60\n",
    "seconds_per_day = seconds_per_hour * 24\n"
   ]
  },
  {
   "cell_type": "code",
   "execution_count": null,
   "id": "abaed68c-0329-489a-b9ad-c7c25ec8aadb",
   "metadata": {},
   "outputs": [],
   "source": [
    "4. Calculate seconds per day again, but this time save the result in a variable called seconds_per_day"
   ]
  },
  {
   "cell_type": "code",
   "execution_count": null,
   "id": "7012c513-423c-4811-8bfb-3c8b9f067718",
   "metadata": {},
   "outputs": [],
   "source": [
    "seconds_per_hour= 24*60*60\n",
    "seconds_per_day = seconds_per_hour * 24\n",
    "seconds_per_day\n",
    "86400\n"
   ]
  },
  {
   "cell_type": "code",
   "execution_count": null,
   "id": "44110b85-bc00-4537-bd19-66da7bcb7d54",
   "metadata": {},
   "outputs": [],
   "source": [
    "5. Divide seconds_per_day by seconds_per_hour. Use floating-point (/) division."
   ]
  },
  {
   "cell_type": "code",
   "execution_count": null,
   "id": "c4739784-9e7b-404e-a558-60665ec6304c",
   "metadata": {},
   "outputs": [],
   "source": [
    "seconds_per_day / seconds_per_hour\n",
    "24.0"
   ]
  },
  {
   "cell_type": "code",
   "execution_count": null,
   "id": "b4ca390b-ade6-4b1b-a8cc-173dc13b83bc",
   "metadata": {},
   "outputs": [],
   "source": []
  },
  {
   "cell_type": "code",
   "execution_count": null,
   "id": "725f0d06-4527-4c32-9b67-99ac21c5e555",
   "metadata": {},
   "outputs": [],
   "source": []
  },
  {
   "cell_type": "code",
   "execution_count": null,
   "id": "e1f412fd-320f-4771-a057-2c9b44845685",
   "metadata": {},
   "outputs": [],
   "source": []
  },
  {
   "cell_type": "code",
   "execution_count": null,
   "id": "b8e95064-3d03-4245-b804-531c1aa43bab",
   "metadata": {},
   "outputs": [],
   "source": []
  },
  {
   "cell_type": "code",
   "execution_count": null,
   "id": "21c85751-d090-46e4-8409-4fe715b12ad7",
   "metadata": {},
   "outputs": [],
   "source": [
    "7. Write a generator, genPrimes, that returns the sequence of prime numbers on successive calls to\n",
    "its next() method: 2, 3, 5, 7, 11, ..."
   ]
  },
  {
   "cell_type": "code",
   "execution_count": 1,
   "id": "59d1fde2-45e5-4eaf-98c6-ece03003f1bf",
   "metadata": {},
   "outputs": [],
   "source": [
    "def genPrimes():\n",
    "    # Initial primes\n",
    "    primes = [2, 3]\n",
    "    yield 2\n",
    "    yield 3\n",
    "    \n",
    "    # Generate primes\n",
    "    n = 5\n",
    "    while True:\n",
    "        is_prime = True\n",
    "        for p in primes:\n",
    "            if n % p == 0:\n",
    "                is_prime = False\n",
    "                break\n",
    "        if is_prime:\n",
    "            primes.append(n)\n",
    "            yield n\n",
    "        n += 2"
   ]
  },
  {
   "cell_type": "code",
   "execution_count": 4,
   "id": "574d07ce-f016-4323-8ee7-5406cbfcc215",
   "metadata": {},
   "outputs": [],
   "source": [
    "gen= genPrimes()"
   ]
  },
  {
   "cell_type": "code",
   "execution_count": 5,
   "id": "d083b3b5-8662-4048-a574-2caf9f692ac5",
   "metadata": {},
   "outputs": [
    {
     "data": {
      "text/plain": [
       "2"
      ]
     },
     "execution_count": 5,
     "metadata": {},
     "output_type": "execute_result"
    }
   ],
   "source": [
    "next(gen)"
   ]
  },
  {
   "cell_type": "code",
   "execution_count": 6,
   "id": "475cdf79-5be7-4075-b5ac-5162978f87b9",
   "metadata": {},
   "outputs": [
    {
     "data": {
      "text/plain": [
       "3"
      ]
     },
     "execution_count": 6,
     "metadata": {},
     "output_type": "execute_result"
    }
   ],
   "source": [
    "next(gen)\n"
   ]
  },
  {
   "cell_type": "code",
   "execution_count": 7,
   "id": "5ca7c2f4-de8d-4fe7-8193-0de888bc041e",
   "metadata": {},
   "outputs": [
    {
     "data": {
      "text/plain": [
       "5"
      ]
     },
     "execution_count": 7,
     "metadata": {},
     "output_type": "execute_result"
    }
   ],
   "source": [
    "next(gen)"
   ]
  }
 ],
 "metadata": {
  "kernelspec": {
   "display_name": "Python 3 (ipykernel)",
   "language": "python",
   "name": "python3"
  },
  "language_info": {
   "codemirror_mode": {
    "name": "ipython",
    "version": 3
   },
   "file_extension": ".py",
   "mimetype": "text/x-python",
   "name": "python",
   "nbconvert_exporter": "python",
   "pygments_lexer": "ipython3",
   "version": "3.10.6"
  }
 },
 "nbformat": 4,
 "nbformat_minor": 5
}
