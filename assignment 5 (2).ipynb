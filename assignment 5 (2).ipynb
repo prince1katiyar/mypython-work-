{
 "cells": [
  {
   "cell_type": "code",
   "execution_count": null,
   "id": "bbbcdefb-631c-4923-8556-ef002ff5d7af",
   "metadata": {},
   "outputs": [],
   "source": [
    "Q1. What is the meaning of multiple inheritance?\n",
    "\n",
    "\n",
    "Multiple inheritance is a feature in object-oriented programming (OOP) that allows a class to inherit properties and behavior from more than one parent class. \n",
    "In other words, a child class can have multiple base classes, each contributing its own set of attributes and methods to the child class."
   ]
  },
  {
   "cell_type": "code",
   "execution_count": 11,
   "id": "853803a9-56f9-4876-b784-64e27c3cd9d9",
   "metadata": {},
   "outputs": [
    {
     "name": "stdout",
     "output_type": "stream",
     "text": [
      "My name is Alice and I am 35 years old.\n",
      "I work in the Marketing department.\n",
      "My salary is 50000.\n"
     ]
    }
   ],
   "source": [
    "class Person:\n",
    "    def __init__(self, name, age):\n",
    "        self.name = name\n",
    "        self.age = age\n",
    "    \n",
    "    def introduce(self):\n",
    "        print(f\"My name is {self.name} and I am {self.age} years old.\")\n",
    "\n",
    "class Employee:\n",
    "    def __init__(self, salary, department):\n",
    "        self.salary = salary\n",
    "        self.department = department\n",
    "    \n",
    "    def get_salary(self):\n",
    "        print(f\"My salary is {self.salary}.\")\n",
    "\n",
    "class Manager(Person, Employee):\n",
    "    def __init__(self, name, age, salary, department):\n",
    "        Person.__init__(self, name, age)\n",
    "        Employee.__init__(self, salary, department)\n",
    "    \n",
    "    def introduce(self):\n",
    "        Person.introduce(self)\n",
    "        print(f\"I work in the {self.department} department.\")\n",
    "    \n",
    "\n",
    "\n",
    "manager = Manager(\"Alice\", 35, 50000, \"Marketing\")\n",
    "manager.introduce() \n",
    "manager.get_salary() \n"
   ]
  },
  {
   "cell_type": "code",
   "execution_count": null,
   "id": "eb545ba7-59df-4113-97c8-aa42d533bf36",
   "metadata": {},
   "outputs": [],
   "source": [
    "Q2. What is the concept of delegation?\n",
    "\n",
    "Delegation is a design pattern in object-oriented programming (OOP) where an object passes responsibility for a particular task or set of tasks to another object.\n",
    "In other words, instead of performing the task itself, the object delegates it to another object to perform.\n",
    "\n",
    "Delegation is a powerful technique that can make code more modular and flexible.\n",
    "It allows objects to specialize in specific tasks and promotes loose coupling between objects,\n",
    "which can make the code easier to maintain and extend.\n"
   ]
  },
  {
   "cell_type": "code",
   "execution_count": null,
   "id": "fbb8d4b3-e2e3-4613-b8a7-ea668b63b339",
   "metadata": {},
   "outputs": [],
   "source": [
    "Q3. What is the concept of composition?\n",
    "\n",
    "Composition is a concept in object-oriented programming (OOP) where a class is composed of other objects.\n",
    "In other words, the class is made up of one or more component objects that together define the class's behavior.\n",
    "Composition is a powerful technique for building complex objects out of simpler components.\n",
    "It allows objects to be designed in a modular way, where each component is responsible for a specific aspect of the object's behavior.\n",
    "This makes the code easier to understand, maintain, and extend.\n",
    "\n"
   ]
  },
  {
   "cell_type": "code",
   "execution_count": null,
   "id": "65164e05-0e4a-4f27-8628-de68043554a4",
   "metadata": {},
   "outputs": [],
   "source": [
    "Q4. What are bound methods and how do we use them?\n",
    "\n",
    "In Python, a bound method is a method that is attached to an instance of a class.\n",
    "When a method is called on an instance of a class, the instance is passed as the first argument to the method,\n",
    "allowing it to access the instance's attributes and perform operations on it.\n",
    "\n",
    "class MyClass:\n",
    "    def __init__(self, x):\n",
    "        self.x = x\n",
    "\n",
    "    def my_method(self, y):\n",
    "        return self.x + y\n",
    "\n",
    "obj = MyClass(10)\n",
    "\n",
    "result = obj.my_method(5)\n",
    "\n",
    "print(result) "
   ]
  },
  {
   "cell_type": "code",
   "execution_count": null,
   "id": "e5cf621a-5f83-4434-b906-51e672570211",
   "metadata": {},
   "outputs": [],
   "source": [
    "Q5. What is the purpose of pseudoprivate attributes?\n",
    "\n",
    "In Python, pseudoprivate attributes are a convention for making instance variables private to a class.\n",
    "The purpose of making instance variables private is to prevent accidental modification or misuse of these variables by external code. \n",
    "Pseudoprivate attributes are not truly private in the sense that they can still be accessed and modified from outside the class,\n",
    "but they are obfuscated to discourage direct access.\n"
   ]
  },
  {
   "cell_type": "code",
   "execution_count": null,
   "id": "bc30c0b5-2590-4076-a0b1-0558d07ae097",
   "metadata": {},
   "outputs": [],
   "source": []
  },
  {
   "cell_type": "code",
   "execution_count": null,
   "id": "5c1e6b94-edd7-488f-a18e-82771ce13794",
   "metadata": {},
   "outputs": [],
   "source": []
  },
  {
   "cell_type": "code",
   "execution_count": null,
   "id": "8f6f82f1-a742-4ff8-bf1b-cd77624c5b91",
   "metadata": {},
   "outputs": [],
   "source": []
  },
  {
   "cell_type": "code",
   "execution_count": null,
   "id": "b4d6b2fd-faa0-4d3e-9cbe-46267b900423",
   "metadata": {},
   "outputs": [],
   "source": []
  },
  {
   "cell_type": "code",
   "execution_count": null,
   "id": "40f4b37f-8b3d-4e38-81fe-6e3c25afa1ca",
   "metadata": {},
   "outputs": [],
   "source": []
  },
  {
   "cell_type": "code",
   "execution_count": null,
   "id": "906199ba-2ed0-4a71-a1ae-62e6790a09fc",
   "metadata": {},
   "outputs": [],
   "source": []
  },
  {
   "cell_type": "code",
   "execution_count": null,
   "id": "811cb77b-b35b-48ea-90b9-1904f103c924",
   "metadata": {},
   "outputs": [],
   "source": []
  },
  {
   "cell_type": "code",
   "execution_count": null,
   "id": "73f910a0-84e0-4753-8638-35bdbdb2e668",
   "metadata": {},
   "outputs": [],
   "source": []
  },
  {
   "cell_type": "code",
   "execution_count": null,
   "id": "495dab86-cb10-4a76-a0b2-b97031aec453",
   "metadata": {},
   "outputs": [],
   "source": []
  },
  {
   "cell_type": "code",
   "execution_count": null,
   "id": "28009eac-bcb8-40c9-aae3-c93b759a2497",
   "metadata": {},
   "outputs": [],
   "source": []
  },
  {
   "cell_type": "code",
   "execution_count": null,
   "id": "5c53195d-5f1d-4061-bf0d-151b089065a2",
   "metadata": {},
   "outputs": [],
   "source": []
  },
  {
   "cell_type": "code",
   "execution_count": null,
   "id": "82205a1a-e3f9-4c7d-a3c3-dfc08eec3a29",
   "metadata": {},
   "outputs": [],
   "source": []
  },
  {
   "cell_type": "code",
   "execution_count": null,
   "id": "90b7b23c-d744-40f7-828c-6314967c1e07",
   "metadata": {},
   "outputs": [],
   "source": []
  },
  {
   "cell_type": "code",
   "execution_count": null,
   "id": "8cd261b1-ae97-46b7-82ad-bb6870b4d442",
   "metadata": {},
   "outputs": [],
   "source": []
  },
  {
   "cell_type": "code",
   "execution_count": null,
   "id": "3ec3b0e4-436c-43a8-96b2-aaf7760ab39e",
   "metadata": {},
   "outputs": [],
   "source": []
  },
  {
   "cell_type": "code",
   "execution_count": null,
   "id": "f56f46b5-0f11-488e-b7a1-fde2e5a4e08b",
   "metadata": {},
   "outputs": [],
   "source": []
  }
 ],
 "metadata": {
  "kernelspec": {
   "display_name": "Python 3 (ipykernel)",
   "language": "python",
   "name": "python3"
  },
  "language_info": {
   "codemirror_mode": {
    "name": "ipython",
    "version": 3
   },
   "file_extension": ".py",
   "mimetype": "text/x-python",
   "name": "python",
   "nbconvert_exporter": "python",
   "pygments_lexer": "ipython3",
   "version": "3.10.6"
  }
 },
 "nbformat": 4,
 "nbformat_minor": 5
}
