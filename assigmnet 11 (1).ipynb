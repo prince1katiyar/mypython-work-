{
 "cells": [
  {
   "cell_type": "code",
   "execution_count": null,
   "id": "05038e51-01ad-4295-8869-973f72628458",
   "metadata": {},
   "outputs": [],
   "source": [
    "1. Create an assert statement that throws an AssertionError if the variable spam is a negative\n",
    "integer.\n"
   ]
  },
  {
   "cell_type": "code",
   "execution_count": null,
   "id": "2477823f-9327-46c0-bde4-66e4b9428328",
   "metadata": {},
   "outputs": [],
   "source": [
    "assert spam >= 0 ,\"this is a negative number\""
   ]
  },
  {
   "cell_type": "code",
   "execution_count": null,
   "id": "98735ae8-c796-4751-a555-8b599b87e620",
   "metadata": {},
   "outputs": [],
   "source": [
    "2. Write an assert statement that triggers an AssertionError if the variables eggs and bacon contain strings that are the same as each other, \n",
    "even if their cases are different (that is, 'hello' and 'hello' are considered the same,and 'goodbye' and 'GOODbye' are also considered the same)."
   ]
  },
  {
   "cell_type": "code",
   "execution_count": null,
   "id": "fc160d29-90c3-4348-a75a-7551f514ffca",
   "metadata": {},
   "outputs": [],
   "source": [
    "assert eggs.islower() != bacon.islower() ,\" these are the same\""
   ]
  },
  {
   "cell_type": "code",
   "execution_count": null,
   "id": "2b061087-ab14-4108-b998-a4ebd25cfb5d",
   "metadata": {},
   "outputs": [],
   "source": [
    "3. Create an assert statement that throws an AssertionError every time.\n",
    "\n",
    "\n",
    "assser False"
   ]
  },
  {
   "cell_type": "code",
   "execution_count": null,
   "id": "5c991d93-db00-4392-8448-5efad79e4191",
   "metadata": {},
   "outputs": [],
   "source": [
    "4. What are the two lines that must be present in your software in order to call logging.debug()?\n",
    "\n",
    "import logging\n",
    "logging.basicConfig(level= logging.DEBUG,format =\"%(asctime)s-%(levelname)s- %(message)s\")"
   ]
  },
  {
   "cell_type": "code",
   "execution_count": null,
   "id": "c62895d8-4d89-49a1-a216-8ffba37dabb4",
   "metadata": {},
   "outputs": [],
   "source": [
    "5. What are the two lines that your program must have in order to have logging.debug() send a\n",
    "logging message to a file named programLog.txt?\n"
   ]
  },
  {
   "cell_type": "code",
   "execution_count": null,
   "id": "41b19528-dd52-48ff-ae8f-841293e4f753",
   "metadata": {},
   "outputs": [],
   "source": [
    "import logging\n",
    "logging.basicConfig(filename=\"programming.txt\",level= logging.DEBUG,format =\"%(asctime)s-%(levelname)s- %(message)s\")"
   ]
  },
  {
   "cell_type": "code",
   "execution_count": null,
   "id": "dba9c6b5-0694-4a60-87fc-0e0c96e417dd",
   "metadata": {},
   "outputs": [],
   "source": [
    "6. What are the five levels of logging?\n",
    "\n",
    "level of logging are -\n",
    "DEBUG, INFO ,WARNING,ERROR  and CRITICAL"
   ]
  },
  {
   "cell_type": "code",
   "execution_count": null,
   "id": "e7ce9e54-6e7d-4d26-bfca-171e62514d7e",
   "metadata": {},
   "outputs": [],
   "source": [
    "7. What line of code would you add to your software to disable all logging messages?\n",
    "\n",
    "\n",
    "logging.disable(logging.CRITICAL)"
   ]
  },
  {
   "cell_type": "code",
   "execution_count": null,
   "id": "715594cc-b73d-48af-aa8e-13512584f315",
   "metadata": {},
   "outputs": [],
   "source": [
    "8.Why is using logging messages better than using print() to display the same message?\n",
    "\n",
    "\n",
    "1)-One of the advantages of using the logging module to track our codes is the ability to format the messages based on our needs.\n",
    "2)-Logging is a built-in library within Python, which offers capabilities to log and store different levels of information throughout a program,\n",
    "helping developers to monitor, investigate and diagnose their program effectively"
   ]
  },
  {
   "cell_type": "code",
   "execution_count": 6,
   "id": "95dd3650-5144-4859-9830-79619674937c",
   "metadata": {},
   "outputs": [
    {
     "data": {
      "text/plain": [
       "'9. What are the differences between the Step Over, Step In, and Step Out buttons in the debugger?\\n\\n1-if the current line contains a function call, Step Over -runs the code and then suspends execution at the first line of code after the called function returns\\n3-step in - refers to the debugging method of executing code one instruction or line at a time.\\n3-\\tStep Out- continues running code and suspends execution when the current function returns. The debugger skips through the current function.'"
      ]
     },
     "execution_count": 6,
     "metadata": {},
     "output_type": "execute_result"
    }
   ],
   "source": [
    "'''9. What are the differences between the Step Over, Step In, and Step Out buttons in the debugger?\n",
    "\n",
    "1-if the current line contains a function call, Step Over -runs the code and then suspends execution at the first line of code after the called function returns\n",
    "3-step in - refers to the debugging method of executing code one instruction or line at a time.\n",
    "3-\tStep Out- continues running code and suspends execution when the current function returns. The debugger skips through the current function.'''"
   ]
  },
  {
   "cell_type": "code",
   "execution_count": 3,
   "id": "ad7f21f6-93e1-42eb-bf6a-090071ace1b5",
   "metadata": {},
   "outputs": [],
   "source": [
    "10.After you click Continue, when will the debugger stop ?\n",
    "\n",
    "After you click continue, the debugger will stop when it has reached the end of the program or a line with a breakpoint."
   ]
  },
  {
   "cell_type": "code",
   "execution_count": null,
   "id": "b0db2806-3d22-4196-a239-409ed1639c89",
   "metadata": {},
   "outputs": [],
   "source": [
    "11. What is the concept of a breakpoint?\n",
    "\n",
    "A breakpoint is a setting on a line of code that causes the debugger to pause when the program execution reaches the line."
   ]
  },
  {
   "cell_type": "code",
   "execution_count": null,
   "id": "a0482a14-dd05-42b1-b4f4-3130344648c9",
   "metadata": {},
   "outputs": [],
   "source": []
  },
  {
   "cell_type": "code",
   "execution_count": null,
   "id": "3bc67942-f54a-41e3-9e01-d2f550f45125",
   "metadata": {},
   "outputs": [],
   "source": []
  },
  {
   "cell_type": "code",
   "execution_count": null,
   "id": "7ba04aea-a6cc-44e2-8a97-055f9f21bd84",
   "metadata": {},
   "outputs": [],
   "source": []
  },
  {
   "cell_type": "code",
   "execution_count": null,
   "id": "446eee13-244d-494b-9ffd-19be441091b8",
   "metadata": {},
   "outputs": [],
   "source": []
  },
  {
   "cell_type": "code",
   "execution_count": null,
   "id": "670c441d-b0b3-4405-b477-acca42dbe333",
   "metadata": {},
   "outputs": [],
   "source": []
  },
  {
   "cell_type": "code",
   "execution_count": null,
   "id": "b500f1b8-fee0-4984-99af-cd4e673816b1",
   "metadata": {},
   "outputs": [],
   "source": []
  },
  {
   "cell_type": "code",
   "execution_count": null,
   "id": "624731b0-a267-439b-ad60-951f20233413",
   "metadata": {},
   "outputs": [],
   "source": []
  },
  {
   "cell_type": "code",
   "execution_count": null,
   "id": "c7fc68d1-9855-4115-ba2e-e16a81836ec0",
   "metadata": {},
   "outputs": [],
   "source": []
  },
  {
   "cell_type": "code",
   "execution_count": null,
   "id": "46bd14ad-cb5a-4451-b07c-6a7eb8bc3b6b",
   "metadata": {},
   "outputs": [],
   "source": []
  },
  {
   "cell_type": "code",
   "execution_count": null,
   "id": "4a7b62b5-e2bb-4411-b23e-9969bf55d3eb",
   "metadata": {},
   "outputs": [],
   "source": []
  },
  {
   "cell_type": "code",
   "execution_count": null,
   "id": "b1e35501-5da3-4110-94fb-27680615eb61",
   "metadata": {},
   "outputs": [],
   "source": []
  },
  {
   "cell_type": "code",
   "execution_count": null,
   "id": "c218a723-6afc-490a-a625-d260c925f96f",
   "metadata": {},
   "outputs": [],
   "source": []
  },
  {
   "cell_type": "code",
   "execution_count": null,
   "id": "236ff4ab-52f5-432c-93ca-c97765f5a675",
   "metadata": {},
   "outputs": [],
   "source": []
  },
  {
   "cell_type": "code",
   "execution_count": null,
   "id": "e8c10002-0b65-4a43-ba2e-00781e8539b8",
   "metadata": {},
   "outputs": [],
   "source": []
  }
 ],
 "metadata": {
  "kernelspec": {
   "display_name": "Python 3 (ipykernel)",
   "language": "python",
   "name": "python3"
  },
  "language_info": {
   "codemirror_mode": {
    "name": "ipython",
    "version": 3
   },
   "file_extension": ".py",
   "mimetype": "text/x-python",
   "name": "python",
   "nbconvert_exporter": "python",
   "pygments_lexer": "ipython3",
   "version": "3.10.6"
  }
 },
 "nbformat": 4,
 "nbformat_minor": 5
}
