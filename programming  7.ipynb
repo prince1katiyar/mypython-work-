{
 "cells": [
  {
   "cell_type": "code",
   "execution_count": null,
   "id": "b04e2607-3f9f-4c44-98cf-d19afb1a2cc7",
   "metadata": {},
   "outputs": [],
   "source": [
    "1. Write a Python Program to find sum of array?"
   ]
  },
  {
   "cell_type": "code",
   "execution_count": 4,
   "id": "9d31fe60-6b12-4195-8005-5a555c87d64d",
   "metadata": {},
   "outputs": [],
   "source": [
    "def arrsum(arr):\n",
    "    sum =0\n",
    "    \n",
    "    for i in arr:\n",
    "        sum = sum+i\n",
    "    print(sum)\n",
    "            \n",
    "        \n",
    "arr =[12,3,4,15]"
   ]
  },
  {
   "cell_type": "code",
   "execution_count": 5,
   "id": "bafdc377-3106-4072-9370-90bb18531904",
   "metadata": {},
   "outputs": [
    {
     "name": "stdout",
     "output_type": "stream",
     "text": [
      "34\n"
     ]
    }
   ],
   "source": [
    "arrsum(arr)"
   ]
  },
  {
   "cell_type": "code",
   "execution_count": null,
   "id": "12b528a4-d40f-4cd0-ab2a-a2231578d05c",
   "metadata": {},
   "outputs": [],
   "source": [
    "2. Write a Python Program to find largest element in an array?"
   ]
  },
  {
   "cell_type": "code",
   "execution_count": 22,
   "id": "b37452e7-8e5a-44bd-83f0-bb2a12242826",
   "metadata": {},
   "outputs": [],
   "source": [
    "def arrsum(arr):\n",
    "    max = arr[0]\n",
    "    \n",
    "    for i in range (len(arr)):\n",
    "        if arr[i] > max:\n",
    "            max = arr[i]\n",
    "    return max \n",
    "            \n",
    "        \n",
    "arr =[12,3,4,15,34,534,323,232,434]"
   ]
  },
  {
   "cell_type": "code",
   "execution_count": 23,
   "id": "438dad45-b288-4b75-9f1a-374e45fc0644",
   "metadata": {},
   "outputs": [
    {
     "data": {
      "text/plain": [
       "534"
      ]
     },
     "execution_count": 23,
     "metadata": {},
     "output_type": "execute_result"
    }
   ],
   "source": [
    "arrsum(arr)"
   ]
  },
  {
   "cell_type": "code",
   "execution_count": null,
   "id": "b6ec712d-2363-4f65-be0d-8b343e9b9648",
   "metadata": {},
   "outputs": [],
   "source": [
    "3. Write a Python Program for array rotation?"
   ]
  },
  {
   "cell_type": "code",
   "execution_count": 1,
   "id": "b1bcef9e-57b5-49bb-a561-3d20588ea3c0",
   "metadata": {},
   "outputs": [
    {
     "name": "stdout",
     "output_type": "stream",
     "text": [
      "Array after left rotation is:  [3, 4, 5, 6, 7, 1, 2]\n"
     ]
    }
   ],
   "source": [
    "def rotateArray(arr, n, d):\n",
    "    temp = []\n",
    "    i = 0\n",
    "    while (i < d):\n",
    "        temp.append(arr[i])\n",
    "        i = i + 1\n",
    "    i = 0\n",
    "    while (d < n):\n",
    "        arr[i] = arr[d]\n",
    "        i = i + 1\n",
    "        d = d + 1\n",
    "    arr[:] = arr[: i] + temp\n",
    "    return arr\n",
    " \n",
    " \n",
    "arr = [1, 2, 3, 4, 5, 6, 7]\n",
    "print(\"Array after left rotation is: \", end=' ')\n",
    "print(rotateArray(arr, len(arr), 2))"
   ]
  },
  {
   "cell_type": "code",
   "execution_count": null,
   "id": "a743bafa-a6fc-4c7f-a8bc-83d6d3127e96",
   "metadata": {},
   "outputs": [],
   "source": [
    "4. Write a Python Program to Split the array and add the first part to the end?\n",
    "\n"
   ]
  },
  {
   "cell_type": "code",
   "execution_count": 5,
   "id": "1e1fa574-6118-40d2-84dc-d4395a54cfd0",
   "metadata": {},
   "outputs": [
    {
     "name": "stdout",
     "output_type": "stream",
     "text": [
      "[3, 4, 5, 6, 6, 67, 1, 2]\n"
     ]
    }
   ],
   "source": [
    "arr =[1,2,3,4,5,6,6,67]\n",
    "position_os_split = 2\n",
    "p=position_os_split\n",
    "x =arr[:p]\n",
    "y=arr[p:]\n",
    "y.extend(x)\n",
    "print(y)\n"
   ]
  },
  {
   "cell_type": "code",
   "execution_count": null,
   "id": "3a8a709b-ffd2-440d-8efd-80e5392ab5a3",
   "metadata": {},
   "outputs": [],
   "source": [
    "5. Write a Python Program to check if given array is Monotonic?\n"
   ]
  },
  {
   "cell_type": "code",
   "execution_count": 28,
   "id": "f3608775-33ea-4b9f-b465-95f24ccb4e69",
   "metadata": {},
   "outputs": [
    {
     "name": "stdout",
     "output_type": "stream",
     "text": [
      "True\n",
      "[6, 5, 4, 4]\n"
     ]
    }
   ],
   "source": [
    "# Check if given array is Monotonic\n",
    "def isMonotonic(A):\n",
    "\tx, y = [], []\n",
    "\tx.extend(A)\n",
    "\ty.extend(A)\n",
    "\tx.sort()\n",
    "\ty.sort(reverse=True)\n",
    "\tif(x == A or y == A):\n",
    "\t\treturn True\n",
    "\treturn False\n",
    "\n",
    "\n",
    "# Driver program\n",
    "A = [6, 5, 4, 4]\n",
    "\n",
    "# Print required result\n",
    "print(isMonotonic(A))\n",
    "print(A)"
   ]
  },
  {
   "cell_type": "code",
   "execution_count": 37,
   "id": "846a3b07-7941-4c31-a4f8-5b5dcb2df8dd",
   "metadata": {},
   "outputs": [
    {
     "name": "stdout",
     "output_type": "stream",
     "text": [
      "None\n"
     ]
    }
   ],
   "source": [
    "def monotonic(A):\n",
    "    x=[]\n",
    "    y=[]\n",
    "\n",
    "    x.extend(A)\n",
    "    y.extend(A)\n",
    "    x.sort()\n",
    "    y.sort(reverse=True)\n",
    "    \n",
    "    if x ==A:\n",
    "        return A\n",
    "A=[1,2,4,5,2]"
   ]
  },
  {
   "cell_type": "code",
   "execution_count": null,
   "id": "89d711c3-cd4c-4b15-bf06-0df5bef0ea01",
   "metadata": {},
   "outputs": [],
   "source": []
  },
  {
   "cell_type": "code",
   "execution_count": null,
   "id": "ab433bd4-1ba9-44ee-96d3-ba368c023424",
   "metadata": {},
   "outputs": [],
   "source": []
  },
  {
   "cell_type": "code",
   "execution_count": null,
   "id": "c788e7bb-af79-4613-9059-c9abe19e8959",
   "metadata": {},
   "outputs": [],
   "source": []
  },
  {
   "cell_type": "code",
   "execution_count": null,
   "id": "6356140f-68ba-4703-94d5-c1d367acc027",
   "metadata": {},
   "outputs": [],
   "source": []
  },
  {
   "cell_type": "code",
   "execution_count": null,
   "id": "44c7bd7c-03d9-493b-ad95-68c8719244ba",
   "metadata": {},
   "outputs": [],
   "source": []
  },
  {
   "cell_type": "code",
   "execution_count": null,
   "id": "1e36710a-6fd8-4f70-bd74-2f01053a24d2",
   "metadata": {},
   "outputs": [],
   "source": []
  },
  {
   "cell_type": "code",
   "execution_count": null,
   "id": "9a3190be-5c77-4f40-9399-284f67af3518",
   "metadata": {},
   "outputs": [],
   "source": []
  }
 ],
 "metadata": {
  "kernelspec": {
   "display_name": "Python 3 (ipykernel)",
   "language": "python",
   "name": "python3"
  },
  "language_info": {
   "codemirror_mode": {
    "name": "ipython",
    "version": 3
   },
   "file_extension": ".py",
   "mimetype": "text/x-python",
   "name": "python",
   "nbconvert_exporter": "python",
   "pygments_lexer": "ipython3",
   "version": "3.10.6"
  }
 },
 "nbformat": 4,
 "nbformat_minor": 5
}
