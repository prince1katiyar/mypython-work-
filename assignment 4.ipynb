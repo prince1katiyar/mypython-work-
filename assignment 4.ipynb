{
 "cells": [
  {
   "cell_type": "code",
   "execution_count": null,
   "id": "1ac64810-bfdb-473c-8603-93738d8d6315",
   "metadata": {},
   "outputs": [],
   "source": [
    "1. What exactly is []\n",
    "\n",
    "this is empty list .we can store element in this empty  list."
   ]
  },
  {
   "cell_type": "code",
   "execution_count": null,
   "id": "82a686a1-68ce-4f35-8ab3-f376a3828791",
   "metadata": {},
   "outputs": [],
   "source": [
    "2. In a list of values stored in a variable called spam, how would you assign the value\n",
    "third value? (Assume [2, 4, 6, 8, 10] are in spam.)\n"
   ]
  },
  {
   "cell_type": "code",
   "execution_count": 1,
   "id": "bc836b36-6cfc-4ea5-85ae-d392ecff15ba",
   "metadata": {},
   "outputs": [
    {
     "data": {
      "text/plain": [
       "6"
      ]
     },
     "execution_count": 1,
     "metadata": {},
     "output_type": "execute_result"
    }
   ],
   "source": [
    "spam = [2,4,6,8,10]\n",
    "spam[2]"
   ]
  },
  {
   "cell_type": "code",
   "execution_count": null,
   "id": "e94a00da-6826-4930-833d-2a0333602ec1",
   "metadata": {},
   "outputs": [],
   "source": [
    "3. What is the value of spam[int(int('3'*2)/11)]"
   ]
  },
  {
   "cell_type": "code",
   "execution_count": 2,
   "id": "83e49a30-1809-445b-a3ac-120800ebe5f4",
   "metadata": {},
   "outputs": [
    {
     "data": {
      "text/plain": [
       "8"
      ]
     },
     "execution_count": 2,
     "metadata": {},
     "output_type": "execute_result"
    }
   ],
   "source": [
    "spam[int(int('3'*2)/11)]"
   ]
  },
  {
   "cell_type": "code",
   "execution_count": 8,
   "id": "d2ba3eba-f0e7-4e73-876b-3ae0665c50ea",
   "metadata": {},
   "outputs": [
    {
     "data": {
      "text/plain": [
       "8"
      ]
     },
     "execution_count": 8,
     "metadata": {},
     "output_type": "execute_result"
    }
   ],
   "source": [
    "4. What is the value of spam[-1]?"
   ]
  },
  {
   "cell_type": "code",
   "execution_count": 22,
   "id": "4c177cf8-c4e7-4084-a87d-977515c2476d",
   "metadata": {},
   "outputs": [
    {
     "data": {
      "text/plain": [
       "10"
      ]
     },
     "execution_count": 22,
     "metadata": {},
     "output_type": "execute_result"
    }
   ],
   "source": [
    " spam[-1]"
   ]
  },
  {
   "cell_type": "code",
   "execution_count": null,
   "id": "04c2f33f-ac35-4b25-9d41-bbc8054f97de",
   "metadata": {},
   "outputs": [],
   "source": [
    "5. What is the value of spam[:2]?"
   ]
  },
  {
   "cell_type": "code",
   "execution_count": 23,
   "id": "34bdcc87-6665-4372-85c2-60a29d4383bc",
   "metadata": {},
   "outputs": [
    {
     "data": {
      "text/plain": [
       "[2, 4]"
      ]
     },
     "execution_count": 23,
     "metadata": {},
     "output_type": "execute_result"
    }
   ],
   "source": [
    "spam[:2]"
   ]
  },
  {
   "cell_type": "code",
   "execution_count": 34,
   "id": "21213b21-9c1b-4e0a-82ea-3ee2770a4f12",
   "metadata": {},
   "outputs": [],
   "source": [
    "bacon = [3.14,'cat', 11,'cat', True]"
   ]
  },
  {
   "cell_type": "code",
   "execution_count": 29,
   "id": "e6e42705-118c-47a4-8854-b8ce1339de83",
   "metadata": {},
   "outputs": [
    {
     "ename": "SyntaxError",
     "evalue": "invalid syntax (252142182.py, line 1)",
     "output_type": "error",
     "traceback": [
      "\u001b[0;36m  Cell \u001b[0;32mIn [29], line 1\u001b[0;36m\u001b[0m\n\u001b[0;31m    6. What is the value of bacon.index('cat')?\u001b[0m\n\u001b[0m       ^\u001b[0m\n\u001b[0;31mSyntaxError\u001b[0m\u001b[0;31m:\u001b[0m invalid syntax\n"
     ]
    }
   ],
   "source": [
    "6. What is the value of bacon.index('cat')?"
   ]
  },
  {
   "cell_type": "code",
   "execution_count": 35,
   "id": "3d37609a-9950-4c5c-8961-ab95e71f2393",
   "metadata": {},
   "outputs": [
    {
     "data": {
      "text/plain": [
       "1"
      ]
     },
     "execution_count": 35,
     "metadata": {},
     "output_type": "execute_result"
    }
   ],
   "source": [
    "bacon.index('cat')"
   ]
  },
  {
   "cell_type": "code",
   "execution_count": null,
   "id": "d502f83b-a293-41a1-93b6-b6b461432c1e",
   "metadata": {},
   "outputs": [],
   "source": [
    "7. How does bacon.append(99) change the look of the list value in bacon?"
   ]
  },
  {
   "cell_type": "code",
   "execution_count": 41,
   "id": "61a5d7d1-d95d-4edf-8117-50e7247645df",
   "metadata": {},
   "outputs": [],
   "source": [
    "bacon.append(99)"
   ]
  },
  {
   "cell_type": "code",
   "execution_count": 42,
   "id": "d2c751ec-b341-43a4-8c3e-e6142de04ab5",
   "metadata": {},
   "outputs": [
    {
     "data": {
      "text/plain": [
       "[3.14, 'cat', 11, 'cat', True, 99, 99, 99]"
      ]
     },
     "execution_count": 42,
     "metadata": {},
     "output_type": "execute_result"
    }
   ],
   "source": [
    "bacon       # it will add in the  list at the last position here i run the program three times so it add thre times. "
   ]
  },
  {
   "cell_type": "code",
   "execution_count": null,
   "id": "4f9a3a81-b47f-4fa2-b864-3fcd35730953",
   "metadata": {},
   "outputs": [],
   "source": [
    "8. How does bacon.remove(cat) change the look of the list in bacon?"
   ]
  },
  {
   "cell_type": "code",
   "execution_count": 44,
   "id": "d1ce7e97-73bc-4d89-b813-74c04ef544a2",
   "metadata": {},
   "outputs": [],
   "source": [
    "bacon.remove(\"cat\")"
   ]
  },
  {
   "cell_type": "code",
   "execution_count": 45,
   "id": "68ebbb23-860b-49ba-9289-603162256ca4",
   "metadata": {},
   "outputs": [
    {
     "data": {
      "text/plain": [
       "[3.14, 11, 'cat', True, 99, 99, 99]"
      ]
     },
     "execution_count": 45,
     "metadata": {},
     "output_type": "execute_result"
    }
   ],
   "source": [
    "bacon"
   ]
  },
  {
   "cell_type": "code",
   "execution_count": null,
   "id": "f28af6e5-25f6-42e4-b597-3b7d1ba16061",
   "metadata": {},
   "outputs": [],
   "source": [
    "9. What are the list concatenation and list replication operators?\n",
    "\n",
    "\n",
    "Concatenation is done by + operator. Concatenation is supported by sequence data types(string, list, tuple). Concatenation is done between the same data types only.\n",
    " The repetition operator * will make multiple copies of that particular object and combines them together."
   ]
  },
  {
   "cell_type": "code",
   "execution_count": null,
   "id": "1031c3ea-934b-434f-8e69-cbaa3b17c051",
   "metadata": {},
   "outputs": [],
   "source": [
    "10. What is difference between the list methods append() and insert()?\n",
    "\n",
    "append () can only add the element at the last of the  list . while insert () can add the  element at any  index in  list.\n",
    "\n",
    "\n"
   ]
  },
  {
   "cell_type": "code",
   "execution_count": null,
   "id": "555eb6fa-d14c-4ecf-91b1-0e80f06215fe",
   "metadata": {},
   "outputs": [],
   "source": [
    "11. What are the two methods for removing items from a list?\n",
    "\n",
    "two methods to remove items for list=\n",
    "pop()\n",
    "remove()\n",
    "del()"
   ]
  },
  {
   "cell_type": "code",
   "execution_count": null,
   "id": "f1741f5b-fcbd-4286-a1a7-e4240206b301",
   "metadata": {},
   "outputs": [],
   "source": [
    "12. Describe how list values and string values are identical."
   ]
  },
  {
   "cell_type": "code",
   "execution_count": null,
   "id": "f409ba8c-9e94-4814-9fb4-d4175263e045",
   "metadata": {},
   "outputs": [],
   "source": [
    "Both strings and lists have lengths a string length is the number of characters in the string\n",
    "a list  length is the number of items in the list.\n",
    "Each character in a string as well as each item in a list has a position, also called an \"index\".\n"
   ]
  },
  {
   "cell_type": "code",
   "execution_count": null,
   "id": "d9334ca6-b05c-4519-9845-58c078a1e051",
   "metadata": {},
   "outputs": [],
   "source": [
    "13. What is the difference between tuples and lists?"
   ]
  },
  {
   "cell_type": "code",
   "execution_count": 3,
   "id": "813ac39d-5dfe-486f-9035-ac152bfef505",
   "metadata": {},
   "outputs": [],
   "source": [
    "tuples=(1,2,3,44,4)   # immutable   = we can not assign  two value at one index\n",
    "list=[1,2,34,4,3]    # mutable     = we can assign two value at one index\n",
    "\n",
    " #tuples[2]=3   # not possible \n",
    "list[2]=78       # here it is possible \n",
    "\n"
   ]
  },
  {
   "cell_type": "code",
   "execution_count": null,
   "id": "72be67a2-b181-4ec2-88e0-e2c08b05445a",
   "metadata": {},
   "outputs": [],
   "source": [
    "14. How do you type a tuple value that only contains the integer 42?"
   ]
  },
  {
   "cell_type": "code",
   "execution_count": 8,
   "id": "3e30a8aa-4c1c-4b12-ab2c-56be909c3e22",
   "metadata": {},
   "outputs": [
    {
     "data": {
      "text/plain": [
       "42"
      ]
     },
     "execution_count": 8,
     "metadata": {},
     "output_type": "execute_result"
    }
   ],
   "source": [
    "a=(42,)\n",
    "a[0]"
   ]
  },
  {
   "cell_type": "code",
   "execution_count": null,
   "id": "d17bd40a-a5cd-410b-aa34-56e4109046c1",
   "metadata": {},
   "outputs": [],
   "source": [
    "15. How do you get a list values tuple form? How do you get a tuple value list form?"
   ]
  },
  {
   "cell_type": "code",
   "execution_count": 9,
   "id": "45c43b87-eb45-49b0-9d14-058235d68152",
   "metadata": {},
   "outputs": [
    {
     "data": {
      "text/plain": [
       "(1, 2, 3, 44, 5)"
      ]
     },
     "execution_count": 9,
     "metadata": {},
     "output_type": "execute_result"
    }
   ],
   "source": [
    "a=[1,2,3,44,5]     # list values in tuple form \n",
    "tuple(a[:])"
   ]
  },
  {
   "cell_type": "code",
   "execution_count": 26,
   "id": "281792f4-7de9-41bc-b6e2-651b5cebdecb",
   "metadata": {},
   "outputs": [
    {
     "data": {
      "text/plain": [
       "[(2, 3, 4, 5, 5)]"
      ]
     },
     "execution_count": 26,
     "metadata": {},
     "output_type": "execute_result"
    }
   ],
   "source": [
    "a=(2,3,4,5,5)\n",
    "a=[a]\n",
    "a"
   ]
  },
  {
   "cell_type": "code",
   "execution_count": null,
   "id": "6c13cd31-ac2f-49b7-a827-d82fef4fcd8b",
   "metadata": {},
   "outputs": [],
   "source": [
    "16. Variables that contain list values are not necessarily lists themselves. Instead, what do they\n",
    "contain?"
   ]
  },
  {
   "cell_type": "code",
   "execution_count": null,
   "id": "194e9b87-ab5c-4ebf-9063-96185ea9bd77",
   "metadata": {},
   "outputs": [],
   "source": [
    "they contain reference of list values.\n"
   ]
  },
  {
   "cell_type": "code",
   "execution_count": null,
   "id": "96640961-6c2e-427b-a26d-2aee2518add3",
   "metadata": {},
   "outputs": [],
   "source": [
    "17. How do you distinguish between copy.copy() and copy.deepcopy()?"
   ]
  },
  {
   "cell_type": "code",
   "execution_count": 33,
   "id": "f4f53da8-8b87-42cc-af62-b331347e173a",
   "metadata": {},
   "outputs": [
    {
     "data": {
      "text/plain": [
       "\"copy() create reference to original object. If you change copied object - you change the original object.\\ndeepcopy() creates new object and does real copying of original object to new one.\\nChanging new deepcopied object doesn't affect original object.\""
      ]
     },
     "execution_count": 33,
     "metadata": {},
     "output_type": "execute_result"
    }
   ],
   "source": [
    "\"\"\"copy() create reference to original object. If you change copied object - you change the original object.\n",
    "deepcopy() creates new object and does real copying of original object to new one.\n",
    "Changing new deepcopied object doesn't affect original object.\"\"\""
   ]
  }
 ],
 "metadata": {
  "kernelspec": {
   "display_name": "Python 3 (ipykernel)",
   "language": "python",
   "name": "python3"
  },
  "language_info": {
   "codemirror_mode": {
    "name": "ipython",
    "version": 3
   },
   "file_extension": ".py",
   "mimetype": "text/x-python",
   "name": "python",
   "nbconvert_exporter": "python",
   "pygments_lexer": "ipython3",
   "version": "3.10.6"
  }
 },
 "nbformat": 4,
 "nbformat_minor": 5
}
