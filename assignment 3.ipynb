{
 "cells": [
  {
   "cell_type": "code",
   "execution_count": null,
   "id": "fdbb47da-5ea6-4f32-901a-a5214c720952",
   "metadata": {},
   "outputs": [],
   "source": [
    "1. Why are functions advantageous to have in your programs?\n",
    "\n",
    "functions are used to increase the reusablity of code ,when we make our code as a function then we can use different argument in a \n",
    " same fuction and it help as reuse our code again and again .(it use to form bundle set of program for reusing it )"
   ]
  },
  {
   "cell_type": "code",
   "execution_count": 2,
   "id": "c27e052e-ae3f-4a99-9bc9-e0605dbea055",
   "metadata": {},
   "outputs": [
    {
     "data": {
      "text/plain": [
       "6"
      ]
     },
     "execution_count": 2,
     "metadata": {},
     "output_type": "execute_result"
    }
   ],
   "source": [
    "2. When does the code in a function run: when it specified or when it called?\n"
   ]
  },
  {
   "cell_type": "code",
   "execution_count": null,
   "id": "9d2e9e2f-6ab1-41b5-8691-21bc590c4728",
   "metadata": {},
   "outputs": [],
   "source": [
    "def sum1(a,b): # this is function specification of defining the function\n",
    "        c=a+b\n",
    "        return c\n",
    "    \n",
    "sum1(2,4)      # this is function calling , when we call the function then only it run \n"
   ]
  },
  {
   "cell_type": "code",
   "execution_count": null,
   "id": "7b35ef22-6fdd-4850-95f6-75756c1f48e6",
   "metadata": {},
   "outputs": [],
   "source": [
    "3. What statement creates a function?\n",
    "\n",
    "\n",
    "def sum2():    \n",
    "    \n",
    "    this def statement create function it means it gives the defination of the function (def ,functionname,(),:) \n",
    "    : for giving the identatation for writing the code.\n"
   ]
  },
  {
   "cell_type": "code",
   "execution_count": null,
   "id": "642d6f74-9159-4167-aae7-665805bc689d",
   "metadata": {},
   "outputs": [],
   "source": [
    "4.  What is the difference between a function and a function call?\n",
    "\n",
    "A function is a block of code that does a particular operation and returns a result. \n",
    "It usually accepts inputs as parammeter and return result.\n",
    "A function call is the code used to pass control to a function."
   ]
  },
  {
   "cell_type": "code",
   "execution_count": null,
   "id": "d7433236-d1da-431e-a342-712df4f42007",
   "metadata": {},
   "outputs": [],
   "source": [
    "5. How many global scopes are there in a Python program? How many local scopes?\n",
    "\n",
    "\n",
    "there are one local and globla scopes in python "
   ]
  },
  {
   "cell_type": "code",
   "execution_count": null,
   "id": "7fd0d175-bacf-477b-9166-353b1548091b",
   "metadata": {},
   "outputs": [],
   "source": [
    "6. What happens to variables in a local scope when the function call returns?\n",
    "\n",
    "\n",
    "after functions calls return local varible get destroyed automaticallly\n"
   ]
  },
  {
   "cell_type": "code",
   "execution_count": null,
   "id": "9295f79c-7791-48de-b578-54fd00a8d91b",
   "metadata": {},
   "outputs": [],
   "source": [
    "7. What is the concept of a return value? Is it possible to have a return value in an expression?\n",
    " \n",
    "\n",
    "return value concept is used to return a value on which further primary operations can be performed again,and \n",
    "yes that is posssible to return value in expression."
   ]
  },
  {
   "cell_type": "code",
   "execution_count": null,
   "id": "a99390c4-21cc-4f8e-94ad-323e3c844b39",
   "metadata": {},
   "outputs": [],
   "source": [
    "8. If a function does not have a return statement, what is the return value of a call to that function?\n",
    "\n",
    "\n",
    "if function not having the return the then control automatically returns to the calling function \n",
    "after the last statement of the called function is executed."
   ]
  },
  {
   "cell_type": "code",
   "execution_count": null,
   "id": "88e4d64c-94a1-4351-bac9-414d270eb8a3",
   "metadata": {},
   "outputs": [],
   "source": [
    "9. How do you make a function variable refer to the global variable?\n",
    "\n",
    "two ways:\n",
    "    1- defining it outside the all block \n",
    "    2- by using the global keyword\n",
    "    "
   ]
  },
  {
   "cell_type": "code",
   "execution_count": null,
   "id": "c55c8b3a-0928-4cd2-be8c-0a9783df9d6a",
   "metadata": {},
   "outputs": [],
   "source": [
    "10. What is the data type of None?\n",
    "it is datatype of Nonetype\n"
   ]
  },
  {
   "cell_type": "code",
   "execution_count": null,
   "id": "34b2b594-6554-40f5-88fa-6bb35699a103",
   "metadata": {},
   "outputs": [],
   "source": [
    "11. What does the sentence import areallyourpetsnamederic do?\n",
    "\n",
    "give error module nor found \n"
   ]
  },
  {
   "cell_type": "code",
   "execution_count": null,
   "id": "d982dd30-03cf-4398-a82a-095cd51bd884",
   "metadata": {},
   "outputs": [],
   "source": [
    "12. If you had a bacon() feature in a spam module, what would you call it after importing spam?\n",
    "\n",
    "import spam\n",
    "spam.bacon()\n"
   ]
  },
  {
   "cell_type": "code",
   "execution_count": null,
   "id": "b058dd32-ee67-4869-94b6-59e43b0db536",
   "metadata": {},
   "outputs": [],
   "source": [
    "13. What can you do to save a programme from crashing if it encounters an error?13. What can you do to save a programme from crashing if it encounters an error?\n",
    "\n",
    "\n",
    " with the help of exception handling we can handle the program and protect form crashing.\n",
    "    \n",
    "    by using try:\n",
    "             except:\n",
    "                else:   block \n"
   ]
  },
  {
   "cell_type": "code",
   "execution_count": null,
   "id": "ac23e4ae-1535-4cb2-b2bd-23481edae8b9",
   "metadata": {},
   "outputs": [],
   "source": [
    "14. What is the purpose of the try clause? What is the purpose of the except clause?\n",
    "\n",
    "try:   it is used to  test the  code whether it has error or not\n",
    "except: it is used to handle the error if it is there  in try block otherwise  it will not exceu"
   ]
  },
  {
   "cell_type": "code",
   "execution_count": null,
   "id": "afe38488-1e56-4e1d-aaa6-7a23cc3d988d",
   "metadata": {},
   "outputs": [],
   "source": []
  },
  {
   "cell_type": "code",
   "execution_count": null,
   "id": "a12ebb9c-23dd-422b-9eda-1609aaefcda2",
   "metadata": {},
   "outputs": [],
   "source": []
  }
 ],
 "metadata": {
  "kernelspec": {
   "display_name": "Python 3 (ipykernel)",
   "language": "python",
   "name": "python3"
  },
  "language_info": {
   "codemirror_mode": {
    "name": "ipython",
    "version": 3
   },
   "file_extension": ".py",
   "mimetype": "text/x-python",
   "name": "python",
   "nbconvert_exporter": "python",
   "pygments_lexer": "ipython3",
   "version": "3.10.6"
  }
 },
 "nbformat": 4,
 "nbformat_minor": 5
}
