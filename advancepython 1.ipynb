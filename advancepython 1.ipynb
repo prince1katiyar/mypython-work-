{
 "cells": [
  {
   "cell_type": "code",
   "execution_count": null,
   "id": "bd5d852d-449e-43a3-a28b-8373ce89b76f",
   "metadata": {},
   "outputs": [],
   "source": [
    "Q1. What is the purpose of Python OOP?"
   ]
  },
  {
   "cell_type": "code",
   "execution_count": null,
   "id": "06878f45-de14-40a0-97e1-6647b068cb0b",
   "metadata": {},
   "outputs": [],
   "source": [
    "The purpose of Python OOP (Object-Oriented Programming) is to provide a way to structure and organize complex software systems. \n",
    "OOP allows you to represent real-world objects and their interactions in code, making it easier to write and maintain large,\n",
    "complex programs. OOP is based on the concept of objects, which encapsulate data (attributes) and behavior (methods) in a single entity. \n",
    "This makes it possible to model complex systems using simple, modular components, and to reuse code across different parts of an application.\n",
    "Overall, OOP is a powerful paradigm that promotes code reusability, modularity, and maintainability."
   ]
  },
  {
   "cell_type": "code",
   "execution_count": null,
   "id": "7f24dc3d-0cff-4638-98a0-b089e0e11bb4",
   "metadata": {},
   "outputs": [],
   "source": [
    "Q2. Where does an inheritance search look for an attribute?"
   ]
  },
  {
   "cell_type": "code",
   "execution_count": null,
   "id": "3fc87071-1d68-466c-b982-1c05a45b60c8",
   "metadata": {},
   "outputs": [],
   "source": [
    "In Python, when an attribute is accessed on an object, Python looks for the attribute in the object's class,\n",
    "and then searches up the class hierarchy (i.e., its parent classes) until it finds the attribute or reaches the top of the hierarchy.\n",
    "This is known as the Method Resolution Order (MRO).\n",
    "If the attribute is not found after searching all parent classes, then an AttributeError is raised."
   ]
  },
  {
   "cell_type": "code",
   "execution_count": null,
   "id": "99904864-cea3-441c-b1ae-43c6e5f963c7",
   "metadata": {},
   "outputs": [],
   "source": [
    "Q3. How do you distinguish between a class object and an instance object?"
   ]
  },
  {
   "cell_type": "code",
   "execution_count": null,
   "id": "9ff9107e-5468-4731-a2c9-79c3e69247e0",
   "metadata": {},
   "outputs": [],
   "source": [
    "In Python, a class object is a blueprint for creating instances or objects. It defines the attributes and methods that will be shared by all instances of the class. A class object is created when the class keyword is used, followed by the name of the class.\n",
    "\n",
    "On the other hand, an instance object is a specific object created from a class. \n",
    "It is an individual instance of the class, with its own set of attributes and methods. \n",
    "An instance object is created using the name of the class followed by parentheses,\n",
    "which can include arguments if the __init__() method requires them."
   ]
  },
  {
   "cell_type": "code",
   "execution_count": null,
   "id": "880039f4-8e25-4e19-82be-d0e8ab3d235a",
   "metadata": {},
   "outputs": [],
   "source": [
    "Q4. What makes the first argument in a class’s method function special?"
   ]
  },
  {
   "cell_type": "code",
   "execution_count": null,
   "id": "a653f6bc-0920-4fbd-8a41-5047f49813f6",
   "metadata": {},
   "outputs": [],
   "source": [
    "The first argument of a class method in Python, by convention, is always the instance itself, and it's usually called self. \n",
    "This argument is used to refer to the instance of the class that the method is being called on.\n",
    "It allows the method to access and modify the object's attributes and other methods.\n",
    "When a method is called on an instance of a class, Python automatically passes the instance as the first argument to the method.\n",
    "This allows the method to work with the specific instance of the class that it was called on."
   ]
  },
  {
   "cell_type": "code",
   "execution_count": null,
   "id": "8c1617a6-13dd-460d-9c4d-c2de261acc24",
   "metadata": {},
   "outputs": [],
   "source": [
    "Q5. What is the purpose of the __init__ method?"
   ]
  },
  {
   "cell_type": "code",
   "execution_count": null,
   "id": "543f2781-4f34-46de-83de-8a63e377d8ee",
   "metadata": {},
   "outputs": [],
   "source": [
    "The __init__ method is a special method in Python classes and it's used to initialize or set up an instance of the class. \n",
    "This method is called automatically when we create an object of a class, and it takes the instance object as the first argument (usually called self) and any additional arguments needed to initialize the object."
   ]
  },
  {
   "cell_type": "code",
   "execution_count": null,
   "id": "73494cb7-466f-4201-932a-d9dfac0b7619",
   "metadata": {},
   "outputs": [],
   "source": [
    "Q6. What is the process for creating a class instance?\n"
   ]
  },
  {
   "cell_type": "code",
   "execution_count": null,
   "id": "e3063a38-d460-4be2-a02a-4a0403b0a4e1",
   "metadata": {},
   "outputs": [],
   "source": [
    "The process for creating a class instance involves calling the class name followed by parentheses, which invokes the class constructor or initializer method.\n",
    "The constructor creates the object and initializes its attributes.\n",
    "It is also possible to pass arguments to the constructor, which can be used to set the initial state of the object.\n",
    "After the object is created, it can be assigned to a variable or used directly."
   ]
  },
  {
   "cell_type": "code",
   "execution_count": null,
   "id": "0544f9ad-0348-4b61-98b3-37ba1bcf38d5",
   "metadata": {},
   "outputs": [],
   "source": [
    "Q7. What is the process for creating a class?"
   ]
  },
  {
   "cell_type": "code",
   "execution_count": null,
   "id": "bfb06f16-9f60-4055-8ca4-d82a46556922",
   "metadata": {},
   "outputs": [],
   "source": [
    " The process for creating a class involves the following steps:\n",
    "\n",
    "Start the definition of the class with the class keyword, followed by the name of the class, and a colon.\n",
    "\n",
    "Inside the class definition, define the attributes and methods of the class.\n",
    "\n",
    "Use the def keyword to define a method.\n",
    "\n",
    "All methods of a class have self as their first parameter. This parameter is a reference to the object itself, and is used to access the object's attributes.\n",
    "\n",
    "Define attributes of the class in the __init__ method.\n",
    "\n",
    "Create an instance of the class using the class name followed by parentheses."
   ]
  },
  {
   "cell_type": "code",
   "execution_count": null,
   "id": "fb7232ac-0ea4-49ba-846e-e5c138a9a6c3",
   "metadata": {},
   "outputs": [],
   "source": [
    "Q8. How would you define the superclasses of a class?"
   ]
  },
  {
   "cell_type": "code",
   "execution_count": null,
   "id": "c2b77fff-22b8-4055-ae62-3d0f745ba5e3",
   "metadata": {},
   "outputs": [],
   "source": [
    "The superclasses of a class are the classes from which it directly or indirectly inherits attributes and methods. \n",
    "They are defined in the parentheses after the class name when the class is created using the class keyword.\n",
    "If a class does not inherit from any other class, it still implicitly inherits from the built-in object class."
   ]
  },
  {
   "cell_type": "code",
   "execution_count": null,
   "id": "2de8e934-c760-438c-ad2f-54184c8757a0",
   "metadata": {},
   "outputs": [],
   "source": []
  },
  {
   "cell_type": "code",
   "execution_count": null,
   "id": "85b2d2f6-af38-4102-803b-d9ad602e0db3",
   "metadata": {},
   "outputs": [],
   "source": []
  }
 ],
 "metadata": {
  "kernelspec": {
   "display_name": "Python 3 (ipykernel)",
   "language": "python",
   "name": "python3"
  },
  "language_info": {
   "codemirror_mode": {
    "name": "ipython",
    "version": 3
   },
   "file_extension": ".py",
   "mimetype": "text/x-python",
   "name": "python",
   "nbconvert_exporter": "python",
   "pygments_lexer": "ipython3",
   "version": "3.10.6"
  }
 },
 "nbformat": 4,
 "nbformat_minor": 5
}
