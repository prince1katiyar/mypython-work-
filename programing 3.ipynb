{
 "cells": [
  {
   "cell_type": "code",
   "execution_count": null,
   "id": "839bda83-aa37-47a2-b9e1-a641a3f1dd36",
   "metadata": {},
   "outputs": [],
   "source": [
    "1. Write a Python Program to Check if a Number is Positive, Negative or Zero?"
   ]
  },
  {
   "cell_type": "code",
   "execution_count": null,
   "id": "74d4fedd-adfe-459f-9837-5f9a4a991e34",
   "metadata": {},
   "outputs": [],
   "source": [
    "num = int(input(\"enter a number u wnat to check\"))\n",
    " \n",
    "if num >0:\n",
    "    print(\" this is a positiv enumber\")\n",
    "    if num == 0:\n",
    "        print(\" this is a zero \")\n",
    "        \n",
    "else:\n",
    "    print(\"this is a negative number\")"
   ]
  },
  {
   "cell_type": "code",
   "execution_count": null,
   "id": "3a96da2d-dc2e-4127-8efe-341dd6680ee7",
   "metadata": {},
   "outputs": [],
   "source": [
    "2. Write a Python Program to Check if a Number is Odd or Even?"
   ]
  },
  {
   "cell_type": "code",
   "execution_count": 4,
   "id": "4823c644-0561-4888-9dfc-a5ca77b17ada",
   "metadata": {},
   "outputs": [
    {
     "name": "stdin",
     "output_type": "stream",
     "text": [
      "enter a number u wnat to check 23\n"
     ]
    },
    {
     "name": "stdout",
     "output_type": "stream",
     "text": [
      " this is  a odd number\n"
     ]
    }
   ],
   "source": [
    "num = int(input(\"enter a number u wnat to check\"))\n",
    "if num%2==0:\n",
    "    print(\"this is  a even \")\n",
    "else:\n",
    "    print(\" this is  a odd number\")"
   ]
  },
  {
   "cell_type": "code",
   "execution_count": null,
   "id": "874be542-3965-4692-b27f-de0c859e316a",
   "metadata": {},
   "outputs": [],
   "source": [
    "3. Write a Python Program to Check Leap Year?"
   ]
  },
  {
   "cell_type": "code",
   "execution_count": 7,
   "id": "c4bb5959-47bc-4c85-924e-c9b3d7a2ee2d",
   "metadata": {},
   "outputs": [
    {
     "name": "stdin",
     "output_type": "stream",
     "text": [
      "enter a year u wnat to check 1287\n"
     ]
    },
    {
     "name": "stdout",
     "output_type": "stream",
     "text": [
      " this is not a leap year\n"
     ]
    }
   ],
   "source": [
    "year = int(input(\"enter a year u wnat to check\"))\n",
    " \n",
    "if (year%100==0) and (year%400==0):\n",
    "    print (\"this a leap year \")\n",
    "elif (year%4==0) and (year%100 !=0):\n",
    "    print(\" this is also a leap year \")\n",
    "else:\n",
    "    print(\" this is not a leap year\")\n",
    "    "
   ]
  },
  {
   "cell_type": "code",
   "execution_count": null,
   "id": "dae6c513-7b9d-400c-805f-58e0f36371b6",
   "metadata": {},
   "outputs": [],
   "source": [
    "4. Write a Python Program to Check Prime Number?\n",
    "\n"
   ]
  },
  {
   "cell_type": "code",
   "execution_count": 45,
   "id": "4aa34934-856e-4c06-b5b1-2363ddf0f16c",
   "metadata": {},
   "outputs": [
    {
     "name": "stdin",
     "output_type": "stream",
     "text": [
      "enter a number u wnat to check:  23\n"
     ]
    },
    {
     "name": "stdout",
     "output_type": "stream",
     "text": [
      "23 this  is a prime numberb\n"
     ]
    }
   ],
   "source": [
    "num = int(input(\"enter a number u wnat to check: \"))\n",
    " \n",
    "if num >1:\n",
    "    for i in range(2,int(num/2)+1):\n",
    "        if (num %i ==0):\n",
    "            print(num,\"this is a not prime number \")\n",
    "            break\n",
    "    else:\n",
    "        print(num,\"this  is a prime numberb\")\n",
    "else:\n",
    "    print(num ,\"this is not a prime number \")"
   ]
  },
  {
   "cell_type": "code",
   "execution_count": null,
   "id": "d2485378-4b79-4f96-8b52-9127e80d303f",
   "metadata": {},
   "outputs": [],
   "source": [
    "5. Write a Python Program to Print all Prime Numbers in an Interval of 1-10000?"
   ]
  },
  {
   "cell_type": "code",
   "execution_count": 83,
   "id": "fc1ee8f7-83bf-4427-9203-cfa2d6f073c0",
   "metadata": {},
   "outputs": [
    {
     "name": "stdout",
     "output_type": "stream",
     "text": [
      "2\n",
      "3\n",
      "5\n",
      "7\n",
      "11\n",
      "13\n",
      "17\n",
      "19\n"
     ]
    }
   ],
   "source": [
    "\n",
    "\n",
    "for i in range(1,20):   # replace 20 by 10001\n",
    "    if i> 1:\n",
    "    \n",
    "        for j in range(2, int(i/2)+1):\n",
    "            if (i % j) == 0:\n",
    "        \n",
    "                break\n",
    "        else:\n",
    "            print(i)"
   ]
  },
  {
   "cell_type": "code",
   "execution_count": 88,
   "id": "45a68a0c-2f89-4e94-99a5-921f0bcb0206",
   "metadata": {},
   "outputs": [
    {
     "name": "stdout",
     "output_type": "stream",
     "text": [
      "2\n",
      "3\n",
      "5\n",
      "7\n"
     ]
    }
   ],
   "source": [
    "for  i in range(1,10):\n",
    "    if i >1:\n",
    "        for j in range(2,int(i/2)+1):\n",
    "            if (i%j)==0:\n",
    "                break\n",
    "        else:\n",
    "            print(i)"
   ]
  },
  {
   "cell_type": "code",
   "execution_count": null,
   "id": "a7345c04-df2f-4365-9b4d-5868fa428b9e",
   "metadata": {},
   "outputs": [],
   "source": []
  }
 ],
 "metadata": {
  "kernelspec": {
   "display_name": "Python 3 (ipykernel)",
   "language": "python",
   "name": "python3"
  },
  "language_info": {
   "codemirror_mode": {
    "name": "ipython",
    "version": 3
   },
   "file_extension": ".py",
   "mimetype": "text/x-python",
   "name": "python",
   "nbconvert_exporter": "python",
   "pygments_lexer": "ipython3",
   "version": "3.10.6"
  }
 },
 "nbformat": 4,
 "nbformat_minor": 5
}
