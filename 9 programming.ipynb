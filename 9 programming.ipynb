{
 "cells": [
  {
   "cell_type": "code",
   "execution_count": null,
   "id": "26a59334-e900-41f0-b9cf-b54a59d470da",
   "metadata": {},
   "outputs": [],
   "source": [
    "1. Write a Python program to check if the given number is a Disarium Number?"
   ]
  },
  {
   "cell_type": "code",
   "execution_count": 1,
   "id": "eca51d04-8a2d-43e8-9ea7-dad5692bf3de",
   "metadata": {},
   "outputs": [
    {
     "name": "stdout",
     "output_type": "stream",
     "text": [
      "Disarium Number\n"
     ]
    }
   ],
   "source": [
    "import math\n",
    "\n",
    "\n",
    "def check(n) :\n",
    "\n",
    "\tcount_digits = len(str(n))\n",
    "\t\n",
    "\t\n",
    "\tsum = 0 \n",
    "\tx = n\n",
    "\twhile (x!=0) :\n",
    "\n",
    "\n",
    "\t\tr = x % 10\n",
    "\t\t\n",
    "\t\n",
    "\t\tsum = (sum + math.pow(r, count_digits))\n",
    "\t\tcount_digits = count_digits - 1\n",
    "\t\tx = x//10\n",
    "        \n",
    "        \n",
    "\tif sum == n :\n",
    "\t\treturn 1\n",
    "\telse :\n",
    "\t\treturn 0\n",
    "\t\n",
    "\n",
    "n = 0\n",
    "if (check(n) == 1) :\n",
    "\tprint (\"Disarium Number\")\n",
    "else :\n",
    "\tprint (\"Not a Disarium Number\")\n",
    "\n"
   ]
  },
  {
   "cell_type": "code",
   "execution_count": null,
   "id": "d78ffe82-6697-4544-b97d-3cec52073e84",
   "metadata": {},
   "outputs": [],
   "source": [
    "2. Write a Python program to print all disarium numbers between 1 to 100?"
   ]
  },
  {
   "cell_type": "code",
   "execution_count": 27,
   "id": "d174f589-4f15-4aba-a0e5-09523f926522",
   "metadata": {},
   "outputs": [
    {
     "name": "stdout",
     "output_type": "stream",
     "text": [
      "Disarium Number\n",
      "1\n",
      "2\n",
      "3\n",
      "4\n",
      "5\n",
      "6\n",
      "7\n",
      "8\n",
      "9\n",
      "89\n"
     ]
    }
   ],
   "source": [
    "import math\n",
    "\n",
    "\n",
    "def check(n) :\n",
    "\n",
    "\tcount_digits = len(str(n))\n",
    "\t\n",
    "\t\n",
    "\tsum = 0 \n",
    "\tx = n\n",
    "\twhile (x!=0) :\n",
    "\n",
    "\n",
    "\t\tr = x % 10\n",
    "\t\t\n",
    "\t\n",
    "\t\tsum = (sum + math.pow(r, count_digits))\n",
    "\t\tcount_digits = count_digits - 1\n",
    "\t\tx = x//10\n",
    "        \n",
    "        \n",
    "\tif sum == n :\n",
    "\t\treturn 1\n",
    "\telse :\n",
    "\t\treturn 0\n",
    "\t\n",
    "\n",
    "n = 135\n",
    "if (check(n) == 1) :\n",
    "\tprint (\"Disarium Number\")\n",
    "else :\n",
    "\tprint (\"Not a Disarium Number\")\n",
    "\n",
    "for  n in range (1,101):\n",
    "    if (check(n) == 1):\n",
    "        print(n)"
   ]
  },
  {
   "cell_type": "code",
   "execution_count": null,
   "id": "8cda6f0f-3d6e-4f5a-8999-cb7e0ef8a898",
   "metadata": {},
   "outputs": [],
   "source": [
    "3. Write a Python program to check if the given number is Happy Number?\n",
    "\n"
   ]
  },
  {
   "cell_type": "code",
   "execution_count": 1,
   "id": "7fccde97-64ed-4d85-a5ec-b96af86e2829",
   "metadata": {},
   "outputs": [
    {
     "name": "stdout",
     "output_type": "stream",
     "text": [
      "13 is a Happy number\n"
     ]
    }
   ],
   "source": [
    "\n",
    "def isHappynumber(n):\n",
    "\tif n == 1 or n == 7:\n",
    "\t\treturn True\n",
    "\t\t\n",
    "\tSum, x = n, n\n",
    "\n",
    "\twhile Sum > 9:\n",
    "\t\tSum = 0\n",
    "\t\t\n",
    "\t\twhile x > 0:\n",
    "\t\t\td = x % 10\n",
    "\t\t\tSum += d * d\n",
    "\t\t\tx = int(x / 10)\n",
    "\t\t\n",
    "\t\tif Sum == 1:\n",
    "\t\t\treturn True\n",
    "\t\t\t\n",
    "\t\tx = Sum\n",
    "\t\n",
    "\tif Sum == 7:\n",
    "\t\treturn True\n",
    "\t\t\n",
    "\treturn False\n",
    "\n",
    "n = 13\n",
    "\t\n",
    "if isHappynumber(n):\n",
    "\tprint(n, \"is a Happy number\")\n",
    "else:\n",
    "\tprint(n, \"is not a Happy number\")\n",
    "\t\n",
    "\n"
   ]
  },
  {
   "cell_type": "code",
   "execution_count": null,
   "id": "0d2c7c0f-f245-4d4b-9899-da7942742222",
   "metadata": {},
   "outputs": [],
   "source": [
    "4. Write a Python program to print all happy numbers between 1 and 100?"
   ]
  },
  {
   "cell_type": "code",
   "execution_count": 4,
   "id": "3a83d469-7dea-4cf2-9fdd-e2b170d5cd4d",
   "metadata": {},
   "outputs": [
    {
     "name": "stdout",
     "output_type": "stream",
     "text": [
      "List of happy numbers between 1 and 100: \n",
      "1\n",
      "  7\n",
      "  10\n",
      "  13\n",
      "  19\n",
      "  23\n",
      "  28\n",
      "  31\n",
      "  32\n",
      "  44\n",
      "  49\n",
      "  68\n",
      "  70\n",
      "  79\n",
      "  82\n",
      "  86\n",
      "  91\n",
      "  94\n",
      "  97\n",
      "  100\n",
      "  "
     ]
    }
   ],
   "source": [
    "   def isHappyNumber(num):   \n",
    "    rem = sum = 0;    \n",
    "\n",
    "    while(num > 0):    \n",
    "        rem = num%10;    \n",
    "        sum = sum + (rem*rem);    \n",
    "        num = num//10;    \n",
    "    return sum;    \n",
    "             \n",
    "print(\"List of happy numbers between 1 and 100: \");    \n",
    "for i in range(1, 101):    \n",
    "    result = i;    \n",
    "   \n",
    "    while(result != 1 and result != 4):    \n",
    "        result = isHappyNumber(result);    \n",
    "        \n",
    "    if(result == 1):    \n",
    "        print(i),    \n",
    "        print(\" \", end=\" \") \n",
    "        \n",
    "        \n",
    "        \n",
    "        "
   ]
  },
  {
   "cell_type": "code",
   "execution_count": null,
   "id": "6cd9baf8-0af8-4957-8df4-ec51e1383d5c",
   "metadata": {},
   "outputs": [],
   "source": [
    "5. Write a Python program to determine whether the given number is a Harshad Number?"
   ]
  },
  {
   "cell_type": "code",
   "execution_count": 19,
   "id": "138db84c-ca41-4b30-afe1-780517d9d454",
   "metadata": {},
   "outputs": [
    {
     "name": "stdout",
     "output_type": "stream",
     "text": [
      "yes\n"
     ]
    }
   ],
   "source": [
    "def check (n):\n",
    "    sum = 0\n",
    "    temp = n\n",
    "    while (temp >0):\n",
    "        sum = sum + temp %2\n",
    "        temp = temp //10\n",
    "        \n",
    "    return (n % sum == 0) \n",
    "\n",
    "if check(12):\n",
    "    print(\"yes\")\n",
    "else:\n",
    "    print(\"no\")"
   ]
  },
  {
   "cell_type": "code",
   "execution_count": null,
   "id": "dd17d0dc-37f9-4701-80f1-69c68c2a2112",
   "metadata": {},
   "outputs": [],
   "source": [
    "6. Write a Python program to print all pronic numbers between 1 and 100?\n"
   ]
  },
  {
   "cell_type": "code",
   "execution_count": 53,
   "id": "ea2dc83d-59d6-4938-9391-29a5392a6bc0",
   "metadata": {},
   "outputs": [
    {
     "name": "stdout",
     "output_type": "stream",
     "text": [
      "0 2 6 12 20 30 42 56 72 90 110 132 156 182 "
     ]
    }
   ],
   "source": [
    "import math\n",
    "\n",
    "def checkPronic (x) :\n",
    "\n",
    "\ti = 0\n",
    "\twhile ( i <= (math.sqrt(x)) ) :\n",
    "\t\t\n",
    "\t\n",
    "\t\tif ( x == i * (i + 1)) :\n",
    "\t\t\treturn True\n",
    "\t\ti = i + 1\n",
    "\n",
    "\treturn False\n",
    "\n",
    "\n",
    "i = 0\n",
    "while (i <= 200 ) :\n",
    "\tif checkPronic(i) :\n",
    "\t\tprint(i,end=\" \")\n",
    "\ti = i + 1\n",
    "\n"
   ]
  },
  {
   "cell_type": "code",
   "execution_count": 56,
   "id": "ec262a69-b532-4303-8e20-feffeec12e93",
   "metadata": {},
   "outputs": [],
   "source": [
    "import math\n",
    "def checkpronic(x):\n",
    "    i =0\n",
    "    while (i<= (math.sqrt(x))):\n",
    "        \n",
    "        if (x == i *(i+1)):\n",
    "            return True\n",
    "        i = i+1\n",
    "    return False\n",
    "\n",
    "i = 0\n",
    "while (i <100):\n",
    "    print()"
   ]
  },
  {
   "cell_type": "code",
   "execution_count": 57,
   "id": "0d5bb9c9-5a2e-44e2-9711-89df5f89a9c2",
   "metadata": {},
   "outputs": [
    {
     "data": {
      "text/plain": [
       "True"
      ]
     },
     "execution_count": 57,
     "metadata": {},
     "output_type": "execute_result"
    }
   ],
   "source": [
    "checkpronic(6)"
   ]
  },
  {
   "cell_type": "code",
   "execution_count": null,
   "id": "bda6a23b-6f32-43b6-acb3-d8fde80ffbbf",
   "metadata": {},
   "outputs": [],
   "source": []
  }
 ],
 "metadata": {
  "kernelspec": {
   "display_name": "Python 3 (ipykernel)",
   "language": "python",
   "name": "python3"
  },
  "language_info": {
   "codemirror_mode": {
    "name": "ipython",
    "version": 3
   },
   "file_extension": ".py",
   "mimetype": "text/x-python",
   "name": "python",
   "nbconvert_exporter": "python",
   "pygments_lexer": "ipython3",
   "version": "3.10.6"
  }
 },
 "nbformat": 4,
 "nbformat_minor": 5
}
